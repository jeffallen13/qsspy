{
 "cells": [
  {
   "cell_type": "markdown",
   "metadata": {},
   "source": [
    "## Section 5.1: Textual Data {-}\n",
    "\n",
    "### Section 5.1.1: The Disputed Authorship of ‘The Federalist Papers’ {-}\n",
    "\n",
    "#### Importing textual data into a DataFrame {-}"
   ]
  },
  {
   "cell_type": "code",
   "execution_count": 1,
   "metadata": {},
   "outputs": [
    {
     "data": {
      "text/plain": [
       "'AMONG the numerous advantages promised by a well-constructed Union, none \\n        deserves to be mor'"
      ]
     },
     "execution_count": 1,
     "metadata": {},
     "output_type": "execute_result"
    }
   ],
   "source": [
    "import pandas as pd\n",
    "import numpy as np\n",
    "import glob\n",
    "\n",
    "# Get a list of all txt files in the federalist directory\n",
    "file_paths = glob.glob('federalist/*.txt')\n",
    "\n",
    "# Create an empty list\n",
    "file_contents = []\n",
    "\n",
    "# Read txt files into the empty list\n",
    "for file in file_paths:\n",
    "    # with: open and close file automatically\n",
    "    # open(file, 'r'): open file in read mode\n",
    "    # assign opened file to f\n",
    "    with open(file, 'r') as f:\n",
    "        file_contents.append(f.read())\n",
    "\n",
    "# Take a look at the first 100 characters of essay number 10\n",
    "file_contents[9][:100]"
   ]
  },
  {
   "cell_type": "code",
   "execution_count": 2,
   "metadata": {},
   "outputs": [
    {
     "data": {
      "text/html": [
       "<div>\n",
       "<style scoped>\n",
       "    .dataframe tbody tr th:only-of-type {\n",
       "        vertical-align: middle;\n",
       "    }\n",
       "\n",
       "    .dataframe tbody tr th {\n",
       "        vertical-align: top;\n",
       "    }\n",
       "\n",
       "    .dataframe thead th {\n",
       "        text-align: right;\n",
       "    }\n",
       "</style>\n",
       "<table border=\"1\" class=\"dataframe\">\n",
       "  <thead>\n",
       "    <tr style=\"text-align: right;\">\n",
       "      <th></th>\n",
       "      <th>fed_num</th>\n",
       "      <th>author</th>\n",
       "      <th>text</th>\n",
       "    </tr>\n",
       "  </thead>\n",
       "  <tbody>\n",
       "    <tr>\n",
       "      <th>0</th>\n",
       "      <td>1</td>\n",
       "      <td>Hamilton</td>\n",
       "      <td>AFTER an unequivocal experience of the ineffic...</td>\n",
       "    </tr>\n",
       "    <tr>\n",
       "      <th>1</th>\n",
       "      <td>2</td>\n",
       "      <td>Jay</td>\n",
       "      <td>WHEN the people of America reflect that they a...</td>\n",
       "    </tr>\n",
       "    <tr>\n",
       "      <th>2</th>\n",
       "      <td>3</td>\n",
       "      <td>Jay</td>\n",
       "      <td>IT IS not a new observation that the people of...</td>\n",
       "    </tr>\n",
       "    <tr>\n",
       "      <th>3</th>\n",
       "      <td>4</td>\n",
       "      <td>Jay</td>\n",
       "      <td>MY LAST paper assigned several reasons why the...</td>\n",
       "    </tr>\n",
       "    <tr>\n",
       "      <th>4</th>\n",
       "      <td>5</td>\n",
       "      <td>Jay</td>\n",
       "      <td>QUEEN ANNE, in her letter of the 1st July, 170...</td>\n",
       "    </tr>\n",
       "    <tr>\n",
       "      <th>...</th>\n",
       "      <td>...</td>\n",
       "      <td>...</td>\n",
       "      <td>...</td>\n",
       "    </tr>\n",
       "    <tr>\n",
       "      <th>80</th>\n",
       "      <td>81</td>\n",
       "      <td>Hamilton</td>\n",
       "      <td>LET US now return to the partition of the judi...</td>\n",
       "    </tr>\n",
       "    <tr>\n",
       "      <th>81</th>\n",
       "      <td>82</td>\n",
       "      <td>Hamilton</td>\n",
       "      <td>THE erection of a new government, whatever car...</td>\n",
       "    </tr>\n",
       "    <tr>\n",
       "      <th>82</th>\n",
       "      <td>83</td>\n",
       "      <td>Hamilton</td>\n",
       "      <td>THE objection to the plan of the convention, w...</td>\n",
       "    </tr>\n",
       "    <tr>\n",
       "      <th>83</th>\n",
       "      <td>84</td>\n",
       "      <td>Hamilton</td>\n",
       "      <td>IN THE course of the foregoing review of the C...</td>\n",
       "    </tr>\n",
       "    <tr>\n",
       "      <th>84</th>\n",
       "      <td>85</td>\n",
       "      <td>Hamilton</td>\n",
       "      <td>ACCORDING to the formal division of the subjec...</td>\n",
       "    </tr>\n",
       "  </tbody>\n",
       "</table>\n",
       "<p>85 rows × 3 columns</p>\n",
       "</div>"
      ],
      "text/plain": [
       "    fed_num    author                                               text\n",
       "0         1  Hamilton  AFTER an unequivocal experience of the ineffic...\n",
       "1         2       Jay  WHEN the people of America reflect that they a...\n",
       "2         3       Jay  IT IS not a new observation that the people of...\n",
       "3         4       Jay  MY LAST paper assigned several reasons why the...\n",
       "4         5       Jay  QUEEN ANNE, in her letter of the 1st July, 170...\n",
       "..      ...       ...                                                ...\n",
       "80       81  Hamilton  LET US now return to the partition of the judi...\n",
       "81       82  Hamilton  THE erection of a new government, whatever car...\n",
       "82       83  Hamilton  THE objection to the plan of the convention, w...\n",
       "83       84  Hamilton  IN THE course of the foregoing review of the C...\n",
       "84       85  Hamilton  ACCORDING to the formal division of the subjec...\n",
       "\n",
       "[85 rows x 3 columns]"
      ]
     },
     "execution_count": 2,
     "metadata": {},
     "output_type": "execute_result"
    }
   ],
   "source": [
    "# Create a data frame with essay number, a placeholder for author, and the text\n",
    "federalist = pd.DataFrame({'fed_num': np.arange(1,86), 'author': None,\n",
    "                           'text': file_contents})\n",
    "\n",
    "# store authorship information\n",
    "hamilton = ([1] + list(range(6,10)) + list(range(11, 14)) + \n",
    "            list(range(15, 18)) + list(range(21, 37)) + list(range(59, 62)) + \n",
    "            list(range(65, 86)))\n",
    "\n",
    "madison = [10] + [14] + list(range(37, 49)) + [58]\n",
    "\n",
    "jay = list(range(2,6)) + [64]\n",
    "\n",
    "joint = [18, 19, 20] # Madison and Hamilton\n",
    "\n",
    "# store conditions for authorship\n",
    "conditions = [\n",
    "      federalist['fed_num'].isin(hamilton),\n",
    "      federalist['fed_num'].isin(madison),\n",
    "      federalist['fed_num'].isin(jay),\n",
    "      federalist['fed_num'].isin(joint)\n",
    "]\n",
    "\n",
    "choices  = ['Hamilton', 'Madison', 'Jay', 'Joint']\n",
    "\n",
    "# populate the author column; assign 'Disputed' to unassigned essays\n",
    "federalist['author'] = np.select(conditions, choices, 'Disputed')\n",
    "\n",
    "federalist"
   ]
  },
  {
   "cell_type": "code",
   "execution_count": 3,
   "metadata": {},
   "outputs": [
    {
     "data": {
      "text/plain": [
       "author\n",
       "Hamilton    51\n",
       "Madison     15\n",
       "Disputed    11\n",
       "Jay          5\n",
       "Joint        3\n",
       "Name: count, dtype: int64"
      ]
     },
     "execution_count": 3,
     "metadata": {},
     "output_type": "execute_result"
    }
   ],
   "source": [
    "federalist['author'].value_counts()"
   ]
  },
  {
   "cell_type": "markdown",
   "metadata": {},
   "source": [
    "#### Pre-processing textual data {-}"
   ]
  },
  {
   "cell_type": "code",
   "execution_count": 4,
   "metadata": {},
   "outputs": [
    {
     "data": {
      "text/html": [
       "<div>\n",
       "<style scoped>\n",
       "    .dataframe tbody tr th:only-of-type {\n",
       "        vertical-align: middle;\n",
       "    }\n",
       "\n",
       "    .dataframe tbody tr th {\n",
       "        vertical-align: top;\n",
       "    }\n",
       "\n",
       "    .dataframe thead th {\n",
       "        text-align: right;\n",
       "    }\n",
       "</style>\n",
       "<table border=\"1\" class=\"dataframe\">\n",
       "  <thead>\n",
       "    <tr style=\"text-align: right;\">\n",
       "      <th></th>\n",
       "      <th>text</th>\n",
       "      <th>text_processed</th>\n",
       "    </tr>\n",
       "  </thead>\n",
       "  <tbody>\n",
       "    <tr>\n",
       "      <th>0</th>\n",
       "      <td>AFTER an unequivocal experience of the ineffic...</td>\n",
       "      <td>after an unequivocal experience of the ineffic...</td>\n",
       "    </tr>\n",
       "    <tr>\n",
       "      <th>1</th>\n",
       "      <td>WHEN the people of America reflect that they a...</td>\n",
       "      <td>when the people of america reflect that they a...</td>\n",
       "    </tr>\n",
       "    <tr>\n",
       "      <th>2</th>\n",
       "      <td>IT IS not a new observation that the people of...</td>\n",
       "      <td>it is not a new observation that the people of...</td>\n",
       "    </tr>\n",
       "    <tr>\n",
       "      <th>3</th>\n",
       "      <td>MY LAST paper assigned several reasons why the...</td>\n",
       "      <td>my last paper assigned several reasons why the...</td>\n",
       "    </tr>\n",
       "    <tr>\n",
       "      <th>4</th>\n",
       "      <td>QUEEN ANNE, in her letter of the 1st July, 170...</td>\n",
       "      <td>queen anne in her letter of the 1st july 1706 ...</td>\n",
       "    </tr>\n",
       "  </tbody>\n",
       "</table>\n",
       "</div>"
      ],
      "text/plain": [
       "                                                text  \\\n",
       "0  AFTER an unequivocal experience of the ineffic...   \n",
       "1  WHEN the people of America reflect that they a...   \n",
       "2  IT IS not a new observation that the people of...   \n",
       "3  MY LAST paper assigned several reasons why the...   \n",
       "4  QUEEN ANNE, in her letter of the 1st July, 170...   \n",
       "\n",
       "                                      text_processed  \n",
       "0  after an unequivocal experience of the ineffic...  \n",
       "1  when the people of america reflect that they a...  \n",
       "2  it is not a new observation that the people of...  \n",
       "3  my last paper assigned several reasons why the...  \n",
       "4  queen anne in her letter of the 1st july 1706 ...  "
      ]
     },
     "execution_count": 4,
     "metadata": {},
     "output_type": "execute_result"
    }
   ],
   "source": [
    "import re # regular expressions\n",
    "import string # string manipulation\n",
    "import nltk # natural language toolkit\n",
    "\n",
    "# Pre-process the text using regular expressions, list comprehensions, apply() \n",
    "\n",
    "# make lower case and remove punctuation\n",
    "federalist['text_processed'] = (\n",
    "    federalist['text'].apply(lambda x: \"\".join(\n",
    "        [word.lower() for word in x if word not in string.punctuation])\n",
    "    )\n",
    ")\n",
    "\n",
    "federalist[['text', 'text_processed']].head()"
   ]
  },
  {
   "cell_type": "code",
   "execution_count": 5,
   "metadata": {},
   "outputs": [
    {
     "data": {
      "text/plain": [
       "['i', 'me', 'my', 'myself', 'we', 'our', 'ours', 'ourselves', 'you', \"you're\"]"
      ]
     },
     "execution_count": 5,
     "metadata": {},
     "output_type": "execute_result"
    }
   ],
   "source": [
    "# download stopwords: only need to run once\n",
    "# nltk.download('stopwords')\n",
    "\n",
    "# save and inspect stopwords\n",
    "stopwords = nltk.corpus.stopwords.words('english')\n",
    "stopwords[:10]"
   ]
  },
  {
   "cell_type": "code",
   "execution_count": 6,
   "metadata": {},
   "outputs": [
    {
     "data": {
      "text/html": [
       "<div>\n",
       "<style scoped>\n",
       "    .dataframe tbody tr th:only-of-type {\n",
       "        vertical-align: middle;\n",
       "    }\n",
       "\n",
       "    .dataframe tbody tr th {\n",
       "        vertical-align: top;\n",
       "    }\n",
       "\n",
       "    .dataframe thead th {\n",
       "        text-align: right;\n",
       "    }\n",
       "</style>\n",
       "<table border=\"1\" class=\"dataframe\">\n",
       "  <thead>\n",
       "    <tr style=\"text-align: right;\">\n",
       "      <th></th>\n",
       "      <th>text</th>\n",
       "      <th>text_processed</th>\n",
       "    </tr>\n",
       "  </thead>\n",
       "  <tbody>\n",
       "    <tr>\n",
       "      <th>0</th>\n",
       "      <td>AFTER an unequivocal experience of the ineffic...</td>\n",
       "      <td>[unequivoc, experi, ineffici, subsist, feder, ...</td>\n",
       "    </tr>\n",
       "    <tr>\n",
       "      <th>1</th>\n",
       "      <td>WHEN the people of America reflect that they a...</td>\n",
       "      <td>[peopl, america, reflect, call, upon, decid, q...</td>\n",
       "    </tr>\n",
       "    <tr>\n",
       "      <th>2</th>\n",
       "      <td>IT IS not a new observation that the people of...</td>\n",
       "      <td>[new, observ, peopl, countri, like, american, ...</td>\n",
       "    </tr>\n",
       "    <tr>\n",
       "      <th>3</th>\n",
       "      <td>MY LAST paper assigned several reasons why the...</td>\n",
       "      <td>[last, paper, assign, sever, reason, safeti, p...</td>\n",
       "    </tr>\n",
       "    <tr>\n",
       "      <th>4</th>\n",
       "      <td>QUEEN ANNE, in her letter of the 1st July, 170...</td>\n",
       "      <td>[queen, ann, letter, st, juli, scotch, parliam...</td>\n",
       "    </tr>\n",
       "  </tbody>\n",
       "</table>\n",
       "</div>"
      ],
      "text/plain": [
       "                                                text  \\\n",
       "0  AFTER an unequivocal experience of the ineffic...   \n",
       "1  WHEN the people of America reflect that they a...   \n",
       "2  IT IS not a new observation that the people of...   \n",
       "3  MY LAST paper assigned several reasons why the...   \n",
       "4  QUEEN ANNE, in her letter of the 1st July, 170...   \n",
       "\n",
       "                                      text_processed  \n",
       "0  [unequivoc, experi, ineffici, subsist, feder, ...  \n",
       "1  [peopl, america, reflect, call, upon, decid, q...  \n",
       "2  [new, observ, peopl, countri, like, american, ...  \n",
       "3  [last, paper, assign, sever, reason, safeti, p...  \n",
       "4  [queen, ann, letter, st, juli, scotch, parliam...  "
      ]
     },
     "execution_count": 6,
     "metadata": {},
     "output_type": "execute_result"
    }
   ],
   "source": [
    "# instantiate the Porter stemmer to stem the words\n",
    "ps = nltk.PorterStemmer()\n",
    "\n",
    "'''\n",
    "It is more efficient to define a function to apply to the text column than to \n",
    "use a lambda function for every step. \n",
    "'''\n",
    "def preprocess_text(text):\n",
    "    # make lower case\n",
    "    text = text.lower()\n",
    "    # remove punctuation\n",
    "    text = \"\".join([word for word in text if word not in string.punctuation])\n",
    "    # remove numbers \n",
    "    text = re.sub('[0-9]+', '', text)\n",
    "    # create a list of individual tokens, removing whitespace\n",
    "    tokens = re.split('\\W+', text)\n",
    "    # remove stopwords\n",
    "    tokens = [word for word in tokens if word not in stopwords]\n",
    "    # finally, stem each word\n",
    "    tokens = [ps.stem(word) for word in tokens]\n",
    "    return tokens\n",
    "\n",
    "# apply function to the text column; no need for lambda with a named function\n",
    "federalist['text_processed'] = federalist['text'].apply(preprocess_text)\n",
    "\n",
    "federalist[['text', 'text_processed']].head()"
   ]
  },
  {
   "cell_type": "code",
   "execution_count": 7,
   "metadata": {},
   "outputs": [
    {
     "data": {
      "text/plain": [
       "list"
      ]
     },
     "execution_count": 7,
     "metadata": {},
     "output_type": "execute_result"
    }
   ],
   "source": [
    "# each element of the text_processed column is a list of tokens\n",
    "type(federalist['text_processed'][0])"
   ]
  },
  {
   "cell_type": "code",
   "execution_count": 8,
   "metadata": {},
   "outputs": [
    {
     "data": {
      "text/plain": [
       "['among',\n",
       " 'numer',\n",
       " 'advantag',\n",
       " 'promis',\n",
       " 'wellconstruct',\n",
       " 'union',\n",
       " 'none',\n",
       " 'deserv',\n",
       " 'accur',\n",
       " 'develop',\n",
       " 'tendenc',\n",
       " 'break',\n",
       " 'control',\n",
       " 'violenc',\n",
       " 'faction']"
      ]
     },
     "execution_count": 8,
     "metadata": {},
     "output_type": "execute_result"
    }
   ],
   "source": [
    "# compare the pre-processed text to the original text for essay number 10\n",
    "federalist['text_processed'][9][:15]"
   ]
  },
  {
   "cell_type": "code",
   "execution_count": 9,
   "metadata": {},
   "outputs": [
    {
     "data": {
      "text/plain": [
       "'AMONG the numerous advantages promised by a well-constructed Union, none \\n        deserves to be mor'"
      ]
     },
     "execution_count": 9,
     "metadata": {},
     "output_type": "execute_result"
    }
   ],
   "source": [
    "federalist['text'][9][:100]"
   ]
  },
  {
   "cell_type": "markdown",
   "metadata": {},
   "source": [
    "### Section 5.1.2: Document-Term Matrix {-}\n",
    "\n",
    "**In Progress**"
   ]
  }
 ],
 "metadata": {
  "authors": [
   {
    "name": "Kosuke Imai"
   },
   {
    "name": "Python code by Jeff Allen"
   }
  ],
  "date": "First Printing",
  "kernelspec": {
   "display_name": "qss",
   "language": "python",
   "name": "python3"
  },
  "language_info": {
   "codemirror_mode": {
    "name": "ipython",
    "version": 3
   },
   "file_extension": ".py",
   "mimetype": "text/x-python",
   "name": "python",
   "nbconvert_exporter": "python",
   "pygments_lexer": "ipython3",
   "version": "3.10.11"
  },
  "orig_nbformat": 4,
  "title": "Python Code for QSS Chapter 5: Discovery"
 },
 "nbformat": 4,
 "nbformat_minor": 2
}
