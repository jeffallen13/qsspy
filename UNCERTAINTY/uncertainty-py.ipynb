{
 "cells": [
  {
   "cell_type": "code",
   "execution_count": 1,
   "metadata": {},
   "outputs": [],
   "source": [
    "import pandas as pd\n",
    "import numpy as np\n",
    "from scipy import stats\n",
    "import matplotlib.pyplot as plt\n",
    "import seaborn as sns"
   ]
  },
  {
   "cell_type": "markdown",
   "metadata": {},
   "source": [
    "## Section 7.1: Estimation {-}\n",
    "\n",
    "### Section 7.1.1: Unbiasedness and Consistency {-}"
   ]
  },
  {
   "cell_type": "code",
   "execution_count": 2,
   "metadata": {},
   "outputs": [
    {
     "data": {
      "text/plain": [
       "1.0153226731200102"
      ]
     },
     "execution_count": 2,
     "metadata": {},
     "output_type": "execute_result"
    }
   ],
   "source": [
    "# simulation parameters\n",
    "n = 100 # sample size\n",
    "mu0 = 0 # mean of Y_i(0)\n",
    "sd0 = 1 # standard deviation of Y_i(0)\n",
    "mu1 = 1 # mean of Y_i(1)\n",
    "sd1 = 1 # standard deviation of Y_i(1)\n",
    "\n",
    "# generate a sample \n",
    "Y0 = stats.norm.rvs(size=n, loc=mu0, scale=sd0)\n",
    "Y1 = stats.norm.rvs(size=n, loc=mu1, scale=sd1)\n",
    "tau = Y1 - Y0 # individual treatment effect\n",
    "# true value of the sample average treatment effect\n",
    "SATE = tau.mean()\n",
    "SATE"
   ]
  },
  {
   "cell_type": "code",
   "execution_count": 3,
   "metadata": {},
   "outputs": [
    {
     "data": {
      "text/plain": [
       "-0.0018398511376303795"
      ]
     },
     "execution_count": 3,
     "metadata": {},
     "output_type": "execute_result"
    }
   ],
   "source": [
    "# repeatedly conduct randomized controlled trials\n",
    "sims = 5000 # repeat 5,000 times, we could do more\n",
    "diff_means = np.zeros(sims) # container \n",
    "sample_vector = np.concatenate((np.ones(int(n/2)), np.zeros(int(n/2))))\n",
    "\n",
    "for i in range(sims):\n",
    "    # randomize the treatment by sampling of a vector of 0's and 1's\n",
    "    treat = np.random.choice(sample_vector, size=n, replace=False)\n",
    "    # difference-in-means\n",
    "    diff_means[i] = Y1[treat==1].mean() - Y0[treat==0].mean()\n",
    "\n",
    "# estimation of error for SATE\n",
    "est_error = diff_means - SATE\n",
    "\n",
    "est_error.mean()"
   ]
  },
  {
   "cell_type": "code",
   "execution_count": 4,
   "metadata": {},
   "outputs": [
    {
     "data": {
      "text/plain": [
       "count    5000.00000\n",
       "mean       -0.00184\n",
       "std         0.13689\n",
       "min        -0.49622\n",
       "25%        -0.09389\n",
       "50%        -0.00147\n",
       "75%         0.09099\n",
       "max         0.54406\n",
       "dtype: float64"
      ]
     },
     "execution_count": 4,
     "metadata": {},
     "output_type": "execute_result"
    }
   ],
   "source": [
    "pd.Series(est_error).describe().round(5)"
   ]
  },
  {
   "cell_type": "code",
   "execution_count": 5,
   "metadata": {},
   "outputs": [
    {
     "data": {
      "text/plain": [
       "0.0038721877183831173"
      ]
     },
     "execution_count": 5,
     "metadata": {},
     "output_type": "execute_result"
    }
   ],
   "source": [
    "# PATE simulation\n",
    "PATE = mu1 - mu0\n",
    "diff_means = np.zeros(sims)\n",
    "\n",
    "for i in range(sims):\n",
    "    # generate a sample for each simulation \n",
    "    Y0 = stats.norm.rvs(size=n, loc=mu0, scale=sd0)\n",
    "    Y1 = stats.norm.rvs(size=n, loc=mu1, scale=sd1)\n",
    "    treat = np.random.choice(sample_vector, size=n, replace=False)\n",
    "    diff_means[i] = Y1[treat==1].mean() - Y0[treat==0].mean()\n",
    "\n",
    "# estimation error for PATE\n",
    "est_error = diff_means - PATE\n",
    "\n",
    "# unbiased\n",
    "est_error.mean()"
   ]
  },
  {
   "cell_type": "code",
   "execution_count": 6,
   "metadata": {},
   "outputs": [
    {
     "data": {
      "text/plain": [
       "count    5000.00000\n",
       "mean        0.00387\n",
       "std         0.20121\n",
       "min        -0.74830\n",
       "25%        -0.12948\n",
       "50%         0.00388\n",
       "75%         0.13356\n",
       "max         0.74737\n",
       "dtype: float64"
      ]
     },
     "execution_count": 6,
     "metadata": {},
     "output_type": "execute_result"
    }
   ],
   "source": [
    "pd.Series(est_error).describe().round(5)"
   ]
  },
  {
   "cell_type": "markdown",
   "metadata": {},
   "source": [
    "### Section 7.1.2: Standard Error {-}"
   ]
  },
  {
   "cell_type": "code",
   "execution_count": 7,
   "metadata": {},
   "outputs": [
    {
     "data": {
      "text/plain": [
       "<matplotlib.lines.Line2D at 0x1ab97747c10>"
      ]
     },
     "execution_count": 7,
     "metadata": {},
     "output_type": "execute_result"
    },
    {
     "data": {
      "image/png": "[encoded data removed]",
      "text/plain": [
       "<Figure size 600x400 with 1 Axes>"
      ]
     },
     "metadata": {},
     "output_type": "display_data"
    }
   ],
   "source": [
    "sns.displot(\n",
    "    diff_means, stat='density', color='white', edgecolor='black',\n",
    "    height=4, aspect=1.5, bins=20\n",
    ").set(title='Sampling distribution', xlabel='Difference-in-means estimator')\n",
    "\n",
    "plt.axvline(SATE, color='red') # true value of SATE"
   ]
  },
  {
   "cell_type": "code",
   "execution_count": 8,
   "metadata": {},
   "outputs": [
    {
     "data": {
      "text/plain": [
       "0.20121405525623925"
      ]
     },
     "execution_count": 8,
     "metadata": {},
     "output_type": "execute_result"
    }
   ],
   "source": [
    "diff_means.std(ddof=1)"
   ]
  },
  {
   "cell_type": "code",
   "execution_count": 9,
   "metadata": {},
   "outputs": [
    {
     "data": {
      "text/plain": [
       "0.2015195083097099"
      ]
     },
     "execution_count": 9,
     "metadata": {},
     "output_type": "execute_result"
    }
   ],
   "source": [
    "np.sqrt(((diff_means - SATE)**2).mean())"
   ]
  },
  {
   "cell_type": "code",
   "execution_count": 10,
   "metadata": {},
   "outputs": [
    {
     "data": {
      "text/plain": [
       "0.2025428074507152"
      ]
     },
     "execution_count": 10,
     "metadata": {},
     "output_type": "execute_result"
    }
   ],
   "source": [
    "# PATE simulation with standard error\n",
    "sims = 5000\n",
    "diff_means = np.zeros(sims)\n",
    "se = np.zeros(sims)\n",
    "\n",
    "for i in range(sims):\n",
    "    # generate a sample for each simulation \n",
    "    Y0 = stats.norm.rvs(size=n, loc=mu0, scale=sd0)\n",
    "    Y1 = stats.norm.rvs(size=n, loc=mu1, scale=sd1)\n",
    "    # randomize treatment by sampling the vector of 0's and 1's created above \n",
    "    treat = np.random.choice(sample_vector, size=n, replace=False)\n",
    "    diff_means[i] = Y1[treat==1].mean() - Y0[treat==0].mean()\n",
    "    se[i] = (np.sqrt(Y1[treat==1].var(ddof=1) / (n/2) + \n",
    "                     Y0[treat==0].var(ddof=1) / (n/2)))\n",
    "    \n",
    "diff_means.std(ddof=1)"
   ]
  },
  {
   "cell_type": "code",
   "execution_count": 11,
   "metadata": {},
   "outputs": [
    {
     "data": {
      "text/plain": [
       "0.19962151659998345"
      ]
     },
     "execution_count": 11,
     "metadata": {},
     "output_type": "execute_result"
    }
   ],
   "source": [
    "se.mean()"
   ]
  },
  {
   "cell_type": "markdown",
   "metadata": {},
   "source": [
    "### Section 7.1.3: Confidence Intervals {-}\n",
    "\n",
    "**In Progress**"
   ]
  }
 ],
 "metadata": {
  "authors": [
   {
    "name": "Kosuke Imai"
   },
   {
    "name": "Python code by Jeff Allen"
   }
  ],
  "date": "First Printing",
  "kernelspec": {
   "display_name": "qss",
   "language": "python",
   "name": "python3"
  },
  "language_info": {
   "codemirror_mode": {
    "name": "ipython",
    "version": 3
   },
   "file_extension": ".py",
   "mimetype": "text/x-python",
   "name": "python",
   "nbconvert_exporter": "python",
   "pygments_lexer": "ipython3",
   "version": "3.10.11"
  },
  "orig_nbformat": 4,
  "title": "Python Code for QSS Chapter 7: Uncertainty"
 },
 "nbformat": 4,
 "nbformat_minor": 2
}
