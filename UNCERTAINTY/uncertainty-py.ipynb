{
 "cells": [
  {
   "cell_type": "code",
   "execution_count": 1,
   "metadata": {},
   "outputs": [],
   "source": [
    "import pandas as pd\n",
    "import numpy as np\n",
    "from scipy import stats\n",
    "import matplotlib.pyplot as plt\n",
    "import seaborn as sns"
   ]
  },
  {
   "cell_type": "markdown",
   "metadata": {},
   "source": [
    "## Section 7.1: Estimation {-}\n",
    "\n",
    "### Section 7.1.1: Unbiasedness and Consistency {-}"
   ]
  },
  {
   "cell_type": "code",
   "execution_count": 2,
   "metadata": {},
   "outputs": [
    {
     "data": {
      "text/plain": [
       "0.9774441662972356"
      ]
     },
     "execution_count": 2,
     "metadata": {},
     "output_type": "execute_result"
    }
   ],
   "source": [
    "# simulation parameters\n",
    "n = 100 # sample size\n",
    "mu0 = 0 # mean of Y_i(0)\n",
    "sd0 = 1 # standard deviation of Y_i(0)\n",
    "mu1 = 1 # mean of Y_i(1)\n",
    "sd1 = 1 # standard deviation of Y_i(1)\n",
    "\n",
    "# generate a sample \n",
    "Y0 = stats.norm.rvs(size=n, loc=mu0, scale=sd0)\n",
    "Y1 = stats.norm.rvs(size=n, loc=mu1, scale=sd1)\n",
    "tau = Y1 - Y0 # individual treatment effect\n",
    "# true value of the sample average treatment effect\n",
    "SATE = tau.mean()\n",
    "SATE"
   ]
  },
  {
   "cell_type": "code",
   "execution_count": 3,
   "metadata": {},
   "outputs": [
    {
     "data": {
      "text/plain": [
       "-0.00033103445440258773"
      ]
     },
     "execution_count": 3,
     "metadata": {},
     "output_type": "execute_result"
    }
   ],
   "source": [
    "# repeatedly conduct randomized controlled trials\n",
    "sims = 5000 # repeat 5,000 times, we could do more\n",
    "diff_means = np.zeros(sims) # container \n",
    "sample_vector = np.concatenate((np.ones(int(n/2)), np.zeros(int(n/2))))\n",
    "\n",
    "for i in range(sims):\n",
    "    # randomize the treatment by sampling of a vector of 0's and 1's\n",
    "    treat = np.random.choice(sample_vector, size=n, replace=False)\n",
    "    # difference-in-means\n",
    "    diff_means[i] = Y1[treat==1].mean() - Y0[treat==0].mean()\n",
    "\n",
    "# estimation of error for SATE\n",
    "est_error = diff_means - SATE\n",
    "\n",
    "est_error.mean()"
   ]
  },
  {
   "cell_type": "code",
   "execution_count": 4,
   "metadata": {},
   "outputs": [
    {
     "data": {
      "text/plain": [
       "count    5000.00000\n",
       "mean       -0.00033\n",
       "std         0.13850\n",
       "min        -0.43851\n",
       "25%        -0.09571\n",
       "50%        -0.00059\n",
       "75%         0.09296\n",
       "max         0.48181\n",
       "dtype: float64"
      ]
     },
     "execution_count": 4,
     "metadata": {},
     "output_type": "execute_result"
    }
   ],
   "source": [
    "pd.Series(est_error).describe().round(5)"
   ]
  },
  {
   "cell_type": "code",
   "execution_count": 5,
   "metadata": {},
   "outputs": [
    {
     "data": {
      "text/plain": [
       "-0.0038793719921513016"
      ]
     },
     "execution_count": 5,
     "metadata": {},
     "output_type": "execute_result"
    }
   ],
   "source": [
    "# PATE simulation\n",
    "PATE = mu1 - mu0\n",
    "diff_means = np.zeros(sims)\n",
    "\n",
    "for i in range(sims):\n",
    "    # generate a sample for each simulation \n",
    "    Y0 = stats.norm.rvs(size=n, loc=mu0, scale=sd0)\n",
    "    Y1 = stats.norm.rvs(size=n, loc=mu1, scale=sd1)\n",
    "    treat = np.random.choice(sample_vector, size=n, replace=False)\n",
    "    diff_means[i] = Y1[treat==1].mean() - Y0[treat==0].mean()\n",
    "\n",
    "# estimation error for PATE\n",
    "est_error = diff_means - PATE\n",
    "\n",
    "# unbiased\n",
    "est_error.mean()"
   ]
  },
  {
   "cell_type": "code",
   "execution_count": 6,
   "metadata": {},
   "outputs": [
    {
     "data": {
      "text/plain": [
       "count    5000.00000\n",
       "mean       -0.00388\n",
       "std         0.20088\n",
       "min        -0.70899\n",
       "25%        -0.14017\n",
       "50%        -0.00700\n",
       "75%         0.13517\n",
       "max         0.69117\n",
       "dtype: float64"
      ]
     },
     "execution_count": 6,
     "metadata": {},
     "output_type": "execute_result"
    }
   ],
   "source": [
    "pd.Series(est_error).describe().round(5)"
   ]
  },
  {
   "cell_type": "markdown",
   "metadata": {},
   "source": [
    "### Section 7.1.2: Standard Error {-}"
   ]
  },
  {
   "cell_type": "code",
   "execution_count": 7,
   "metadata": {},
   "outputs": [
    {
     "data": {
      "text/plain": [
       "<matplotlib.lines.Line2D at 0x230fa977bb0>"
      ]
     },
     "execution_count": 7,
     "metadata": {},
     "output_type": "execute_result"
    },
    {
     "data": {
      "image/png": "[encoded data removed]",
      "text/plain": [
       "<Figure size 600x400 with 1 Axes>"
      ]
     },
     "metadata": {},
     "output_type": "display_data"
    }
   ],
   "source": [
    "sns.displot(\n",
    "    diff_means, stat='density', color='white', edgecolor='black',\n",
    "    height=4, aspect=1.5, bins=20\n",
    ").set(title='Sampling distribution', xlabel='Difference-in-means estimator')\n",
    "\n",
    "plt.axvline(SATE, color='red') # true value of SATE"
   ]
  },
  {
   "cell_type": "code",
   "execution_count": 8,
   "metadata": {},
   "outputs": [
    {
     "data": {
      "text/plain": [
       "0.2008806087644372"
      ]
     },
     "execution_count": 8,
     "metadata": {},
     "output_type": "execute_result"
    }
   ],
   "source": [
    "diff_means.std(ddof=1)"
   ]
  },
  {
   "cell_type": "code",
   "execution_count": 9,
   "metadata": {},
   "outputs": [
    {
     "data": {
      "text/plain": [
       "0.20172694067923444"
      ]
     },
     "execution_count": 9,
     "metadata": {},
     "output_type": "execute_result"
    }
   ],
   "source": [
    "np.sqrt(((diff_means - SATE)**2).mean())"
   ]
  },
  {
   "cell_type": "code",
   "execution_count": 10,
   "metadata": {},
   "outputs": [
    {
     "data": {
      "text/plain": [
       "0.19898811338479394"
      ]
     },
     "execution_count": 10,
     "metadata": {},
     "output_type": "execute_result"
    }
   ],
   "source": [
    "# PATE simulation with standard error\n",
    "sims = 5000\n",
    "diff_means = np.zeros(sims)\n",
    "se = np.zeros(sims)\n",
    "\n",
    "for i in range(sims):\n",
    "    # generate a sample for each simulation \n",
    "    Y0 = stats.norm.rvs(size=n, loc=mu0, scale=sd0)\n",
    "    Y1 = stats.norm.rvs(size=n, loc=mu1, scale=sd1)\n",
    "    # randomize treatment by sampling the vector of 0's and 1's created above \n",
    "    treat = np.random.choice(sample_vector, size=n, replace=False)\n",
    "    diff_means[i] = Y1[treat==1].mean() - Y0[treat==0].mean()\n",
    "    se[i] = (np.sqrt(Y1[treat==1].var(ddof=1) / (n/2) + \n",
    "                     Y0[treat==0].var(ddof=1) / (n/2)))\n",
    "    \n",
    "diff_means.std(ddof=1)"
   ]
  },
  {
   "cell_type": "code",
   "execution_count": 11,
   "metadata": {},
   "outputs": [
    {
     "data": {
      "text/plain": [
       "0.19944482309407496"
      ]
     },
     "execution_count": 11,
     "metadata": {},
     "output_type": "execute_result"
    }
   ],
   "source": [
    "se.mean()"
   ]
  },
  {
   "cell_type": "markdown",
   "metadata": {},
   "source": [
    "### Section 7.1.3: Confidence Intervals {-}"
   ]
  },
  {
   "cell_type": "code",
   "execution_count": 12,
   "metadata": {},
   "outputs": [
    {
     "data": {
      "text/plain": [
       "(0.5601, 0.6399)"
      ]
     },
     "execution_count": 12,
     "metadata": {},
     "output_type": "execute_result"
    }
   ],
   "source": [
    "n = 1000 # sample size\n",
    "x_bar = 0.6 # point estimate\n",
    "s_e = np.sqrt(x_bar * (1-x_bar) / n) # standard error\n",
    "\n",
    "# 99% confidence intervals; display as a tuple\n",
    "((x_bar - stats.norm.ppf(0.995) * s_e).round(5), \n",
    " (x_bar + stats.norm.ppf(0.995) * s_e).round(5))"
   ]
  },
  {
   "cell_type": "code",
   "execution_count": 13,
   "metadata": {},
   "outputs": [
    {
     "data": {
      "text/plain": [
       "(0.56964, 0.63036)"
      ]
     },
     "execution_count": 13,
     "metadata": {},
     "output_type": "execute_result"
    }
   ],
   "source": [
    "# 95% confidence intervals\n",
    "((x_bar - stats.norm.ppf(0.975) * s_e).round(5), \n",
    " (x_bar + stats.norm.ppf(0.975) * s_e).round(5))"
   ]
  },
  {
   "cell_type": "code",
   "execution_count": 14,
   "metadata": {},
   "outputs": [
    {
     "data": {
      "text/plain": [
       "(0.57452, 0.62548)"
      ]
     },
     "execution_count": 14,
     "metadata": {},
     "output_type": "execute_result"
    }
   ],
   "source": [
    "# 90% confidence intervals\n",
    "((x_bar - stats.norm.ppf(0.95) * s_e).round(5), \n",
    " (x_bar + stats.norm.ppf(0.95) * s_e).round(5))"
   ]
  },
  {
   "cell_type": "code",
   "execution_count": 15,
   "metadata": {},
   "outputs": [
    {
     "data": {
      "text/plain": [
       "0.9506"
      ]
     },
     "execution_count": 15,
     "metadata": {},
     "output_type": "execute_result"
    }
   ],
   "source": [
    "# empty container matrices for 2 sets of confidence intervals\n",
    "ci95 = np.zeros(sims*2).reshape(sims, 2)\n",
    "ci90 = np.zeros(sims*2).reshape(sims, 2)\n",
    "\n",
    "# 95 percent confidence intervals\n",
    "ci95[:,0] = diff_means - stats.norm.ppf(0.975) * se # lower limit\n",
    "ci95[:,1] = diff_means + stats.norm.ppf(0.975) * se # upper limit\n",
    "\n",
    "# 90 percent confidence intervals\n",
    "ci90[:,0] = diff_means - stats.norm.ppf(0.95) * se # lower limit\n",
    "ci90[:,1] = diff_means + stats.norm.ppf(0.95) * se # upper limit\n",
    "\n",
    "# coverage rate for 95% confidence interval\n",
    "((ci95[:,0] <= 1) & (ci95[:,1] >= 1)).mean()"
   ]
  },
  {
   "cell_type": "code",
   "execution_count": 16,
   "metadata": {},
   "outputs": [
    {
     "data": {
      "text/plain": [
       "0.8966"
      ]
     },
     "execution_count": 16,
     "metadata": {},
     "output_type": "execute_result"
    }
   ],
   "source": [
    "# coverage rate for 90% confidence interval\n",
    "((ci90[:,0] <= 1) & (ci90[:,1] >= 1)).mean()"
   ]
  },
  {
   "cell_type": "code",
   "execution_count": 17,
   "metadata": {},
   "outputs": [
    {
     "data": {
      "text/plain": [
       "array([0.943 , 0.9488, 0.9518])"
      ]
     },
     "execution_count": 17,
     "metadata": {},
     "output_type": "execute_result"
    }
   ],
   "source": [
    "p = 0.6 # true parameter value\n",
    "n = np.array([50, 100, 1000]) # 3 sample sizes to be examined\n",
    "alpha = 0.05\n",
    "sims = 5000 # number of simulations\n",
    "results = np.zeros(len(n)) # a container for results\n",
    "\n",
    "for i in range(len(n)):\n",
    "    ci_results = np.zeros(sims) # a container for whether CI contains truth\n",
    "    # loop for repeated hypothetical survey sampling\n",
    "    for j in range(sims):\n",
    "        data = stats.binom.rvs(n=1, p=p, size=n[i]) # simple random sampling\n",
    "        x_bar = data.mean() # sample proportion as an estimate\n",
    "        s_e = np.sqrt(x_bar * (1-x_bar) / n[i]) # standard errors\n",
    "        ci_lower = x_bar - stats.norm.ppf(1-alpha/2) * s_e\n",
    "        ci_upper = x_bar + stats.norm.ppf(1-alpha/2) * s_e\n",
    "        ci_results[j] = (p >= ci_lower) & (p <= ci_upper)\n",
    "    # proportion of CIs that contain the true value\n",
    "    results[i] = ci_results.mean()\n",
    "\n",
    "results"
   ]
  },
  {
   "cell_type": "markdown",
   "metadata": {},
   "source": [
    "### Section 7.1.4: Margin of Error and Sample Size Calculation in Polls {-}"
   ]
  },
  {
   "cell_type": "code",
   "execution_count": 18,
   "metadata": {},
   "outputs": [
    {
     "data": {
      "text/plain": [
       "Text(0.32, -250, 'margin of error = 0.05')"
      ]
     },
     "execution_count": 18,
     "metadata": {},
     "output_type": "execute_result"
    },
    {
     "data": {
      "image/png": "[encoded data removed]",
      "text/plain": [
       "<Figure size 600x400 with 1 Axes>"
      ]
     },
     "metadata": {},
     "output_type": "display_data"
    }
   ],
   "source": [
    "MoE = np.array([0.01, 0.03, 0.05]) # the desired margin of error\n",
    "p = np.arange(0.01, 1, 0.01)\n",
    "n = 1.96**2 * p * (1-p) / MoE[0]**2\n",
    "n2 = 1.96**2 * p * (1-p) / MoE[1]**2\n",
    "n3 = 1.96**2 * p * (1-p) / MoE[2]**2\n",
    "\n",
    "fig, ax = plt.subplots(figsize=(6,4))\n",
    "\n",
    "sns.lineplot(x=p, y=n, ax=ax, color='black').set(\n",
    "    ylim=(-1000, 11000), xlabel='Population Proportion', ylabel='Sample Size'\n",
    ")\n",
    "\n",
    "sns.lineplot(x=p, y=n2, ax=ax, color='black', linestyle='--')\n",
    "\n",
    "sns.lineplot(x=p, y=n3, ax=ax, color='black', linestyle=':')\n",
    "\n",
    "# Add text labels\n",
    "ax.text(0.32, 10000, 'margin of error = 0.01', fontsize=10)\n",
    "ax.text(0.32, 1700, 'margin of error = 0.03', fontsize=10)\n",
    "ax.text(0.32, -250, 'margin of error = 0.05', fontsize=10)"
   ]
  },
  {
   "cell_type": "code",
   "execution_count": 19,
   "metadata": {},
   "outputs": [],
   "source": [
    "# election and polling results, by state\n",
    "pres08 = pd.read_csv('pres08.csv')\n",
    "polls08 = pd.read_csv('polls08.csv')\n",
    "\n",
    "# convert to a date object\n",
    "polls08['middate'] = pd.to_datetime(polls08['middate'])\n",
    "\n",
    "# number of days to the election\n",
    "from datetime import datetime\n",
    "election_day = datetime.strptime('2008-11-04', '%Y-%m-%d')\n",
    "polls08['days_to_election'] = (election_day - polls08['middate']).dt.days\n",
    "\n",
    "# extract unique state names which the loop will iterate through\n",
    "st_names = polls08['state'].unique()\n",
    "\n",
    "# create an empty 51 X 3 placeholder Data Frame\n",
    "poll_pred = pd.DataFrame(np.zeros(51*3).reshape(51, 3), index=st_names)\n",
    "\n",
    "# loop across the 50 states plus DC\n",
    "for i in range(len(st_names)):\n",
    "    # subset the ith state\n",
    "    state_data = polls08[polls08['state']==st_names[i]]\n",
    "    # further subset the latest polls within the state\n",
    "    latest = (state_data['days_to_election']== \n",
    "              state_data['days_to_election'].min())\n",
    "    # compute the mean of the latest polls and store it\n",
    "    poll_pred.iloc[i, 0] = state_data['Obama'][latest].mean() / 100\n",
    "\n",
    "# upper and lower confidence limits\n",
    "n = 1000 # sample size\n",
    "alpha = 0.05\n",
    "se = np.sqrt(poll_pred.iloc[:,0] * (1-poll_pred.iloc[:,0]) / n) # standard error\n",
    "poll_pred.iloc[:,1] = poll_pred.iloc[:,0] - stats.norm.ppf(1-alpha/2) * se\n",
    "poll_pred.iloc[:,2] = poll_pred.iloc[:,0] + stats.norm.ppf(1-alpha/2) * se"
   ]
  },
  {
   "cell_type": "code",
   "execution_count": 20,
   "metadata": {},
   "outputs": [
    {
     "data": {
      "image/png": "[encoded data removed]",
      "text/plain": [
       "<Figure size 600x400 with 1 Axes>"
      ]
     },
     "metadata": {},
     "output_type": "display_data"
    }
   ],
   "source": [
    "# plot the results\n",
    "fig, ax = plt.subplots(figsize=(6,4))\n",
    "\n",
    "sns.scatterplot(\n",
    "    x = pres08['Obama'] / 100, y = poll_pred.iloc[:,0].reset_index(drop=True), \n",
    "    ax=ax, color='white', edgecolor='black'\n",
    ").set(xlabel=\"Obama's vote share\", ylabel='Poll prediction', \n",
    "      xlim=(0, 1), ylim=(0, 1))\n",
    "\n",
    "ax.axline((0, 0), slope=1, color='black', linewidth=0.5)\n",
    "\n",
    "# adding 95% confidence intervals for each state \n",
    "for i in range(len(st_names)):\n",
    "    ax.plot(\n",
    "        [pres08['Obama'][i] / 100] * 2,\n",
    "        [poll_pred.iloc[i,1], poll_pred.iloc[i,2]], \n",
    "        color='black', linewidth=0.5\n",
    "    )"
   ]
  },
  {
   "cell_type": "code",
   "execution_count": 21,
   "metadata": {},
   "outputs": [
    {
     "data": {
      "text/plain": [
       "0.5882352941176471"
      ]
     },
     "execution_count": 21,
     "metadata": {},
     "output_type": "execute_result"
    }
   ],
   "source": [
    "# proportion of confidence intervals that contain the election day outcome\n",
    "# reset index: can only compare identically-labeled Series objects\n",
    "((poll_pred.iloc[:,1].reset_index(drop=True) <= pres08['Obama'] / 100 ) & \n",
    " (poll_pred.iloc[:,2].reset_index(drop=True) >= pres08['Obama'] / 100)).mean()"
   ]
  },
  {
   "cell_type": "code",
   "execution_count": 22,
   "metadata": {},
   "outputs": [
    {
     "data": {
      "text/plain": [
       "-0.026797385620915028"
      ]
     },
     "execution_count": 22,
     "metadata": {},
     "output_type": "execute_result"
    }
   ],
   "source": [
    "# bias\n",
    "bias=(poll_pred.iloc[:,0].reset_index(drop=True) - pres08['Obama']/100).mean()\n",
    "bias"
   ]
  },
  {
   "cell_type": "code",
   "execution_count": 23,
   "metadata": {},
   "outputs": [
    {
     "data": {
      "text/plain": [
       "0.7647058823529411"
      ]
     },
     "execution_count": 23,
     "metadata": {},
     "output_type": "execute_result"
    }
   ],
   "source": [
    "# bias corrected estimate\n",
    "poll_bias = poll_pred.iloc[:,0] - bias\n",
    "\n",
    "# bias corrected standard error\n",
    "se_bias = np.sqrt(poll_bias * (1-poll_bias) / n)\n",
    "\n",
    "# bias corrected confidence intervals\n",
    "ci_bias_lower = poll_bias - stats.norm.ppf(1-alpha/2) * se_bias\n",
    "ci_bias_upper = poll_bias + stats.norm.ppf(1-alpha/2) * se_bias\n",
    "\n",
    "# proportion of bias corrected CIs that contain election day outcome\n",
    "((ci_bias_lower.reset_index(drop=True) <= pres08['Obama'] / 100) & \n",
    " (ci_bias_upper.reset_index(drop=True) >= pres08['Obama'] / 100)).mean()"
   ]
  },
  {
   "cell_type": "markdown",
   "metadata": {},
   "source": [
    "### Section 7.1.5: Analysis of Randomized Controlled Trials {-}\n",
    "\n",
    "**In Progress**"
   ]
  }
 ],
 "metadata": {
  "authors": [
   {
    "name": "Kosuke Imai"
   },
   {
    "name": "Python code by Jeff Allen"
   }
  ],
  "date": "First Printing",
  "kernelspec": {
   "display_name": "qss",
   "language": "python",
   "name": "python3"
  },
  "language_info": {
   "codemirror_mode": {
    "name": "ipython",
    "version": 3
   },
   "file_extension": ".py",
   "mimetype": "text/x-python",
   "name": "python",
   "nbconvert_exporter": "python",
   "pygments_lexer": "ipython3",
   "version": "3.10.11"
  },
  "orig_nbformat": 4,
  "title": "Python Code for QSS Chapter 7: Uncertainty"
 },
 "nbformat": 4,
 "nbformat_minor": 2
}
