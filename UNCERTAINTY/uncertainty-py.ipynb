{
 "cells": [
  {
   "cell_type": "code",
   "execution_count": 1,
   "metadata": {},
   "outputs": [],
   "source": [
    "import pandas as pd\n",
    "import numpy as np\n",
    "from scipy import stats\n",
    "import matplotlib.pyplot as plt\n",
    "import seaborn as sns"
   ]
  },
  {
   "cell_type": "markdown",
   "metadata": {},
   "source": [
    "## Section 7.1: Estimation {-}\n",
    "\n",
    "### Section 7.1.1: Unbiasedness and Consistency {-}"
   ]
  },
  {
   "cell_type": "code",
   "execution_count": 2,
   "metadata": {},
   "outputs": [
    {
     "data": {
      "text/plain": [
       "1.1697124670570664"
      ]
     },
     "execution_count": 2,
     "metadata": {},
     "output_type": "execute_result"
    }
   ],
   "source": [
    "# simulation parameters\n",
    "n = 100 # sample size\n",
    "mu0 = 0 # mean of Y_i(0)\n",
    "sd0 = 1 # standard deviation of Y_i(0)\n",
    "mu1 = 1 # mean of Y_i(1)\n",
    "sd1 = 1 # standard deviation of Y_i(1)\n",
    "\n",
    "# generate a sample \n",
    "Y0 = stats.norm.rvs(size=n, loc=mu0, scale=sd0)\n",
    "Y1 = stats.norm.rvs(size=n, loc=mu1, scale=sd1)\n",
    "tau = Y1 - Y0 # individual treatment effect\n",
    "# true value of the sample average treatment effect\n",
    "SATE = tau.mean()\n",
    "SATE"
   ]
  },
  {
   "cell_type": "code",
   "execution_count": 3,
   "metadata": {},
   "outputs": [
    {
     "data": {
      "text/plain": [
       "0.001367231467261098"
      ]
     },
     "execution_count": 3,
     "metadata": {},
     "output_type": "execute_result"
    }
   ],
   "source": [
    "# repeatedly conduct randomized controlled trials\n",
    "sims = 5000 # repeat 5,000 times, we could do more\n",
    "diff_means = np.zeros(sims) # container \n",
    "sample_vector = np.concatenate((np.ones(int(n/2)), np.zeros(int(n/2))))\n",
    "\n",
    "for i in range(sims):\n",
    "    # randomize the treatment by sampling of a vector of 0's and 1's\n",
    "    treat = np.random.choice(sample_vector, size=n, replace=False)\n",
    "    # difference-in-means\n",
    "    diff_means[i] = Y1[treat==1].mean() - Y0[treat==0].mean()\n",
    "\n",
    "# estimation of error for SATE\n",
    "est_error = diff_means - SATE\n",
    "\n",
    "est_error.mean()"
   ]
  },
  {
   "cell_type": "code",
   "execution_count": 4,
   "metadata": {},
   "outputs": [
    {
     "data": {
      "text/plain": [
       "count    5000.00000\n",
       "mean        0.00137\n",
       "std         0.13285\n",
       "min        -0.47264\n",
       "25%        -0.09028\n",
       "50%         0.00054\n",
       "75%         0.09551\n",
       "max         0.44256\n",
       "dtype: float64"
      ]
     },
     "execution_count": 4,
     "metadata": {},
     "output_type": "execute_result"
    }
   ],
   "source": [
    "pd.Series(est_error).describe().round(5)"
   ]
  },
  {
   "cell_type": "code",
   "execution_count": 5,
   "metadata": {},
   "outputs": [
    {
     "data": {
      "text/plain": [
       "0.001799964703385013"
      ]
     },
     "execution_count": 5,
     "metadata": {},
     "output_type": "execute_result"
    }
   ],
   "source": [
    "# PATE simulation\n",
    "PATE = mu1 - mu0\n",
    "diff_means = np.zeros(sims)\n",
    "\n",
    "for i in range(sims):\n",
    "    # generate a sample for each simulation \n",
    "    Y0 = stats.norm.rvs(size=n, loc=mu0, scale=sd0)\n",
    "    Y1 = stats.norm.rvs(size=n, loc=mu1, scale=sd1)\n",
    "    treat = np.random.choice(sample_vector, size=n, replace=False)\n",
    "    diff_means[i] = Y1[treat==1].mean() - Y0[treat==0].mean()\n",
    "\n",
    "# estimation error for PATE\n",
    "est_error = diff_means - PATE\n",
    "\n",
    "# unbiased\n",
    "est_error.mean()"
   ]
  },
  {
   "cell_type": "code",
   "execution_count": 6,
   "metadata": {},
   "outputs": [
    {
     "data": {
      "text/plain": [
       "count    5000.00000\n",
       "mean        0.00180\n",
       "std         0.19858\n",
       "min        -0.68073\n",
       "25%        -0.13276\n",
       "50%         0.00138\n",
       "75%         0.13692\n",
       "max         0.89020\n",
       "dtype: float64"
      ]
     },
     "execution_count": 6,
     "metadata": {},
     "output_type": "execute_result"
    }
   ],
   "source": [
    "pd.Series(est_error).describe().round(5)"
   ]
  },
  {
   "cell_type": "markdown",
   "metadata": {},
   "source": [
    "### Section 7.1.2: Standard Error {-}"
   ]
  },
  {
   "cell_type": "code",
   "execution_count": 7,
   "metadata": {},
   "outputs": [
    {
     "data": {
      "text/plain": [
       "<matplotlib.lines.Line2D at 0x15c74806440>"
      ]
     },
     "execution_count": 7,
     "metadata": {},
     "output_type": "execute_result"
    },
    {
     "data": {
      "image/png": "[encoded data removed]",
      "text/plain": [
       "<Figure size 600x400 with 1 Axes>"
      ]
     },
     "metadata": {},
     "output_type": "display_data"
    }
   ],
   "source": [
    "sns.displot(\n",
    "    diff_means, stat='density', color='white', edgecolor='black',\n",
    "    height=4, aspect=1.5, bins=20\n",
    ").set(title='Sampling distribution', xlabel='Difference-in-means estimator')\n",
    "\n",
    "plt.axvline(SATE, color='red') # true value of SATE"
   ]
  },
  {
   "cell_type": "code",
   "execution_count": 8,
   "metadata": {},
   "outputs": [
    {
     "data": {
      "text/plain": [
       "0.1985836723621929"
      ]
     },
     "execution_count": 8,
     "metadata": {},
     "output_type": "execute_result"
    }
   ],
   "source": [
    "diff_means.std(ddof=1)"
   ]
  },
  {
   "cell_type": "code",
   "execution_count": 9,
   "metadata": {},
   "outputs": [
    {
     "data": {
      "text/plain": [
       "0.26004268165157823"
      ]
     },
     "execution_count": 9,
     "metadata": {},
     "output_type": "execute_result"
    }
   ],
   "source": [
    "np.sqrt(((diff_means - SATE)**2).mean())"
   ]
  },
  {
   "cell_type": "code",
   "execution_count": 10,
   "metadata": {},
   "outputs": [
    {
     "data": {
      "text/plain": [
       "0.2006386254978984"
      ]
     },
     "execution_count": 10,
     "metadata": {},
     "output_type": "execute_result"
    }
   ],
   "source": [
    "# PATE simulation with standard error\n",
    "sims = 5000\n",
    "diff_means = np.zeros(sims)\n",
    "se = np.zeros(sims)\n",
    "\n",
    "for i in range(sims):\n",
    "    # generate a sample for each simulation \n",
    "    Y0 = stats.norm.rvs(size=n, loc=mu0, scale=sd0)\n",
    "    Y1 = stats.norm.rvs(size=n, loc=mu1, scale=sd1)\n",
    "    # randomize treatment by sampling the vector of 0's and 1's created above \n",
    "    treat = np.random.choice(sample_vector, size=n, replace=False)\n",
    "    diff_means[i] = Y1[treat==1].mean() - Y0[treat==0].mean()\n",
    "    se[i] = (np.sqrt(Y1[treat==1].var(ddof=1) / (n/2) + \n",
    "                     Y0[treat==0].var(ddof=1) / (n/2)))\n",
    "    \n",
    "diff_means.std(ddof=1)"
   ]
  },
  {
   "cell_type": "code",
   "execution_count": 11,
   "metadata": {},
   "outputs": [
    {
     "data": {
      "text/plain": [
       "0.1995025026886699"
      ]
     },
     "execution_count": 11,
     "metadata": {},
     "output_type": "execute_result"
    }
   ],
   "source": [
    "se.mean()"
   ]
  },
  {
   "cell_type": "markdown",
   "metadata": {},
   "source": [
    "### Section 7.1.3: Confidence Intervals {-}"
   ]
  },
  {
   "cell_type": "code",
   "execution_count": 12,
   "metadata": {},
   "outputs": [
    {
     "data": {
      "text/plain": [
       "(0.5601, 0.6399)"
      ]
     },
     "execution_count": 12,
     "metadata": {},
     "output_type": "execute_result"
    }
   ],
   "source": [
    "n = 1000 # sample size\n",
    "x_bar = 0.6 # point estimate\n",
    "s_e = np.sqrt(x_bar * (1-x_bar) / n) # standard error\n",
    "\n",
    "# 99% confidence intervals; display as a tuple\n",
    "((x_bar - stats.norm.ppf(0.995) * s_e).round(5), \n",
    " (x_bar + stats.norm.ppf(0.995) * s_e).round(5))"
   ]
  },
  {
   "cell_type": "code",
   "execution_count": 13,
   "metadata": {},
   "outputs": [
    {
     "data": {
      "text/plain": [
       "(0.56964, 0.63036)"
      ]
     },
     "execution_count": 13,
     "metadata": {},
     "output_type": "execute_result"
    }
   ],
   "source": [
    "# 95% confidence intervals\n",
    "((x_bar - stats.norm.ppf(0.975) * s_e).round(5), \n",
    " (x_bar + stats.norm.ppf(0.975) * s_e).round(5))"
   ]
  },
  {
   "cell_type": "code",
   "execution_count": 14,
   "metadata": {},
   "outputs": [
    {
     "data": {
      "text/plain": [
       "(0.57452, 0.62548)"
      ]
     },
     "execution_count": 14,
     "metadata": {},
     "output_type": "execute_result"
    }
   ],
   "source": [
    "# 90% confidence intervals\n",
    "((x_bar - stats.norm.ppf(0.95) * s_e).round(5), \n",
    " (x_bar + stats.norm.ppf(0.95) * s_e).round(5))"
   ]
  },
  {
   "cell_type": "code",
   "execution_count": 15,
   "metadata": {},
   "outputs": [
    {
     "data": {
      "text/plain": [
       "0.9448"
      ]
     },
     "execution_count": 15,
     "metadata": {},
     "output_type": "execute_result"
    }
   ],
   "source": [
    "# empty container matrices for 2 sets of confidence intervals\n",
    "ci95 = np.zeros(sims*2).reshape(sims, 2)\n",
    "ci90 = np.zeros(sims*2).reshape(sims, 2)\n",
    "\n",
    "# 95 percent confidence intervals\n",
    "ci95[:,0] = diff_means - stats.norm.ppf(0.975) * se # lower limit\n",
    "ci95[:,1] = diff_means + stats.norm.ppf(0.975) * se # upper limit\n",
    "\n",
    "# 90 percent confidence intervals\n",
    "ci90[:,0] = diff_means - stats.norm.ppf(0.95) * se # lower limit\n",
    "ci90[:,1] = diff_means + stats.norm.ppf(0.95) * se # upper limit\n",
    "\n",
    "# coverage rate for 95% confidence interval\n",
    "((ci95[:,0] <= 1) & (ci95[:,1] >= 1)).mean()"
   ]
  },
  {
   "cell_type": "code",
   "execution_count": 16,
   "metadata": {},
   "outputs": [
    {
     "data": {
      "text/plain": [
       "0.8954"
      ]
     },
     "execution_count": 16,
     "metadata": {},
     "output_type": "execute_result"
    }
   ],
   "source": [
    "# coverage rate for 90% confidence interval\n",
    "((ci90[:,0] <= 1) & (ci90[:,1] >= 1)).mean()"
   ]
  },
  {
   "cell_type": "code",
   "execution_count": 17,
   "metadata": {},
   "outputs": [
    {
     "data": {
      "text/plain": [
       "array([0.9394, 0.9422, 0.9492])"
      ]
     },
     "execution_count": 17,
     "metadata": {},
     "output_type": "execute_result"
    }
   ],
   "source": [
    "p = 0.6 # true parameter value\n",
    "n = np.array([50, 100, 1000]) # 3 sample sizes to be examined\n",
    "alpha = 0.05\n",
    "sims = 5000 # number of simulations\n",
    "results = np.zeros(len(n)) # a container for results\n",
    "\n",
    "for i in range(len(n)):\n",
    "    ci_results = np.zeros(sims) # a container for whether CI contains truth\n",
    "    # loop for repeated hypothetical survey sampling\n",
    "    for j in range(sims):\n",
    "        data = stats.binom.rvs(n=1, p=p, size=n[i]) # simple random sampling\n",
    "        x_bar = data.mean() # sample proportion as an estimate\n",
    "        s_e = np.sqrt(x_bar * (1-x_bar) / n[i]) # standard errors\n",
    "        ci_lower = x_bar - stats.norm.ppf(1-alpha/2) * s_e\n",
    "        ci_upper = x_bar + stats.norm.ppf(1-alpha/2) * s_e\n",
    "        ci_results[j] = (p >= ci_lower) & (p <= ci_upper)\n",
    "    # proportion of CIs that contain the true value\n",
    "    results[i] = ci_results.mean()\n",
    "\n",
    "results"
   ]
  },
  {
   "cell_type": "markdown",
   "metadata": {},
   "source": [
    "### Section 7.1.4: Margin of Error and Sample Size Calculation in Polls {-}\n",
    "\n",
    "**In Progress**"
   ]
  }
 ],
 "metadata": {
  "authors": [
   {
    "name": "Kosuke Imai"
   },
   {
    "name": "Python code by Jeff Allen"
   }
  ],
  "date": "First Printing",
  "kernelspec": {
   "display_name": "qss",
   "language": "python",
   "name": "python3"
  },
  "language_info": {
   "codemirror_mode": {
    "name": "ipython",
    "version": 3
   },
   "file_extension": ".py",
   "mimetype": "text/x-python",
   "name": "python",
   "nbconvert_exporter": "python",
   "pygments_lexer": "ipython3",
   "version": "3.10.11"
  },
  "orig_nbformat": 4,
  "title": "Python Code for QSS Chapter 7: Uncertainty"
 },
 "nbformat": 4,
 "nbformat_minor": 2
}
