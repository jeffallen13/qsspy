{
 "cells": [
  {
   "cell_type": "code",
   "execution_count": 1,
   "metadata": {},
   "outputs": [],
   "source": [
    "import pandas as pd\n",
    "import numpy as np\n",
    "from scipy import stats\n",
    "import matplotlib.pyplot as plt\n",
    "import seaborn as sns"
   ]
  },
  {
   "cell_type": "markdown",
   "metadata": {},
   "source": [
    "## Section 7.1: Estimation {-}\n",
    "\n",
    "### Section 7.1.1: Unbiasedness and Consistency {-}"
   ]
  },
  {
   "cell_type": "code",
   "execution_count": 2,
   "metadata": {},
   "outputs": [
    {
     "data": {
      "text/plain": [
       "1.093197115922823"
      ]
     },
     "execution_count": 2,
     "metadata": {},
     "output_type": "execute_result"
    }
   ],
   "source": [
    "# simulation parameters\n",
    "n = 100 # sample size\n",
    "mu0 = 0 # mean of Y_i(0)\n",
    "sd0 = 1 # standard deviation of Y_i(0)\n",
    "mu1 = 1 # mean of Y_i(1)\n",
    "sd1 = 1 # standard deviation of Y_i(1)\n",
    "\n",
    "# generate a sample \n",
    "Y0 = stats.norm.rvs(size=n, loc=mu0, scale=sd0)\n",
    "Y1 = stats.norm.rvs(size=n, loc=mu1, scale=sd1)\n",
    "tau = Y1 - Y0 # individual treatment effect\n",
    "# true value of the sample average treatment effect\n",
    "SATE = tau.mean()\n",
    "SATE"
   ]
  },
  {
   "cell_type": "code",
   "execution_count": 3,
   "metadata": {},
   "outputs": [
    {
     "data": {
      "text/plain": [
       "0.0006563819230377741"
      ]
     },
     "execution_count": 3,
     "metadata": {},
     "output_type": "execute_result"
    }
   ],
   "source": [
    "# repeatedly conduct randomized controlled trials\n",
    "sims = 5000 # repeat 5,000 times, we could do more\n",
    "diff_means = np.zeros(sims) # container \n",
    "sample_vector = np.concatenate((np.ones(int(n/2)), np.zeros(int(n/2))))\n",
    "\n",
    "for i in range(sims):\n",
    "    # randomize the treatment by sampling of a vector of 0's and 1's\n",
    "    treat = np.random.choice(sample_vector, size=n, replace=False)\n",
    "    # difference-in-means\n",
    "    diff_means[i] = Y1[treat==1].mean() - Y0[treat==0].mean()\n",
    "\n",
    "# estimation of error for SATE\n",
    "est_error = diff_means - SATE\n",
    "\n",
    "est_error.mean()"
   ]
  },
  {
   "cell_type": "code",
   "execution_count": 4,
   "metadata": {},
   "outputs": [
    {
     "data": {
      "text/plain": [
       "count    5000.00000\n",
       "mean        0.00066\n",
       "std         0.14551\n",
       "min        -0.47547\n",
       "25%        -0.10010\n",
       "50%         0.00137\n",
       "75%         0.10101\n",
       "max         0.53739\n",
       "dtype: float64"
      ]
     },
     "execution_count": 4,
     "metadata": {},
     "output_type": "execute_result"
    }
   ],
   "source": [
    "pd.Series(est_error).describe().round(5)"
   ]
  },
  {
   "cell_type": "code",
   "execution_count": 5,
   "metadata": {},
   "outputs": [
    {
     "data": {
      "text/plain": [
       "-0.0030907547870285667"
      ]
     },
     "execution_count": 5,
     "metadata": {},
     "output_type": "execute_result"
    }
   ],
   "source": [
    "# PATE simulation\n",
    "PATE = mu1 - mu0\n",
    "diff_means = np.zeros(sims)\n",
    "\n",
    "for i in range(sims):\n",
    "    # generate a sample for each simulation \n",
    "    Y0 = stats.norm.rvs(size=n, loc=mu0, scale=sd0)\n",
    "    Y1 = stats.norm.rvs(size=n, loc=mu1, scale=sd1)\n",
    "    treat = np.random.choice(sample_vector, size=n, replace=False)\n",
    "    diff_means[i] = Y1[treat==1].mean() - Y0[treat==0].mean()\n",
    "\n",
    "# estimation error for PATE\n",
    "est_error = diff_means - PATE\n",
    "\n",
    "# unbiased\n",
    "est_error.mean()"
   ]
  },
  {
   "cell_type": "code",
   "execution_count": 6,
   "metadata": {},
   "outputs": [
    {
     "data": {
      "text/plain": [
       "count    5000.00000\n",
       "mean       -0.00309\n",
       "std         0.19839\n",
       "min        -0.65824\n",
       "25%        -0.14043\n",
       "50%        -0.00312\n",
       "75%         0.13004\n",
       "max         0.71270\n",
       "dtype: float64"
      ]
     },
     "execution_count": 6,
     "metadata": {},
     "output_type": "execute_result"
    }
   ],
   "source": [
    "pd.Series(est_error).describe().round(5)"
   ]
  },
  {
   "cell_type": "markdown",
   "metadata": {},
   "source": [
    "### Section 7.1.2: Standard Error {-}"
   ]
  },
  {
   "cell_type": "code",
   "execution_count": 7,
   "metadata": {},
   "outputs": [
    {
     "data": {
      "text/plain": [
       "<matplotlib.lines.Line2D at 0x211a3cf3820>"
      ]
     },
     "execution_count": 7,
     "metadata": {},
     "output_type": "execute_result"
    },
    {
     "data": {
      "image/png": "[encoded data removed]",
      "text/plain": [
       "<Figure size 600x400 with 1 Axes>"
      ]
     },
     "metadata": {},
     "output_type": "display_data"
    }
   ],
   "source": [
    "sns.displot(\n",
    "    diff_means, stat='density', color='white', edgecolor='black',\n",
    "    height=4, aspect=1.5, bins=20\n",
    ").set(title='Sampling distribution', xlabel='Difference-in-means estimator')\n",
    "\n",
    "plt.axvline(SATE, color='red') # true value of SATE"
   ]
  },
  {
   "cell_type": "code",
   "execution_count": 8,
   "metadata": {},
   "outputs": [
    {
     "data": {
      "text/plain": [
       "0.19838536417616665"
      ]
     },
     "execution_count": 8,
     "metadata": {},
     "output_type": "execute_result"
    }
   ],
   "source": [
    "diff_means.std(ddof=1)"
   ]
  },
  {
   "cell_type": "code",
   "execution_count": 9,
   "metadata": {},
   "outputs": [
    {
     "data": {
      "text/plain": [
       "0.2204999669265361"
      ]
     },
     "execution_count": 9,
     "metadata": {},
     "output_type": "execute_result"
    }
   ],
   "source": [
    "np.sqrt(((diff_means - SATE)**2).mean())"
   ]
  },
  {
   "cell_type": "code",
   "execution_count": 10,
   "metadata": {},
   "outputs": [
    {
     "data": {
      "text/plain": [
       "0.19826469189011459"
      ]
     },
     "execution_count": 10,
     "metadata": {},
     "output_type": "execute_result"
    }
   ],
   "source": [
    "# PATE simulation with standard error\n",
    "sims = 5000\n",
    "diff_means = np.zeros(sims)\n",
    "se = np.zeros(sims)\n",
    "\n",
    "for i in range(sims):\n",
    "    # generate a sample for each simulation \n",
    "    Y0 = stats.norm.rvs(size=n, loc=mu0, scale=sd0)\n",
    "    Y1 = stats.norm.rvs(size=n, loc=mu1, scale=sd1)\n",
    "    # randomize treatment by sampling the vector of 0's and 1's created above \n",
    "    treat = np.random.choice(sample_vector, size=n, replace=False)\n",
    "    diff_means[i] = Y1[treat==1].mean() - Y0[treat==0].mean()\n",
    "    se[i] = (np.sqrt(Y1[treat==1].var(ddof=1) / (n/2) + \n",
    "                     Y0[treat==0].var(ddof=1) / (n/2)))\n",
    "    \n",
    "diff_means.std(ddof=1)"
   ]
  },
  {
   "cell_type": "code",
   "execution_count": 11,
   "metadata": {},
   "outputs": [
    {
     "data": {
      "text/plain": [
       "0.19941849887634452"
      ]
     },
     "execution_count": 11,
     "metadata": {},
     "output_type": "execute_result"
    }
   ],
   "source": [
    "se.mean()"
   ]
  },
  {
   "cell_type": "markdown",
   "metadata": {},
   "source": [
    "### Section 7.1.3: Confidence Intervals {-}"
   ]
  },
  {
   "cell_type": "code",
   "execution_count": 12,
   "metadata": {},
   "outputs": [
    {
     "data": {
      "text/plain": [
       "(0.5601, 0.6399)"
      ]
     },
     "execution_count": 12,
     "metadata": {},
     "output_type": "execute_result"
    }
   ],
   "source": [
    "n = 1000 # sample size\n",
    "x_bar = 0.6 # point estimate\n",
    "s_e = np.sqrt(x_bar * (1-x_bar) / n) # standard error\n",
    "\n",
    "# 99% confidence intervals; display as a tuple\n",
    "((x_bar - stats.norm.ppf(0.995) * s_e).round(5), \n",
    " (x_bar + stats.norm.ppf(0.995) * s_e).round(5))"
   ]
  },
  {
   "cell_type": "code",
   "execution_count": 13,
   "metadata": {},
   "outputs": [
    {
     "data": {
      "text/plain": [
       "(0.56964, 0.63036)"
      ]
     },
     "execution_count": 13,
     "metadata": {},
     "output_type": "execute_result"
    }
   ],
   "source": [
    "# 95% confidence intervals\n",
    "((x_bar - stats.norm.ppf(0.975) * s_e).round(5), \n",
    " (x_bar + stats.norm.ppf(0.975) * s_e).round(5))"
   ]
  },
  {
   "cell_type": "code",
   "execution_count": 14,
   "metadata": {},
   "outputs": [
    {
     "data": {
      "text/plain": [
       "(0.57452, 0.62548)"
      ]
     },
     "execution_count": 14,
     "metadata": {},
     "output_type": "execute_result"
    }
   ],
   "source": [
    "# 90% confidence intervals\n",
    "((x_bar - stats.norm.ppf(0.95) * s_e).round(5), \n",
    " (x_bar + stats.norm.ppf(0.95) * s_e).round(5))"
   ]
  },
  {
   "cell_type": "code",
   "execution_count": 15,
   "metadata": {},
   "outputs": [
    {
     "data": {
      "text/plain": [
       "0.9496"
      ]
     },
     "execution_count": 15,
     "metadata": {},
     "output_type": "execute_result"
    }
   ],
   "source": [
    "# empty container matrices for 2 sets of confidence intervals\n",
    "ci95 = np.zeros(sims*2).reshape(sims, 2)\n",
    "ci90 = np.zeros(sims*2).reshape(sims, 2)\n",
    "\n",
    "# 95 percent confidence intervals\n",
    "ci95[:,0] = diff_means - stats.norm.ppf(0.975) * se # lower limit\n",
    "ci95[:,1] = diff_means + stats.norm.ppf(0.975) * se # upper limit\n",
    "\n",
    "# 90 percent confidence intervals\n",
    "ci90[:,0] = diff_means - stats.norm.ppf(0.95) * se # lower limit\n",
    "ci90[:,1] = diff_means + stats.norm.ppf(0.95) * se # upper limit\n",
    "\n",
    "# coverage rate for 95% confidence interval\n",
    "((ci95[:,0] <= 1) & (ci95[:,1] >= 1)).mean()"
   ]
  },
  {
   "cell_type": "code",
   "execution_count": 16,
   "metadata": {},
   "outputs": [
    {
     "data": {
      "text/plain": [
       "0.8994"
      ]
     },
     "execution_count": 16,
     "metadata": {},
     "output_type": "execute_result"
    }
   ],
   "source": [
    "# coverage rate for 90% confidence interval\n",
    "((ci90[:,0] <= 1) & (ci90[:,1] >= 1)).mean()"
   ]
  },
  {
   "cell_type": "code",
   "execution_count": 17,
   "metadata": {},
   "outputs": [
    {
     "data": {
      "text/plain": [
       "array([0.9466, 0.951 , 0.9466])"
      ]
     },
     "execution_count": 17,
     "metadata": {},
     "output_type": "execute_result"
    }
   ],
   "source": [
    "p = 0.6 # true parameter value\n",
    "n = np.array([50, 100, 1000]) # 3 sample sizes to be examined\n",
    "alpha = 0.05\n",
    "sims = 5000 # number of simulations\n",
    "results = np.zeros(len(n)) # a container for results\n",
    "\n",
    "for i in range(len(n)):\n",
    "    ci_results = np.zeros(sims) # a container for whether CI contains truth\n",
    "    # loop for repeated hypothetical survey sampling\n",
    "    for j in range(sims):\n",
    "        data = stats.binom.rvs(n=1, p=p, size=n[i]) # simple random sampling\n",
    "        x_bar = data.mean() # sample proportion as an estimate\n",
    "        s_e = np.sqrt(x_bar * (1-x_bar) / n[i]) # standard errors\n",
    "        ci_lower = x_bar - stats.norm.ppf(1-alpha/2) * s_e\n",
    "        ci_upper = x_bar + stats.norm.ppf(1-alpha/2) * s_e\n",
    "        ci_results[j] = (p >= ci_lower) & (p <= ci_upper)\n",
    "    # proportion of CIs that contain the true value\n",
    "    results[i] = ci_results.mean()\n",
    "\n",
    "results"
   ]
  },
  {
   "cell_type": "markdown",
   "metadata": {},
   "source": [
    "### Section 7.1.4: Margin of Error and Sample Size Calculation in Polls {-}"
   ]
  },
  {
   "cell_type": "code",
   "execution_count": 18,
   "metadata": {},
   "outputs": [
    {
     "data": {
      "text/plain": [
       "Text(0.32, -250, 'margin of error = 0.05')"
      ]
     },
     "execution_count": 18,
     "metadata": {},
     "output_type": "execute_result"
    },
    {
     "data": {
      "image/png": "[encoded data removed]",
      "text/plain": [
       "<Figure size 600x400 with 1 Axes>"
      ]
     },
     "metadata": {},
     "output_type": "display_data"
    }
   ],
   "source": [
    "MoE = np.array([0.01, 0.03, 0.05]) # the desired margin of error\n",
    "p = np.arange(0.01, 1, 0.01)\n",
    "n = 1.96**2 * p * (1-p) / MoE[0]**2\n",
    "n2 = 1.96**2 * p * (1-p) / MoE[1]**2\n",
    "n3 = 1.96**2 * p * (1-p) / MoE[2]**2\n",
    "\n",
    "fig, ax = plt.subplots(figsize=(6,4))\n",
    "\n",
    "sns.lineplot(x=p, y=n, ax=ax, color='black').set(\n",
    "    ylim=(-1000, 11000), xlabel='Population Proportion', ylabel='Sample Size'\n",
    ")\n",
    "\n",
    "sns.lineplot(x=p, y=n2, ax=ax, color='black', linestyle='--')\n",
    "\n",
    "sns.lineplot(x=p, y=n3, ax=ax, color='black', linestyle=':')\n",
    "\n",
    "# Add text labels\n",
    "ax.text(0.32, 10000, 'margin of error = 0.01', fontsize=10)\n",
    "ax.text(0.32, 1700, 'margin of error = 0.03', fontsize=10)\n",
    "ax.text(0.32, -250, 'margin of error = 0.05', fontsize=10)"
   ]
  },
  {
   "cell_type": "code",
   "execution_count": 19,
   "metadata": {},
   "outputs": [],
   "source": [
    "# election and polling results, by state\n",
    "pres08 = pd.read_csv('pres08.csv')\n",
    "polls08 = pd.read_csv('polls08.csv')\n",
    "\n",
    "# convert to a date object\n",
    "polls08['middate'] = pd.to_datetime(polls08['middate'])\n",
    "\n",
    "# number of days to the election\n",
    "from datetime import datetime\n",
    "election_day = datetime.strptime('2008-11-04', '%Y-%m-%d')\n",
    "polls08['days_to_election'] = (election_day - polls08['middate']).dt.days\n",
    "\n",
    "# extract unique state names which the loop will iterate through\n",
    "st_names = polls08['state'].unique()\n",
    "\n",
    "# create an empty 51 X 3 placeholder Data Frame\n",
    "poll_pred = pd.DataFrame(np.zeros(51*3).reshape(51, 3), index=st_names)\n",
    "\n",
    "# loop across the 50 states plus DC\n",
    "for i in range(len(st_names)):\n",
    "    # subset the ith state\n",
    "    state_data = polls08[polls08['state']==st_names[i]]\n",
    "    # further subset the latest polls within the state\n",
    "    latest = (state_data['days_to_election']== \n",
    "              state_data['days_to_election'].min())\n",
    "    # compute the mean of the latest polls and store it\n",
    "    poll_pred.iloc[i, 0] = state_data['Obama'][latest].mean() / 100\n",
    "\n",
    "# upper and lower confidence limits\n",
    "n = 1000 # sample size\n",
    "alpha = 0.05\n",
    "se = np.sqrt(poll_pred.iloc[:,0] * (1-poll_pred.iloc[:,0]) / n) # standard error\n",
    "poll_pred.iloc[:,1] = poll_pred.iloc[:,0] - stats.norm.ppf(1-alpha/2) * se\n",
    "poll_pred.iloc[:,2] = poll_pred.iloc[:,0] + stats.norm.ppf(1-alpha/2) * se"
   ]
  },
  {
   "cell_type": "code",
   "execution_count": 20,
   "metadata": {},
   "outputs": [
    {
     "data": {
      "image/png": "[encoded data removed]",
      "text/plain": [
       "<Figure size 600x400 with 1 Axes>"
      ]
     },
     "metadata": {},
     "output_type": "display_data"
    }
   ],
   "source": [
    "# plot the results\n",
    "fig, ax = plt.subplots(figsize=(6,4))\n",
    "\n",
    "sns.scatterplot(\n",
    "    x = pres08['Obama'] / 100, y = poll_pred.iloc[:,0].reset_index(drop=True), \n",
    "    ax=ax, color='white', edgecolor='black'\n",
    ").set(xlabel=\"Obama's vote share\", ylabel='Poll prediction', \n",
    "      xlim=(0, 1), ylim=(0, 1))\n",
    "\n",
    "ax.axline((0, 0), slope=1, color='black', linewidth=0.5)\n",
    "\n",
    "# adding 95% confidence intervals for each state \n",
    "for i in range(len(st_names)):\n",
    "    ax.plot(\n",
    "        [pres08['Obama'][i] / 100] * 2,\n",
    "        [poll_pred.iloc[i,1], poll_pred.iloc[i,2]], \n",
    "        color='black', linewidth=0.5\n",
    "    )"
   ]
  },
  {
   "cell_type": "code",
   "execution_count": 21,
   "metadata": {},
   "outputs": [
    {
     "data": {
      "text/plain": [
       "0.5882352941176471"
      ]
     },
     "execution_count": 21,
     "metadata": {},
     "output_type": "execute_result"
    }
   ],
   "source": [
    "# proportion of confidence intervals that contain the election day outcome\n",
    "# reset index: can only compare identically-labeled Series objects\n",
    "((poll_pred.iloc[:,1].reset_index(drop=True) <= pres08['Obama'] / 100 ) & \n",
    " (poll_pred.iloc[:,2].reset_index(drop=True) >= pres08['Obama'] / 100)).mean()"
   ]
  },
  {
   "cell_type": "code",
   "execution_count": 22,
   "metadata": {},
   "outputs": [
    {
     "data": {
      "text/plain": [
       "-0.026797385620915028"
      ]
     },
     "execution_count": 22,
     "metadata": {},
     "output_type": "execute_result"
    }
   ],
   "source": [
    "# bias\n",
    "bias=(poll_pred.iloc[:,0].reset_index(drop=True) - pres08['Obama']/100).mean()\n",
    "bias"
   ]
  },
  {
   "cell_type": "code",
   "execution_count": 23,
   "metadata": {},
   "outputs": [
    {
     "data": {
      "text/plain": [
       "0.7647058823529411"
      ]
     },
     "execution_count": 23,
     "metadata": {},
     "output_type": "execute_result"
    }
   ],
   "source": [
    "# bias corrected estimate\n",
    "poll_bias = poll_pred.iloc[:,0] - bias\n",
    "\n",
    "# bias corrected standard error\n",
    "se_bias = np.sqrt(poll_bias * (1-poll_bias) / n)\n",
    "\n",
    "# bias corrected confidence intervals\n",
    "ci_bias_lower = poll_bias - stats.norm.ppf(1-alpha/2) * se_bias\n",
    "ci_bias_upper = poll_bias + stats.norm.ppf(1-alpha/2) * se_bias\n",
    "\n",
    "# proportion of bias corrected CIs that contain election day outcome\n",
    "((ci_bias_lower.reset_index(drop=True) <= pres08['Obama'] / 100) & \n",
    " (ci_bias_upper.reset_index(drop=True) >= pres08['Obama'] / 100)).mean()"
   ]
  },
  {
   "cell_type": "markdown",
   "metadata": {},
   "source": [
    "### Section 7.1.5: Analysis of Randomized Controlled Trials {-}"
   ]
  },
  {
   "cell_type": "code",
   "execution_count": 24,
   "metadata": {},
   "outputs": [
    {
     "data": {
      "text/plain": [
       "<matplotlib.lines.Line2D at 0x211a46cb520>"
      ]
     },
     "execution_count": 24,
     "metadata": {},
     "output_type": "execute_result"
    },
    {
     "data": {
      "image/png": "[encoded data removed]",
      "text/plain": [
       "<Figure size 1200x500 with 2 Axes>"
      ]
     },
     "metadata": {},
     "output_type": "display_data"
    }
   ],
   "source": [
    "STAR = pd.read_csv('STAR.csv')\n",
    "\n",
    "fig, axs = plt.subplots(1, 2, figsize=(12,5))\n",
    "\n",
    "sns.histplot(\n",
    "    STAR['g4reading'][STAR.classtype==1], stat = 'density', ax=axs[0],\n",
    "    color='white', edgecolor='black', bins=15\n",
    ").set(ylim=(0, 0.01), xlim=(500, 900), title='Small class',\n",
    "      xlabel='Fourth grade reading test score')\n",
    "\n",
    "axs[0].axvline(STAR['g4reading'][STAR.classtype==1].mean(), \n",
    "               color='blue', linewidth=0.75)\n",
    "\n",
    "sns.histplot(\n",
    "    STAR['g4reading'][STAR.classtype==2], stat = 'density', ax=axs[1],\n",
    "    color='white', edgecolor='black', bins=15\n",
    ").set(ylim=(0, 0.01), xlim=(500, 900), title='Regular class',\n",
    "      xlabel='Fourth grade reading test score')\n",
    "\n",
    "axs[1].axvline(STAR['g4reading'][STAR.classtype==2].mean(),\n",
    "                color='blue', linewidth=0.75)"
   ]
  },
  {
   "cell_type": "code",
   "execution_count": 25,
   "metadata": {},
   "outputs": [
    {
     "data": {
      "text/plain": [
       "(723.3911845730028, 1.9130122952458233)"
      ]
     },
     "execution_count": 25,
     "metadata": {},
     "output_type": "execute_result"
    }
   ],
   "source": [
    "# estimate and standard error for small class size\n",
    "n_small = (STAR['classtype']==1 & STAR['g4reading'].notnull()).sum()\n",
    "est_small = STAR['g4reading'][STAR.classtype==1].mean()\n",
    "se_small = STAR['g4reading'][STAR.classtype==1].std() / np.sqrt(n_small)\n",
    "est_small, se_small"
   ]
  },
  {
   "cell_type": "code",
   "execution_count": 26,
   "metadata": {},
   "outputs": [
    {
     "data": {
      "text/plain": [
       "(719.88995215311, 1.8388496908502467)"
      ]
     },
     "execution_count": 26,
     "metadata": {},
     "output_type": "execute_result"
    }
   ],
   "source": [
    "# estimate and standard error for regular class size\n",
    "n_regular = ((STAR['classtype']==2) & \n",
    "             (STAR['classtype'].notnull()) & \n",
    "             (STAR['g4reading'].notnull())).sum()\n",
    "est_regular = STAR['g4reading'][STAR.classtype==2].mean()\n",
    "se_regular = STAR['g4reading'][STAR.classtype==2].std() / np.sqrt(n_regular)\n",
    "est_regular, se_regular"
   ]
  },
  {
   "cell_type": "code",
   "execution_count": 27,
   "metadata": {},
   "outputs": [
    {
     "data": {
      "text/plain": [
       "(719.6417493723386, 727.1406197736669)"
      ]
     },
     "execution_count": 27,
     "metadata": {},
     "output_type": "execute_result"
    }
   ],
   "source": [
    "alpha = 0.05\n",
    "\n",
    "# 95% confidence intervals for small class size\n",
    "ci_small = (est_small - stats.norm.ppf(1-alpha/2) * se_small,\n",
    "            est_small + stats.norm.ppf(1-alpha/2) * se_small)\n",
    "ci_small"
   ]
  },
  {
   "cell_type": "code",
   "execution_count": 28,
   "metadata": {},
   "outputs": [
    {
     "data": {
      "text/plain": [
       "(716.2858729860609, 723.4940313201591)"
      ]
     },
     "execution_count": 28,
     "metadata": {},
     "output_type": "execute_result"
    }
   ],
   "source": [
    "# 95% confidence intervals for regular class size\n",
    "ci_regular = (est_regular - stats.norm.ppf(1-alpha/2) * se_regular,\n",
    "              est_regular + stats.norm.ppf(1-alpha/2) * se_regular)\n",
    "ci_regular"
   ]
  },
  {
   "cell_type": "code",
   "execution_count": 29,
   "metadata": {},
   "outputs": [
    {
     "data": {
      "text/plain": [
       "3.5012324198927445"
      ]
     },
     "execution_count": 29,
     "metadata": {},
     "output_type": "execute_result"
    }
   ],
   "source": [
    "# difference in means estimator\n",
    "ate_est = est_small - est_regular\n",
    "ate_est"
   ]
  },
  {
   "cell_type": "code",
   "execution_count": 30,
   "metadata": {},
   "outputs": [
    {
     "data": {
      "text/plain": [
       "2.653485298112982"
      ]
     },
     "execution_count": 30,
     "metadata": {},
     "output_type": "execute_result"
    }
   ],
   "source": [
    "# standard error and 95% confidence interval\n",
    "ate_se = np.sqrt(se_small**2 + se_regular**2)\n",
    "ate_se"
   ]
  },
  {
   "cell_type": "code",
   "execution_count": 31,
   "metadata": {},
   "outputs": [
    {
     "data": {
      "text/plain": [
       "(-1.699503197915229, 8.701968037700718)"
      ]
     },
     "execution_count": 31,
     "metadata": {},
     "output_type": "execute_result"
    }
   ],
   "source": [
    "ate_ci = (ate_est - stats.norm.ppf(1-alpha/2) * ate_se,\n",
    "          ate_est + stats.norm.ppf(1-alpha/2) * ate_se)\n",
    "ate_ci"
   ]
  },
  {
   "cell_type": "markdown",
   "metadata": {},
   "source": [
    "### Section 7.1.6: Analysis Based on Student’s t-Distribution {-}"
   ]
  },
  {
   "cell_type": "code",
   "execution_count": 32,
   "metadata": {},
   "outputs": [
    {
     "data": {
      "text/plain": [
       "(719.635479522832, 727.1468896231735)"
      ]
     },
     "execution_count": 32,
     "metadata": {},
     "output_type": "execute_result"
    }
   ],
   "source": [
    "# 95% CI for small class \n",
    "(est_small - stats.t.ppf(0.975, df=n_small-1) * se_small,\n",
    " est_small + stats.t.ppf(0.975, df=n_small-1) * se_small)"
   ]
  },
  {
   "cell_type": "code",
   "execution_count": 33,
   "metadata": {},
   "outputs": [
    {
     "data": {
      "text/plain": [
       "(719.6417493723386, 727.1406197736669)"
      ]
     },
     "execution_count": 33,
     "metadata": {},
     "output_type": "execute_result"
    }
   ],
   "source": [
    "# 95% CI based on the central limit theorem\n",
    "ci_small"
   ]
  },
  {
   "cell_type": "code",
   "execution_count": 34,
   "metadata": {},
   "outputs": [
    {
     "data": {
      "text/plain": [
       "(716.2806412822123, 723.4992630240077)"
      ]
     },
     "execution_count": 34,
     "metadata": {},
     "output_type": "execute_result"
    }
   ],
   "source": [
    "# 95% CI for regular class \n",
    "(est_regular - stats.t.ppf(0.975, df=n_regular-1) * se_regular,\n",
    " est_regular + stats.t.ppf(0.975, df=n_regular-1) * se_regular)"
   ]
  },
  {
   "cell_type": "code",
   "execution_count": 35,
   "metadata": {},
   "outputs": [
    {
     "data": {
      "text/plain": [
       "(716.2858729860609, 723.4940313201591)"
      ]
     },
     "execution_count": 35,
     "metadata": {},
     "output_type": "execute_result"
    }
   ],
   "source": [
    "# 95% CI based on the central limit theorem\n",
    "ci_regular"
   ]
  },
  {
   "cell_type": "code",
   "execution_count": 36,
   "metadata": {},
   "outputs": [
    {
     "data": {
      "text/plain": [
       "0.18720319784556907"
      ]
     },
     "execution_count": 36,
     "metadata": {},
     "output_type": "execute_result"
    }
   ],
   "source": [
    "test_result = stats.ttest_ind(\n",
    "    STAR['g4reading'][STAR.classtype==1], \n",
    "    STAR['g4reading'][STAR.classtype==2],\n",
    "    # override default equal_var=True; False is Welch t-test \n",
    "    equal_var=False, \n",
    "    # override default nan_policy='propagate'\n",
    "    nan_policy='omit')\n",
    "\n",
    "# we can extract results from the test_result object \n",
    "test_result.pvalue"
   ]
  },
  {
   "cell_type": "code",
   "execution_count": 37,
   "metadata": {},
   "outputs": [
    {
     "name": "stdout",
     "output_type": "stream",
     "text": [
      "Welch Two Sample t-test\n",
      "t-stat: 1.3195\n",
      "p-value: 0.1872\n",
      "df: 1541.2\n",
      "95% confidence interval: (-1.7036, 8.7061)\n"
     ]
    }
   ],
   "source": [
    "# find the confidence interval \n",
    "ci = test_result.confidence_interval(confidence_level=0.95)\n",
    "\n",
    "# print summary of results\n",
    "print(\n",
    "    'Welch Two Sample t-test\\n'\n",
    "    f\"t-stat: {test_result.statistic:.4f}\\n\"\n",
    "    f\"p-value: {test_result.pvalue:.4f}\\n\"\n",
    "    f\"df: {test_result.df:.1f}\\n\"\n",
    "    f\"95% confidence interval: ({ci[0]:.4f}, {ci[1]:.4f})\"\n",
    ")"
   ]
  },
  {
   "cell_type": "markdown",
   "metadata": {},
   "source": [
    "## Section 7.2: Hypothesis Testing {-}\n",
    "\n",
    "### Section 7.2.1: Tea-Testing Experiment {-}"
   ]
  },
  {
   "cell_type": "code",
   "execution_count": 38,
   "metadata": {},
   "outputs": [
    {
     "data": {
      "text/plain": [
       "array([ 1, 16, 36, 16,  1])"
      ]
     },
     "execution_count": 38,
     "metadata": {},
     "output_type": "execute_result"
    }
   ],
   "source": [
    "from math import comb\n",
    "\n",
    "# truth: enumerate the number of assignment combinations\n",
    "true = np.array(\n",
    "    [comb(4,0) * comb(4,4),\n",
    "     comb(4,1) * comb(4,3),\n",
    "     comb(4,2) * comb(4,2),\n",
    "     comb(4,3) * comb(4,1),\n",
    "     comb(4,4) * comb(4,0)]\n",
    ")\n",
    "\n",
    "true"
   ]
  },
  {
   "cell_type": "code",
   "execution_count": 39,
   "metadata": {},
   "outputs": [
    {
     "data": {
      "text/plain": [
       "0    0.014286\n",
       "2    0.228571\n",
       "4    0.514286\n",
       "6    0.228571\n",
       "8    0.014286\n",
       "dtype: float64"
      ]
     },
     "execution_count": 39,
     "metadata": {},
     "output_type": "execute_result"
    }
   ],
   "source": [
    "# compute probability: divide it by the total number of events\n",
    "true = pd.Series(true / true.sum(), index=[0,2,4,6,8])\n",
    "\n",
    "true"
   ]
  },
  {
   "cell_type": "code",
   "execution_count": 40,
   "metadata": {},
   "outputs": [
    {
     "data": {
      "text/plain": [
       "0.0    0.005\n",
       "2.0    0.209\n",
       "4.0    0.533\n",
       "6.0    0.238\n",
       "8.0    0.015\n",
       "Name: proportion, dtype: float64"
      ]
     },
     "execution_count": 40,
     "metadata": {},
     "output_type": "execute_result"
    }
   ],
   "source": [
    "# simulations\n",
    "sims=1000\n",
    "# lady's guess: M stands for 'Milk first', T stands for 'Tea first'\n",
    "guess=np.array(['M', 'T', 'T', 'M', 'M', 'T', 'T', 'M'])\n",
    "sample_vector=np.array(['T']*4 + ['M']*4)\n",
    "correct=pd.Series(np.zeros(sims)) # place holder for number of correct guesses\n",
    "\n",
    "for i in range(sims):\n",
    "    # randomize which cups get Milk/Tea first\n",
    "    cups=np.random.choice(sample_vector, size=len(sample_vector), replace=False)\n",
    "    correct[i]=(guess==cups).sum() # number of correct guesses\n",
    "\n",
    "# estimated probability for each number of correct guesses\n",
    "correct.value_counts(normalize=True).sort_index()"
   ]
  },
  {
   "cell_type": "code",
   "execution_count": 41,
   "metadata": {},
   "outputs": [
    {
     "data": {
      "text/plain": [
       "0.0   -0.009286\n",
       "2.0   -0.019571\n",
       "4.0    0.018714\n",
       "6.0    0.009429\n",
       "8.0    0.000714\n",
       "dtype: float64"
      ]
     },
     "execution_count": 41,
     "metadata": {},
     "output_type": "execute_result"
    }
   ],
   "source": [
    "# comparison with analytical answers; the differences are small\n",
    "correct.value_counts(normalize=True).sort_index() - true"
   ]
  },
  {
   "cell_type": "markdown",
   "metadata": {},
   "source": [
    "### Section 7.2.2: The General Framework {-}"
   ]
  },
  {
   "cell_type": "code",
   "execution_count": 42,
   "metadata": {},
   "outputs": [
    {
     "data": {
      "text/html": [
       "<div>\n",
       "<style scoped>\n",
       "    .dataframe tbody tr th:only-of-type {\n",
       "        vertical-align: middle;\n",
       "    }\n",
       "\n",
       "    .dataframe tbody tr th {\n",
       "        vertical-align: top;\n",
       "    }\n",
       "\n",
       "    .dataframe thead th {\n",
       "        text-align: right;\n",
       "    }\n",
       "</style>\n",
       "<table border=\"1\" class=\"dataframe\">\n",
       "  <thead>\n",
       "    <tr style=\"text-align: right;\">\n",
       "      <th></th>\n",
       "      <th>M</th>\n",
       "      <th>T</th>\n",
       "    </tr>\n",
       "  </thead>\n",
       "  <tbody>\n",
       "    <tr>\n",
       "      <th>M</th>\n",
       "      <td>4</td>\n",
       "      <td>0</td>\n",
       "    </tr>\n",
       "    <tr>\n",
       "      <th>T</th>\n",
       "      <td>0</td>\n",
       "      <td>4</td>\n",
       "    </tr>\n",
       "  </tbody>\n",
       "</table>\n",
       "</div>"
      ],
      "text/plain": [
       "   M  T\n",
       "M  4  0\n",
       "T  0  4"
      ]
     },
     "execution_count": 42,
     "metadata": {},
     "output_type": "execute_result"
    }
   ],
   "source": [
    "# all correct\n",
    "x = pd.DataFrame({'M': [4,0], 'T': [0,4]}, index=['M','T'])\n",
    "# six correct\n",
    "y = pd.DataFrame({'M': [3,1], 'T': [1,3]}, index=['M','T'])\n",
    "\n",
    "x"
   ]
  },
  {
   "cell_type": "code",
   "execution_count": 43,
   "metadata": {},
   "outputs": [
    {
     "data": {
      "text/html": [
       "<div>\n",
       "<style scoped>\n",
       "    .dataframe tbody tr th:only-of-type {\n",
       "        vertical-align: middle;\n",
       "    }\n",
       "\n",
       "    .dataframe tbody tr th {\n",
       "        vertical-align: top;\n",
       "    }\n",
       "\n",
       "    .dataframe thead th {\n",
       "        text-align: right;\n",
       "    }\n",
       "</style>\n",
       "<table border=\"1\" class=\"dataframe\">\n",
       "  <thead>\n",
       "    <tr style=\"text-align: right;\">\n",
       "      <th></th>\n",
       "      <th>M</th>\n",
       "      <th>T</th>\n",
       "    </tr>\n",
       "  </thead>\n",
       "  <tbody>\n",
       "    <tr>\n",
       "      <th>M</th>\n",
       "      <td>3</td>\n",
       "      <td>1</td>\n",
       "    </tr>\n",
       "    <tr>\n",
       "      <th>T</th>\n",
       "      <td>1</td>\n",
       "      <td>3</td>\n",
       "    </tr>\n",
       "  </tbody>\n",
       "</table>\n",
       "</div>"
      ],
      "text/plain": [
       "   M  T\n",
       "M  3  1\n",
       "T  1  3"
      ]
     },
     "execution_count": 43,
     "metadata": {},
     "output_type": "execute_result"
    }
   ],
   "source": [
    "y"
   ]
  },
  {
   "cell_type": "code",
   "execution_count": 44,
   "metadata": {},
   "outputs": [
    {
     "name": "stdout",
     "output_type": "stream",
     "text": [
      "Fisher's Exact Test for Count Data: One-Sided\n",
      "P-value: 0.01429\n"
     ]
    }
   ],
   "source": [
    "# one-sided test for 8 correct guesses\n",
    "fisher_one=stats.fisher_exact(x.values, alternative='greater')\n",
    "\n",
    "print(\n",
    "    \"Fisher's Exact Test for Count Data: One-Sided\\n\"\n",
    "    f\"P-value: {fisher_one.pvalue:.5f}\"\n",
    ")"
   ]
  },
  {
   "cell_type": "code",
   "execution_count": 45,
   "metadata": {},
   "outputs": [
    {
     "name": "stdout",
     "output_type": "stream",
     "text": [
      "Fisher's Exact Test for Count Data: Two-Sided\n",
      "P-value: 0.48571\n"
     ]
    }
   ],
   "source": [
    "# two-sided test for 6 correct guesses \n",
    "fisher_two=stats.fisher_exact(y.values)\n",
    "\n",
    "print(\n",
    "    \"Fisher's Exact Test for Count Data: Two-Sided\\n\"\n",
    "    f\"P-value: {fisher_two.pvalue:.5f}\"\n",
    ")"
   ]
  },
  {
   "cell_type": "markdown",
   "metadata": {},
   "source": [
    "### Section 7.2.3: One-Sample Tests {-}"
   ]
  },
  {
   "cell_type": "code",
   "execution_count": 46,
   "metadata": {},
   "outputs": [
    {
     "data": {
      "text/plain": [
       "0.010168663287718531"
      ]
     },
     "execution_count": 46,
     "metadata": {},
     "output_type": "execute_result"
    }
   ],
   "source": [
    "n = 1018\n",
    "x_bar = 550 / n\n",
    "se = np.sqrt(0.5 * 0.5 / n) # standard deviation of sampling distribution\n",
    "\n",
    "# upper red area in the figure\n",
    "upper = 1 - stats.norm.cdf(x_bar, loc=0.5, scale=se)\n",
    "\n",
    "# lower red area in the figure; identical to the upper area\n",
    "lower = stats.norm.cdf(0.5 - (x_bar - 0.5), loc=0.5, scale=se)\n",
    "\n",
    "# two-sided p-value\n",
    "upper + lower"
   ]
  },
  {
   "cell_type": "code",
   "execution_count": 47,
   "metadata": {},
   "outputs": [
    {
     "data": {
      "text/plain": [
       "0.010168663287718482"
      ]
     },
     "execution_count": 47,
     "metadata": {},
     "output_type": "execute_result"
    }
   ],
   "source": [
    "2 * upper"
   ]
  },
  {
   "cell_type": "code",
   "execution_count": 48,
   "metadata": {},
   "outputs": [
    {
     "data": {
      "text/plain": [
       "0.005084331643859241"
      ]
     },
     "execution_count": 48,
     "metadata": {},
     "output_type": "execute_result"
    }
   ],
   "source": [
    "# one-sided p-value\n",
    "upper"
   ]
  },
  {
   "cell_type": "code",
   "execution_count": 49,
   "metadata": {},
   "outputs": [
    {
     "data": {
      "text/plain": [
       "2.5700404773096097"
      ]
     },
     "execution_count": 49,
     "metadata": {},
     "output_type": "execute_result"
    }
   ],
   "source": [
    "z_score = (x_bar - 0.5) / se\n",
    "z_score"
   ]
  },
  {
   "cell_type": "code",
   "execution_count": 50,
   "metadata": {},
   "outputs": [
    {
     "data": {
      "text/plain": [
       "0.005084331643859241"
      ]
     },
     "execution_count": 50,
     "metadata": {},
     "output_type": "execute_result"
    }
   ],
   "source": [
    "# one-sided p-value\n",
    "1 - stats.norm.cdf(z_score)"
   ]
  },
  {
   "cell_type": "code",
   "execution_count": 51,
   "metadata": {},
   "outputs": [
    {
     "data": {
      "text/plain": [
       "0.010168663287718482"
      ]
     },
     "execution_count": 51,
     "metadata": {},
     "output_type": "execute_result"
    }
   ],
   "source": [
    "# two-sided p-value\n",
    "2 * (1 - stats.norm.cdf(z_score))"
   ]
  },
  {
   "cell_type": "code",
   "execution_count": 52,
   "metadata": {},
   "outputs": [
    {
     "data": {
      "text/plain": [
       "(0.499909283428347, 0.58064081480348)"
      ]
     },
     "execution_count": 52,
     "metadata": {},
     "output_type": "execute_result"
    }
   ],
   "source": [
    "# 99% confidence interval contains 0.5\n",
    "(x_bar - stats.norm.ppf(0.995) * se, x_bar + stats.norm.ppf(0.995) * se)"
   ]
  },
  {
   "cell_type": "code",
   "execution_count": 53,
   "metadata": {},
   "outputs": [
    {
     "data": {
      "text/plain": [
       "(0.5095604956138589, 0.5709896026179682)"
      ]
     },
     "execution_count": 53,
     "metadata": {},
     "output_type": "execute_result"
    }
   ],
   "source": [
    "# 95% confidence interval does not contain 0.5\n",
    "(x_bar - stats.norm.ppf(0.975) * se, x_bar + stats.norm.ppf(0.975) * se)"
   ]
  },
  {
   "cell_type": "code",
   "execution_count": 54,
   "metadata": {},
   "outputs": [
    {
     "name": "stdout",
     "output_type": "stream",
     "text": [
      "One-sample z-test without continuity correction\n",
      "Alternative hypothesis: true p is not equal to 0.5\n",
      "Sample proportion: 0.5403\n",
      "Test statistic: 2.5700\n",
      "P-value: 0.0102\n",
      "95% confidence interval: (0.5097, 0.5709)\n"
     ]
    }
   ],
   "source": [
    "from statsmodels.stats.proportion import proportions_ztest, proportion_confint\n",
    "\n",
    "# no continuity correction to get the same p-value as above\n",
    "stat, pval = proportions_ztest(count=550, nobs=n, value=0.5, prop_var=0.5)\n",
    "ci = proportion_confint(count=550, nobs=n)\n",
    "\n",
    "print(\n",
    "    f\"One-sample z-test without continuity correction\\n\"\n",
    "    f\"Alternative hypothesis: true p is not equal to 0.5\\n\"\n",
    "    f\"Sample proportion: {x_bar:.4f}\\n\"\n",
    "    f\"Test statistic: {stat:.4f}\\n\"\n",
    "    f\"P-value: {pval:.4f}\\n\"\n",
    "    f\"95% confidence interval: ({ci[0]:.4f}, {ci[1]:.4f})\"\n",
    ")"
   ]
  },
  {
   "cell_type": "markdown",
   "metadata": {},
   "source": [
    "The continuity correction factor subtracts 0.5 from the sample proportion before computing the test statistic. The correction factor is not built into the one-sample z-tests available in Python. However, we can build a function to implement the correction using the hypothesis testing logic we have developed."
   ]
  },
  {
   "cell_type": "code",
   "execution_count": 55,
   "metadata": {},
   "outputs": [],
   "source": [
    "# Define a function to implement the continuity correction factor\n",
    "def proportions_ztest_correct(count, nobs, value, conf_level=0.95):\n",
    "    \n",
    "    # compute the p-value\n",
    "    prop = count / nobs\n",
    "    correction = 0.5 / nobs # Yates' continuity correction\n",
    "    adjusted_prop = prop - correction\n",
    "    se_null = np.sqrt(value * (1-value) / nobs) # SE under the null hypothesis\n",
    "    z_score = np.abs(adjusted_prop-value) / se_null\n",
    "    # assume a two-tailed test, but we could generalize this\n",
    "    pval = 2 * (1 - stats.norm.cdf(z_score))\n",
    "\n",
    "    # compute the confidence interval\n",
    "    se_sample = np.sqrt(adjusted_prop * (1-adjusted_prop) / nobs)\n",
    "    alpha = 1-conf_level\n",
    "    ci_lower = adjusted_prop - stats.norm.ppf(1-alpha/2) * se_sample\n",
    "    ci_upper = adjusted_prop + stats.norm.ppf(1-alpha/2) * se_sample\n",
    "    conf_print = int(conf_level * 100)\n",
    "\n",
    "    print(\n",
    "        f\"One-sample z-test with continuity correction\\n\"\n",
    "        f\"Alternative hypothesis: true p is not equal to {value}\\n\"\n",
    "        f\"Sample proportion: {prop:.4f}\\n\"\n",
    "        f\"Test statistic: {z_score:.4f}\\n\"\n",
    "        f\"P-value: {pval:.4f}\\n\"\n",
    "        f\"{conf_print}% confidence interval: ({ci_lower:.4f}, {ci_upper:.4f})\"\n",
    "    )"
   ]
  },
  {
   "cell_type": "code",
   "execution_count": 56,
   "metadata": {},
   "outputs": [
    {
     "name": "stdout",
     "output_type": "stream",
     "text": [
      "One-sample z-test with continuity correction\n",
      "Alternative hypothesis: true p is not equal to 0.5\n",
      "Sample proportion: 0.5403\n",
      "Test statistic: 2.5387\n",
      "P-value: 0.0111\n",
      "95% confidence interval: (0.5092, 0.5704)\n"
     ]
    }
   ],
   "source": [
    "proportions_ztest_correct(count=550, nobs=n, value=0.5)"
   ]
  },
  {
   "cell_type": "code",
   "execution_count": 57,
   "metadata": {},
   "outputs": [
    {
     "name": "stdout",
     "output_type": "stream",
     "text": [
      "One-sample z-test with continuity correction\n",
      "Alternative hypothesis: true p is not equal to 0.5\n",
      "Sample proportion: 0.5403\n",
      "Test statistic: 2.5387\n",
      "P-value: 0.0111\n",
      "99% confidence interval: (0.4995, 0.5800)\n"
     ]
    }
   ],
   "source": [
    "proportions_ztest_correct(count=550, nobs=n, value=0.5, conf_level=0.99)"
   ]
  },
  {
   "cell_type": "code",
   "execution_count": 58,
   "metadata": {},
   "outputs": [
    {
     "name": "stdout",
     "output_type": "stream",
     "text": [
      "One-sample t-test\n",
      "Alternative hypothesis: true mean is not equal to 710\n",
      "Sample mean: 721.248\n",
      "t-statistic: 10.407\n",
      "df: 2352\n",
      "P-value: 0.00000\n",
      "95% confidence interval: (719.128, 723.367)\n"
     ]
    }
   ],
   "source": [
    "# two-sided one-sample t-test\n",
    "star_ttest = stats.ttest_1samp(STAR.g4reading, popmean=710, nan_policy='omit')\n",
    "\n",
    "ci_lower = star_ttest.confidence_interval()[0]\n",
    "ci_upper = star_ttest.confidence_interval()[1]\n",
    "\n",
    "print(\n",
    "    f\"One-sample t-test\\n\"\n",
    "    f\"Alternative hypothesis: true mean is not equal to 710\\n\"\n",
    "    f\"Sample mean: {STAR.g4reading.mean():.3f}\\n\"\n",
    "    f\"t-statistic: {star_ttest.statistic:.3f}\\n\"\n",
    "    f\"df: {star_ttest.df}\\n\"\n",
    "    f\"P-value: {star_ttest.pvalue:.5f}\\n\"\n",
    "    f\"95% confidence interval: ({ci_lower:.3f}, {ci_upper:.3f})\"\n",
    ")"
   ]
  },
  {
   "cell_type": "markdown",
   "metadata": {},
   "source": [
    "### Section 7.2.4: Two-Sample Tests {-}\n",
    "\n",
    "**In Progress**"
   ]
  }
 ],
 "metadata": {
  "authors": [
   {
    "name": "Kosuke Imai"
   },
   {
    "name": "Python code by Jeff Allen"
   }
  ],
  "date": "First Printing",
  "kernelspec": {
   "display_name": "qss",
   "language": "python",
   "name": "python3"
  },
  "language_info": {
   "codemirror_mode": {
    "name": "ipython",
    "version": 3
   },
   "file_extension": ".py",
   "mimetype": "text/x-python",
   "name": "python",
   "nbconvert_exporter": "python",
   "pygments_lexer": "ipython3",
   "version": "3.10.11"
  },
  "orig_nbformat": 4,
  "title": "Python Code for QSS Chapter 7: Uncertainty"
 },
 "nbformat": 4,
 "nbformat_minor": 2
}
