{
 "cells": [
  {
   "cell_type": "code",
   "execution_count": 1,
   "metadata": {},
   "outputs": [],
   "source": [
    "import pandas as pd\n",
    "import numpy as np\n",
    "import matplotlib.pyplot as plt\n",
    "import seaborn as sns\n",
    "from math import comb, exp, factorial, log"
   ]
  },
  {
   "cell_type": "markdown",
   "metadata": {},
   "source": [
    "## Section 6.1: Probability {-}\n",
    "\n",
    "### Section 6.1.1: Frequentist versus Bayesian {-}\n",
    "\n",
    "### Section 6.1.2: Definition and Axioms {-}\n",
    "\n",
    "### Section 6.1.3: Permutations {-}"
   ]
  },
  {
   "cell_type": "code",
   "execution_count": 2,
   "metadata": {},
   "outputs": [
    {
     "data": {
      "text/plain": [
       "<matplotlib.lines.Line2D at 0x25f6a1deec0>"
      ]
     },
     "execution_count": 2,
     "metadata": {},
     "output_type": "execute_result"
    },
    {
     "data": {
      "image/png": "[encoded data removed]",
      "text/plain": [
       "<Figure size 600x400 with 1 Axes>"
      ]
     },
     "metadata": {},
     "output_type": "display_data"
    }
   ],
   "source": [
    "def birthday(k):\n",
    "    logdenom = k * log(365) + log(factorial(365 - k)) # log denominator\n",
    "    lognumer = log(factorial(365)) # log numerator\n",
    "    # P(at least two have the same bday) = 1 - P(nobody has the same bday)\n",
    "    pr = 1 - exp(lognumer - logdenom) # transform back\n",
    "    return pr\n",
    "\n",
    "k = pd.Series(np.arange(1, 51))\n",
    "\n",
    "bday = k.apply(birthday) # apply the function to each element of k\n",
    "\n",
    "bday.index = k # add labels \n",
    "\n",
    "sns.set_style('ticks')\n",
    "\n",
    "sns.relplot(\n",
    "    x=k, y=bday, color='white', edgecolor='black', height=4, aspect=1.5\n",
    ").set(ylabel='Probability that at least\\n two people have the same birthday',\n",
    "      xlabel='Number of people').despine(right=False, top=False)\n",
    "\n",
    "# horizontal line at 0.5\n",
    "plt.axhline(0.5, color='black', linewidth=0.75)"
   ]
  },
  {
   "cell_type": "code",
   "execution_count": 3,
   "metadata": {},
   "outputs": [
    {
     "data": {
      "text/plain": [
       "20    0.411438\n",
       "21    0.443688\n",
       "22    0.475695\n",
       "23    0.507297\n",
       "24    0.538344\n",
       "25    0.568700\n",
       "dtype: float64"
      ]
     },
     "execution_count": 3,
     "metadata": {},
     "output_type": "execute_result"
    }
   ],
   "source": [
    "bday.loc[20:25]"
   ]
  },
  {
   "cell_type": "markdown",
   "metadata": {},
   "source": [
    "### Section 6.1.4: Sampling With and Without Replacement {-}"
   ]
  },
  {
   "cell_type": "code",
   "execution_count": 4,
   "metadata": {},
   "outputs": [
    {
     "data": {
      "text/plain": [
       "0.5079"
      ]
     },
     "execution_count": 4,
     "metadata": {},
     "output_type": "execute_result"
    }
   ],
   "source": [
    "k = 23 # number of people\n",
    "sims = 10000 # number of simulations\n",
    "event = 0 # initialize counter\n",
    "\n",
    "for i in range(sims):\n",
    "    days = np.random.choice(np.arange(1,366), size=k, replace=True)\n",
    "    days_unique = np.unique(days) # number of unique days\n",
    "    '''\n",
    "    if there are duplicates, the number of unique birthdays will be less than\n",
    "    the number of birthdays, which is 'k'\n",
    "    '''\n",
    "    if len(days_unique) < len(days):\n",
    "        event += 1\n",
    "\n",
    "answer = event / sims\n",
    "answer"
   ]
  },
  {
   "cell_type": "markdown",
   "metadata": {},
   "source": [
    "### Section 6.1.5: Combinations {-}"
   ]
  },
  {
   "cell_type": "code",
   "execution_count": 5,
   "metadata": {},
   "outputs": [
    {
     "data": {
      "text/plain": [
       "406481544"
      ]
     },
     "execution_count": 5,
     "metadata": {},
     "output_type": "execute_result"
    }
   ],
   "source": [
    "comb(84, 6)"
   ]
  },
  {
   "cell_type": "markdown",
   "metadata": {},
   "source": [
    "## Section 6.2: Conditional Probability {-}\n",
    "\n",
    "### Section 6.2.1: Conditional, Marginal, and Joint Probabilities {-}"
   ]
  },
  {
   "cell_type": "code",
   "execution_count": 6,
   "metadata": {},
   "outputs": [
    {
     "data": {
      "text/plain": [
       "(10000, 6)"
      ]
     },
     "execution_count": 6,
     "metadata": {},
     "output_type": "execute_result"
    }
   ],
   "source": [
    "FLVoters = pd.read_csv('FLVoters.csv')\n",
    "\n",
    "FLVoters.shape # before removal of missing data"
   ]
  },
  {
   "cell_type": "code",
   "execution_count": 7,
   "metadata": {},
   "outputs": [
    {
     "name": "stdout",
     "output_type": "stream",
     "text": [
      "<class 'pandas.core.frame.DataFrame'>\n",
      "RangeIndex: 10000 entries, 0 to 9999\n",
      "Data columns (total 6 columns):\n",
      " #   Column   Non-Null Count  Dtype  \n",
      "---  ------   --------------  -----  \n",
      " 0   surname  9999 non-null   object \n",
      " 1   county   10000 non-null  int64  \n",
      " 2   VTD      10000 non-null  int64  \n",
      " 3   age      9992 non-null   float64\n",
      " 4   gender   9992 non-null   object \n",
      " 5   race     9126 non-null   object \n",
      "dtypes: float64(1), int64(2), object(3)\n",
      "memory usage: 468.9+ KB\n"
     ]
    }
   ],
   "source": [
    "FLVoters.info() # there is one missing surname"
   ]
  },
  {
   "cell_type": "code",
   "execution_count": 8,
   "metadata": {},
   "outputs": [
    {
     "data": {
      "text/html": [
       "<div>\n",
       "<style scoped>\n",
       "    .dataframe tbody tr th:only-of-type {\n",
       "        vertical-align: middle;\n",
       "    }\n",
       "\n",
       "    .dataframe tbody tr th {\n",
       "        vertical-align: top;\n",
       "    }\n",
       "\n",
       "    .dataframe thead th {\n",
       "        text-align: right;\n",
       "    }\n",
       "</style>\n",
       "<table border=\"1\" class=\"dataframe\">\n",
       "  <thead>\n",
       "    <tr style=\"text-align: right;\">\n",
       "      <th></th>\n",
       "      <th>surname</th>\n",
       "      <th>county</th>\n",
       "      <th>VTD</th>\n",
       "      <th>age</th>\n",
       "      <th>gender</th>\n",
       "      <th>race</th>\n",
       "    </tr>\n",
       "  </thead>\n",
       "  <tbody>\n",
       "    <tr>\n",
       "      <th>349</th>\n",
       "      <td>NaN</td>\n",
       "      <td>5</td>\n",
       "      <td>14</td>\n",
       "      <td>70.0</td>\n",
       "      <td>f</td>\n",
       "      <td>white</td>\n",
       "    </tr>\n",
       "  </tbody>\n",
       "</table>\n",
       "</div>"
      ],
      "text/plain": [
       "    surname  county  VTD   age gender   race\n",
       "349     NaN       5   14  70.0      f  white"
      ]
     },
     "execution_count": 8,
     "metadata": {},
     "output_type": "execute_result"
    }
   ],
   "source": [
    "# print the record with the missing surname\n",
    "FLVoters[FLVoters['surname'].isnull()]"
   ]
  },
  {
   "cell_type": "markdown",
   "metadata": {},
   "source": [
    "Looking at the raw data, it turns out that one voter's surname is Null. Pandas treated the name as missing. We need to override this behavior and treat Ms. Null's name as a string."
   ]
  },
  {
   "cell_type": "code",
   "execution_count": 9,
   "metadata": {},
   "outputs": [
    {
     "data": {
      "text/html": [
       "<div>\n",
       "<style scoped>\n",
       "    .dataframe tbody tr th:only-of-type {\n",
       "        vertical-align: middle;\n",
       "    }\n",
       "\n",
       "    .dataframe tbody tr th {\n",
       "        vertical-align: top;\n",
       "    }\n",
       "\n",
       "    .dataframe thead th {\n",
       "        text-align: right;\n",
       "    }\n",
       "</style>\n",
       "<table border=\"1\" class=\"dataframe\">\n",
       "  <thead>\n",
       "    <tr style=\"text-align: right;\">\n",
       "      <th></th>\n",
       "      <th>surname</th>\n",
       "      <th>county</th>\n",
       "      <th>VTD</th>\n",
       "      <th>age</th>\n",
       "      <th>gender</th>\n",
       "      <th>race</th>\n",
       "    </tr>\n",
       "  </thead>\n",
       "  <tbody>\n",
       "    <tr>\n",
       "      <th>0</th>\n",
       "      <td>PIEDRA</td>\n",
       "      <td>115</td>\n",
       "      <td>66</td>\n",
       "      <td>58.0</td>\n",
       "      <td>f</td>\n",
       "      <td>white</td>\n",
       "    </tr>\n",
       "    <tr>\n",
       "      <th>1</th>\n",
       "      <td>LYNCH</td>\n",
       "      <td>115</td>\n",
       "      <td>13</td>\n",
       "      <td>51.0</td>\n",
       "      <td>m</td>\n",
       "      <td>white</td>\n",
       "    </tr>\n",
       "    <tr>\n",
       "      <th>2</th>\n",
       "      <td>CHESTER</td>\n",
       "      <td>115</td>\n",
       "      <td>103</td>\n",
       "      <td>63.0</td>\n",
       "      <td>m</td>\n",
       "      <td>NaN</td>\n",
       "    </tr>\n",
       "    <tr>\n",
       "      <th>3</th>\n",
       "      <td>LATHROP</td>\n",
       "      <td>115</td>\n",
       "      <td>80</td>\n",
       "      <td>54.0</td>\n",
       "      <td>m</td>\n",
       "      <td>white</td>\n",
       "    </tr>\n",
       "    <tr>\n",
       "      <th>4</th>\n",
       "      <td>HUMMEL</td>\n",
       "      <td>115</td>\n",
       "      <td>8</td>\n",
       "      <td>77.0</td>\n",
       "      <td>f</td>\n",
       "      <td>white</td>\n",
       "    </tr>\n",
       "  </tbody>\n",
       "</table>\n",
       "</div>"
      ],
      "text/plain": [
       "   surname  county  VTD   age gender   race\n",
       "0   PIEDRA     115   66  58.0      f  white\n",
       "1    LYNCH     115   13  51.0      m  white\n",
       "2  CHESTER     115  103  63.0      m    NaN\n",
       "3  LATHROP     115   80  54.0      m  white\n",
       "4   HUMMEL     115    8  77.0      f  white"
      ]
     },
     "execution_count": 9,
     "metadata": {},
     "output_type": "execute_result"
    }
   ],
   "source": [
    "FLVoters.head() # the surnames are in all caps"
   ]
  },
  {
   "cell_type": "code",
   "execution_count": 10,
   "metadata": {},
   "outputs": [
    {
     "data": {
      "text/plain": [
       "(9113, 6)"
      ]
     },
     "execution_count": 10,
     "metadata": {},
     "output_type": "execute_result"
    }
   ],
   "source": [
    "FLVoters['surname'] = np.where(\n",
    "    FLVoters['surname'].isnull(), 'NULL', FLVoters['surname'])\n",
    "\n",
    "FLVoters = FLVoters.dropna()\n",
    "\n",
    "FLVoters.shape # after removal of missing data"
   ]
  },
  {
   "cell_type": "code",
   "execution_count": 11,
   "metadata": {},
   "outputs": [
    {
     "data": {
      "text/plain": [
       "race\n",
       "asian       0.019203\n",
       "black       0.131022\n",
       "hispanic    0.130802\n",
       "native      0.003182\n",
       "other       0.034017\n",
       "white       0.681773\n",
       "Name: proportion, dtype: float64"
      ]
     },
     "execution_count": 11,
     "metadata": {},
     "output_type": "execute_result"
    }
   ],
   "source": [
    "margin_race = FLVoters['race'].value_counts(normalize=True).sort_index()\n",
    "\n",
    "margin_race"
   ]
  },
  {
   "cell_type": "code",
   "execution_count": 12,
   "metadata": {},
   "outputs": [
    {
     "data": {
      "text/plain": [
       "gender\n",
       "f    0.535828\n",
       "m    0.464172\n",
       "Name: proportion, dtype: float64"
      ]
     },
     "execution_count": 12,
     "metadata": {},
     "output_type": "execute_result"
    }
   ],
   "source": [
    "margin_gender = FLVoters['gender'].value_counts(normalize=True)\n",
    "\n",
    "margin_gender"
   ]
  },
  {
   "cell_type": "code",
   "execution_count": 13,
   "metadata": {},
   "outputs": [
    {
     "data": {
      "text/plain": [
       "race\n",
       "asian       0.016998\n",
       "black       0.138849\n",
       "hispanic    0.136392\n",
       "native      0.003481\n",
       "other       0.032357\n",
       "white       0.671923\n",
       "Name: proportion, dtype: float64"
      ]
     },
     "execution_count": 13,
     "metadata": {},
     "output_type": "execute_result"
    }
   ],
   "source": [
    "FLVoters['race'][FLVoters.gender == 'f'].value_counts(\n",
    "    normalize=True).sort_index()"
   ]
  },
  {
   "cell_type": "code",
   "execution_count": 14,
   "metadata": {},
   "outputs": [
    {
     "data": {
      "text/html": [
       "<div>\n",
       "<style scoped>\n",
       "    .dataframe tbody tr th:only-of-type {\n",
       "        vertical-align: middle;\n",
       "    }\n",
       "\n",
       "    .dataframe tbody tr th {\n",
       "        vertical-align: top;\n",
       "    }\n",
       "\n",
       "    .dataframe thead th {\n",
       "        text-align: right;\n",
       "    }\n",
       "</style>\n",
       "<table border=\"1\" class=\"dataframe\">\n",
       "  <thead>\n",
       "    <tr style=\"text-align: right;\">\n",
       "      <th>gender</th>\n",
       "      <th>f</th>\n",
       "      <th>m</th>\n",
       "    </tr>\n",
       "    <tr>\n",
       "      <th>race</th>\n",
       "      <th></th>\n",
       "      <th></th>\n",
       "    </tr>\n",
       "  </thead>\n",
       "  <tbody>\n",
       "    <tr>\n",
       "      <th>asian</th>\n",
       "      <td>0.009108</td>\n",
       "      <td>0.010095</td>\n",
       "    </tr>\n",
       "    <tr>\n",
       "      <th>black</th>\n",
       "      <td>0.074399</td>\n",
       "      <td>0.056622</td>\n",
       "    </tr>\n",
       "    <tr>\n",
       "      <th>hispanic</th>\n",
       "      <td>0.073082</td>\n",
       "      <td>0.057720</td>\n",
       "    </tr>\n",
       "    <tr>\n",
       "      <th>native</th>\n",
       "      <td>0.001865</td>\n",
       "      <td>0.001317</td>\n",
       "    </tr>\n",
       "    <tr>\n",
       "      <th>other</th>\n",
       "      <td>0.017338</td>\n",
       "      <td>0.016679</td>\n",
       "    </tr>\n",
       "    <tr>\n",
       "      <th>white</th>\n",
       "      <td>0.360035</td>\n",
       "      <td>0.321738</td>\n",
       "    </tr>\n",
       "  </tbody>\n",
       "</table>\n",
       "</div>"
      ],
      "text/plain": [
       "gender           f         m\n",
       "race                        \n",
       "asian     0.009108  0.010095\n",
       "black     0.074399  0.056622\n",
       "hispanic  0.073082  0.057720\n",
       "native    0.001865  0.001317\n",
       "other     0.017338  0.016679\n",
       "white     0.360035  0.321738"
      ]
     },
     "execution_count": 14,
     "metadata": {},
     "output_type": "execute_result"
    }
   ],
   "source": [
    "joint_p = pd.crosstab(FLVoters.race, FLVoters.gender, normalize=True)\n",
    "\n",
    "joint_p"
   ]
  },
  {
   "cell_type": "markdown",
   "metadata": {},
   "source": [
    "To obtain the row sums in pandas, we specify `axis='columns'` in the `.sum()` method. This may seem counterintuitive, but the logic is that we need to collapse the columns to calculate the sum of each row."
   ]
  },
  {
   "cell_type": "code",
   "execution_count": 15,
   "metadata": {},
   "outputs": [
    {
     "data": {
      "text/plain": [
       "race\n",
       "asian       0.019203\n",
       "black       0.131022\n",
       "hispanic    0.130802\n",
       "native      0.003182\n",
       "other       0.034017\n",
       "white       0.681773\n",
       "dtype: float64"
      ]
     },
     "execution_count": 15,
     "metadata": {},
     "output_type": "execute_result"
    }
   ],
   "source": [
    "# row sums\n",
    "joint_p.sum(axis='columns')"
   ]
  },
  {
   "cell_type": "code",
   "execution_count": 16,
   "metadata": {},
   "outputs": [
    {
     "data": {
      "text/plain": [
       "gender\n",
       "f    0.535828\n",
       "m    0.464172\n",
       "dtype: float64"
      ]
     },
     "execution_count": 16,
     "metadata": {},
     "output_type": "execute_result"
    }
   ],
   "source": [
    "# column sums\n",
    "joint_p.sum(axis='rows')"
   ]
  },
  {
   "cell_type": "code",
   "execution_count": 17,
   "metadata": {},
   "outputs": [
    {
     "data": {
      "text/html": [
       "<div>\n",
       "<style scoped>\n",
       "    .dataframe tbody tr th:only-of-type {\n",
       "        vertical-align: middle;\n",
       "    }\n",
       "\n",
       "    .dataframe tbody tr th {\n",
       "        vertical-align: top;\n",
       "    }\n",
       "\n",
       "    .dataframe thead th {\n",
       "        text-align: right;\n",
       "    }\n",
       "</style>\n",
       "<table border=\"1\" class=\"dataframe\">\n",
       "  <thead>\n",
       "    <tr style=\"text-align: right;\">\n",
       "      <th></th>\n",
       "      <th>gender</th>\n",
       "      <th>f</th>\n",
       "      <th>m</th>\n",
       "    </tr>\n",
       "    <tr>\n",
       "      <th>race</th>\n",
       "      <th>age_group</th>\n",
       "      <th></th>\n",
       "      <th></th>\n",
       "    </tr>\n",
       "  </thead>\n",
       "  <tbody>\n",
       "    <tr>\n",
       "      <th rowspan=\"4\" valign=\"top\">asian</th>\n",
       "      <th>1</th>\n",
       "      <td>0.000110</td>\n",
       "      <td>0.000219</td>\n",
       "    </tr>\n",
       "    <tr>\n",
       "      <th>2</th>\n",
       "      <td>0.002634</td>\n",
       "      <td>0.002853</td>\n",
       "    </tr>\n",
       "    <tr>\n",
       "      <th>3</th>\n",
       "      <td>0.004170</td>\n",
       "      <td>0.005157</td>\n",
       "    </tr>\n",
       "    <tr>\n",
       "      <th>4</th>\n",
       "      <td>0.002195</td>\n",
       "      <td>0.001865</td>\n",
       "    </tr>\n",
       "    <tr>\n",
       "      <th rowspan=\"4\" valign=\"top\">black</th>\n",
       "      <th>1</th>\n",
       "      <td>0.001646</td>\n",
       "      <td>0.001646</td>\n",
       "    </tr>\n",
       "    <tr>\n",
       "      <th>2</th>\n",
       "      <td>0.028092</td>\n",
       "      <td>0.022825</td>\n",
       "    </tr>\n",
       "    <tr>\n",
       "      <th>3</th>\n",
       "      <td>0.025787</td>\n",
       "      <td>0.018984</td>\n",
       "    </tr>\n",
       "    <tr>\n",
       "      <th>4</th>\n",
       "      <td>0.018874</td>\n",
       "      <td>0.013168</td>\n",
       "    </tr>\n",
       "  </tbody>\n",
       "</table>\n",
       "</div>"
      ],
      "text/plain": [
       "gender                  f         m\n",
       "race  age_group                    \n",
       "asian 1          0.000110  0.000219\n",
       "      2          0.002634  0.002853\n",
       "      3          0.004170  0.005157\n",
       "      4          0.002195  0.001865\n",
       "black 1          0.001646  0.001646\n",
       "      2          0.028092  0.022825\n",
       "      3          0.025787  0.018984\n",
       "      4          0.018874  0.013168"
      ]
     },
     "execution_count": 17,
     "metadata": {},
     "output_type": "execute_result"
    }
   ],
   "source": [
    "# Develop age group categories; start with a list of n-1 conditions\n",
    "conditions = [\n",
    "      (FLVoters.age <= 20)\n",
    "    , (FLVoters.age > 20) & (FLVoters.age <= 40)\n",
    "    , (FLVoters.age > 40) & (FLVoters.age <= 60)\n",
    "]\n",
    "\n",
    "choices  = [1, 2, 3]\n",
    "\n",
    "# Assign 4 to voters older than 60\n",
    "FLVoters[\"age_group\"] = np.select(conditions, choices, 4)\n",
    "\n",
    "joint3 = pd.crosstab([FLVoters.race, FLVoters.age_group], FLVoters.gender,\n",
    "                     normalize=True)\n",
    "\n",
    "# print the first 8 rows\n",
    "joint3.head(8)"
   ]
  },
  {
   "cell_type": "code",
   "execution_count": 18,
   "metadata": {},
   "outputs": [
    {
     "data": {
      "text/plain": [
       "age_group\n",
       "1    0.017667\n",
       "2    0.270932\n",
       "3    0.360474\n",
       "4    0.350927\n",
       "Name: proportion, dtype: float64"
      ]
     },
     "execution_count": 18,
     "metadata": {},
     "output_type": "execute_result"
    }
   ],
   "source": [
    "# marginal probabilities for age groups\n",
    "margin_age = FLVoters['age_group'].value_counts(normalize=True).sort_index()\n",
    "\n",
    "margin_age"
   ]
  },
  {
   "cell_type": "code",
   "execution_count": 19,
   "metadata": {},
   "outputs": [
    {
     "data": {
      "text/plain": [
       "MultiIndex([('asian', 1),\n",
       "            ('asian', 2),\n",
       "            ('asian', 3)],\n",
       "           names=['race', 'age_group'])"
      ]
     },
     "execution_count": 19,
     "metadata": {},
     "output_type": "execute_result"
    }
   ],
   "source": [
    "# take a look at the joint3 index for a few observations\n",
    "joint3.index[:3]"
   ]
  },
  {
   "cell_type": "code",
   "execution_count": 20,
   "metadata": {},
   "outputs": [
    {
     "data": {
      "text/plain": [
       "0.004169867222648963"
      ]
     },
     "execution_count": 20,
     "metadata": {},
     "output_type": "execute_result"
    }
   ],
   "source": [
    "# select elements from a multi-index using .loc and tuples\n",
    "joint3.loc[('asian', 3), 'f']"
   ]
  },
  {
   "cell_type": "code",
   "execution_count": 21,
   "metadata": {},
   "outputs": [
    {
     "data": {
      "text/plain": [
       "0.05378361475922452"
      ]
     },
     "execution_count": 21,
     "metadata": {},
     "output_type": "execute_result"
    }
   ],
   "source": [
    "# P(black and female | above 60)\n",
    "joint3.loc[('black', 4), 'f'] / margin_age[4]"
   ]
  },
  {
   "cell_type": "code",
   "execution_count": 22,
   "metadata": {},
   "outputs": [
    {
     "data": {
      "text/html": [
       "<div>\n",
       "<style scoped>\n",
       "    .dataframe tbody tr th:only-of-type {\n",
       "        vertical-align: middle;\n",
       "    }\n",
       "\n",
       "    .dataframe tbody tr th {\n",
       "        vertical-align: top;\n",
       "    }\n",
       "\n",
       "    .dataframe thead th {\n",
       "        text-align: right;\n",
       "    }\n",
       "</style>\n",
       "<table border=\"1\" class=\"dataframe\">\n",
       "  <thead>\n",
       "    <tr style=\"text-align: right;\">\n",
       "      <th>gender</th>\n",
       "      <th>f</th>\n",
       "      <th>m</th>\n",
       "    </tr>\n",
       "    <tr>\n",
       "      <th>age_group</th>\n",
       "      <th></th>\n",
       "      <th></th>\n",
       "    </tr>\n",
       "  </thead>\n",
       "  <tbody>\n",
       "    <tr>\n",
       "      <th>1</th>\n",
       "      <td>0.009657</td>\n",
       "      <td>0.008011</td>\n",
       "    </tr>\n",
       "    <tr>\n",
       "      <th>2</th>\n",
       "      <td>0.143092</td>\n",
       "      <td>0.127839</td>\n",
       "    </tr>\n",
       "    <tr>\n",
       "      <th>3</th>\n",
       "      <td>0.189839</td>\n",
       "      <td>0.170635</td>\n",
       "    </tr>\n",
       "    <tr>\n",
       "      <th>4</th>\n",
       "      <td>0.193240</td>\n",
       "      <td>0.157687</td>\n",
       "    </tr>\n",
       "  </tbody>\n",
       "</table>\n",
       "</div>"
      ],
      "text/plain": [
       "gender            f         m\n",
       "age_group                    \n",
       "1          0.009657  0.008011\n",
       "2          0.143092  0.127839\n",
       "3          0.189839  0.170635\n",
       "4          0.193240  0.157687"
      ]
     },
     "execution_count": 22,
     "metadata": {},
     "output_type": "execute_result"
    }
   ],
   "source": [
    "# two-way joint probability table for age group and gender\n",
    "joint2 = pd.crosstab(FLVoters['age_group'], FLVoters['gender'], \n",
    "                     normalize=True)\n",
    "\n",
    "joint2"
   ]
  },
  {
   "cell_type": "code",
   "execution_count": 23,
   "metadata": {},
   "outputs": [
    {
     "data": {
      "text/plain": [
       "0.1932404257653901"
      ]
     },
     "execution_count": 23,
     "metadata": {},
     "output_type": "execute_result"
    }
   ],
   "source": [
    "# P(above 60 and female)\n",
    "joint2.loc[4, 'f']"
   ]
  },
  {
   "cell_type": "code",
   "execution_count": 24,
   "metadata": {},
   "outputs": [
    {
     "data": {
      "text/plain": [
       "0.097671777399205"
      ]
     },
     "execution_count": 24,
     "metadata": {},
     "output_type": "execute_result"
    }
   ],
   "source": [
    "# P(black | female and above 60)\n",
    "joint3.loc[('black', 4), 'f'] / joint2.loc[4, 'f']"
   ]
  },
  {
   "cell_type": "markdown",
   "metadata": {},
   "source": [
    "### Section 6.2.2: Independence {-}"
   ]
  },
  {
   "cell_type": "code",
   "execution_count": 25,
   "metadata": {},
   "outputs": [
    {
     "data": {
      "text/plain": [
       "<matplotlib.lines._AxLine at 0x25f6cdffdc0>"
      ]
     },
     "execution_count": 25,
     "metadata": {},
     "output_type": "execute_result"
    },
    {
     "data": {
      "image/png": "[encoded data removed]",
      "text/plain": [
       "<Figure size 600x400 with 1 Axes>"
      ]
     },
     "metadata": {},
     "output_type": "display_data"
    }
   ],
   "source": [
    "# store plotting parameters\n",
    "lims = (-0.02, 0.42)\n",
    "ticks = [0, .1, .2, .3, .4]\n",
    "\n",
    "sns.relplot(\n",
    "    x=margin_race * margin_gender['f'], y=joint_p['f'],\n",
    "    color='white', edgecolor='black', height=4, aspect=1.5\n",
    ").set(xlabel='P(race) * P(female)', ylabel='P(race and female)',\n",
    "      xlim=lims, ylim=lims, xticks=ticks, yticks=ticks).despine(\n",
    "          right=False, top=False)\n",
    "\n",
    "plt.gca().axline((0, 0), slope=1, color='black', linewidth=0.5)"
   ]
  },
  {
   "cell_type": "code",
   "execution_count": 26,
   "metadata": {},
   "outputs": [
    {
     "data": {
      "text/plain": [
       "<matplotlib.lines._AxLine at 0x25f6ce9fac0>"
      ]
     },
     "execution_count": 26,
     "metadata": {},
     "output_type": "execute_result"
    },
    {
     "data": {
      "image/png": "[encoded data removed]",
      "text/plain": [
       "<Figure size 1200x500 with 2 Axes>"
      ]
     },
     "metadata": {},
     "output_type": "display_data"
    }
   ],
   "source": [
    "# subplots for joint and conditional independence\n",
    "fig, axs = plt.subplots(1, 2, figsize=(12, 5))\n",
    "\n",
    "lims = (-0.02, 0.32)\n",
    "\n",
    "# joint independence\n",
    "sns.scatterplot(\n",
    "    x=joint3.loc[(slice(None), 4), 'f'].droplevel('age_group'), \n",
    "    y=margin_race * margin_age[4] * margin_gender['f'],\n",
    "    color='white', edgecolor='black', ax=axs[0]\n",
    ").set(xlabel='P(race and above 60 and female)', \n",
    "      ylabel='P(race) * P(above 60) * P(female)',\n",
    "      title='Joint Independence', xlim=lims, ylim=lims)\n",
    "\n",
    "axs[0].axline((0, 0), slope=1, color='black', linewidth=0.5)\n",
    "\n",
    "# conditional independence given female\n",
    "sns.scatterplot(\n",
    "    x=(joint3.loc[(slice(None), 4), 'f'] / \n",
    "       margin_gender['f']).droplevel('age_group'), \n",
    "    y=((joint_p['f'] / margin_gender['f']) * \n",
    "       (joint2.loc[4, 'f'] / margin_gender['f'])),\n",
    "    color='white', edgecolor='black', ax=axs[1]\n",
    ").set(xlabel='P(race and above 60 | female)', \n",
    "      ylabel='P(race | female) * P(above 60 | female)',\n",
    "      title='Conditional Independence', xlim=lims, ylim=lims)\n",
    "\n",
    "axs[1].axline((0, 0), slope=1, color='black', linewidth=0.5)"
   ]
  },
  {
   "cell_type": "code",
   "execution_count": 27,
   "metadata": {},
   "outputs": [
    {
     "data": {
      "text/plain": [
       "0.311"
      ]
     },
     "execution_count": 27,
     "metadata": {},
     "output_type": "execute_result"
    }
   ],
   "source": [
    "# Monty Hall problem\n",
    "sims = 1000\n",
    "doors = np.array(['goat', 'goat', 'car'])\n",
    "# Store empty vector of strings with same dtype as doors\n",
    "result_switch = np.empty(sims, dtype=doors.dtype)\n",
    "result_noswitch = np.empty(sims, dtype=doors.dtype)\n",
    "\n",
    "for i in range(sims):\n",
    "    # randomly choose the initial door\n",
    "    first = np.random.choice(np.arange(0,3))\n",
    "    result_noswitch[i] = doors[first]\n",
    "    remain = np.delete(doors, first) # remaining two doors\n",
    "    if doors[first] == 'car': # two goats left\n",
    "        monty = np.random.choice(np.arange(0,2))\n",
    "    else: # one goat and one car left\n",
    "        monty = np.arange(0,2)[remain=='goat']\n",
    "    result_switch[i] = np.delete(remain, monty)[0]\n",
    "\n",
    "(result_noswitch == 'car').mean()"
   ]
  },
  {
   "cell_type": "code",
   "execution_count": 28,
   "metadata": {},
   "outputs": [
    {
     "data": {
      "text/plain": [
       "0.689"
      ]
     },
     "execution_count": 28,
     "metadata": {},
     "output_type": "execute_result"
    }
   ],
   "source": [
    "(result_switch == 'car').mean()"
   ]
  },
  {
   "cell_type": "markdown",
   "metadata": {},
   "source": [
    "### Section 6.2.3: Bayes' Rule {-}\n",
    "\n",
    "### Section 6.2.4: Predicting Race Using Surname and Residence Location {-}"
   ]
  },
  {
   "cell_type": "code",
   "execution_count": 29,
   "metadata": {},
   "outputs": [
    {
     "name": "stdout",
     "output_type": "stream",
     "text": [
      "<class 'pandas.core.frame.DataFrame'>\n",
      "RangeIndex: 151671 entries, 0 to 151670\n",
      "Data columns (total 7 columns):\n",
      " #   Column       Non-Null Count   Dtype  \n",
      "---  ------       --------------   -----  \n",
      " 0   surname      151670 non-null  object \n",
      " 1   count        151671 non-null  int64  \n",
      " 2   pctwhite     151671 non-null  float64\n",
      " 3   pctblack     151671 non-null  float64\n",
      " 4   pctapi       151671 non-null  float64\n",
      " 5   pcthispanic  151671 non-null  float64\n",
      " 6   pctothers    151671 non-null  float64\n",
      "dtypes: float64(5), int64(1), object(1)\n",
      "memory usage: 8.1+ MB\n"
     ]
    }
   ],
   "source": [
    "cnames = pd.read_csv('names.csv')\n",
    "\n",
    "cnames.info() # one surname is missing"
   ]
  },
  {
   "cell_type": "code",
   "execution_count": 30,
   "metadata": {},
   "outputs": [
    {
     "data": {
      "text/plain": [
       "(151671, 7)"
      ]
     },
     "execution_count": 30,
     "metadata": {},
     "output_type": "execute_result"
    }
   ],
   "source": [
    "# As with FLVoters, ensure the surname \"NULL\" is treated as a string\n",
    "cnames['surname'] = np.where(\n",
    "    cnames['surname'].isnull(), 'NULL', cnames['surname'])\n",
    "\n",
    "cnames.shape"
   ]
  },
  {
   "cell_type": "code",
   "execution_count": 31,
   "metadata": {},
   "outputs": [
    {
     "data": {
      "text/plain": [
       "(8022, 13)"
      ]
     },
     "execution_count": 31,
     "metadata": {},
     "output_type": "execute_result"
    }
   ],
   "source": [
    "# merge the two data frames (inner join)\n",
    "FLVoters = pd.merge(FLVoters, cnames, on='surname')\n",
    "\n",
    "FLVoters.shape"
   ]
  },
  {
   "cell_type": "code",
   "execution_count": 32,
   "metadata": {},
   "outputs": [
    {
     "data": {
      "text/plain": [
       "0.950218023255814"
      ]
     },
     "execution_count": 32,
     "metadata": {},
     "output_type": "execute_result"
    }
   ],
   "source": [
    "# store relevant variables\n",
    "vars = [\"pctwhite\", \"pctblack\", \"pctapi\", \"pcthispanic\", \"pctothers\"]\n",
    "\n",
    "# Whites \n",
    "whites = FLVoters.loc[FLVoters.race == 'white'].copy()\n",
    "(whites[vars].max(axis='columns') == whites['pctwhite']).mean()"
   ]
  },
  {
   "cell_type": "code",
   "execution_count": 33,
   "metadata": {},
   "outputs": [
    {
     "data": {
      "text/plain": [
       "0.16048237476808905"
      ]
     },
     "execution_count": 33,
     "metadata": {},
     "output_type": "execute_result"
    }
   ],
   "source": [
    "# Blacks\n",
    "blacks = FLVoters.loc[FLVoters.race == 'black'].copy()\n",
    "(blacks[vars].max(axis='columns') == blacks['pctblack']).mean()"
   ]
  },
  {
   "cell_type": "code",
   "execution_count": 34,
   "metadata": {},
   "outputs": [
    {
     "data": {
      "text/plain": [
       "0.8465298142717498"
      ]
     },
     "execution_count": 34,
     "metadata": {},
     "output_type": "execute_result"
    }
   ],
   "source": [
    "# Hispanics\n",
    "hispanics = FLVoters.loc[FLVoters.race == 'hispanic'].copy()\n",
    "(hispanics[vars].max(axis='columns') == hispanics['pcthispanic']).mean()"
   ]
  },
  {
   "cell_type": "code",
   "execution_count": 35,
   "metadata": {},
   "outputs": [
    {
     "data": {
      "text/plain": [
       "0.5642857142857143"
      ]
     },
     "execution_count": 35,
     "metadata": {},
     "output_type": "execute_result"
    }
   ],
   "source": [
    "# Asian\n",
    "asians = FLVoters.loc[FLVoters.race == 'asian'].copy()\n",
    "(asians[vars].max(axis='columns') == asians['pctapi']).mean()"
   ]
  },
  {
   "cell_type": "code",
   "execution_count": 36,
   "metadata": {},
   "outputs": [
    {
     "data": {
      "text/plain": [
       "0.19736034376918354"
      ]
     },
     "execution_count": 36,
     "metadata": {},
     "output_type": "execute_result"
    }
   ],
   "source": [
    "# White false discovery rate \n",
    "1 - (FLVoters['race'][FLVoters[vars].max(axis='columns') == \n",
    "                      FLVoters['pctwhite']] == \"white\").mean()"
   ]
  },
  {
   "cell_type": "code",
   "execution_count": 37,
   "metadata": {},
   "outputs": [
    {
     "data": {
      "text/plain": [
       "0.3294573643410853"
      ]
     },
     "execution_count": 37,
     "metadata": {},
     "output_type": "execute_result"
    }
   ],
   "source": [
    "# Black false discovery rate\n",
    "1 - (FLVoters['race'][FLVoters[vars].max(axis='columns') == \n",
    "                      FLVoters['pctblack']] == \"black\").mean()"
   ]
  },
  {
   "cell_type": "code",
   "execution_count": 38,
   "metadata": {},
   "outputs": [
    {
     "data": {
      "text/plain": [
       "0.22747546833184662"
      ]
     },
     "execution_count": 38,
     "metadata": {},
     "output_type": "execute_result"
    }
   ],
   "source": [
    "# Hispanic false discovery rate\n",
    "1 - (FLVoters['race'][FLVoters[vars].max(axis='columns') == \n",
    "                      FLVoters['pcthispanic']] == \"hispanic\").mean()"
   ]
  },
  {
   "cell_type": "code",
   "execution_count": 39,
   "metadata": {},
   "outputs": [
    {
     "data": {
      "text/plain": [
       "0.3416666666666667"
      ]
     },
     "execution_count": 39,
     "metadata": {},
     "output_type": "execute_result"
    }
   ],
   "source": [
    "# Asian false discovery rate\n",
    "1 - (FLVoters['race'][FLVoters[vars].max(axis='columns') == \n",
    "                      FLVoters['pctapi']] == \"asian\").mean()"
   ]
  },
  {
   "cell_type": "code",
   "execution_count": 40,
   "metadata": {},
   "outputs": [
    {
     "data": {
      "text/plain": [
       "white       0.578934\n",
       "black       0.151644\n",
       "api         0.024197\n",
       "hispanic    0.224655\n",
       "others      0.020570\n",
       "dtype: float64"
      ]
     },
     "execution_count": 40,
     "metadata": {},
     "output_type": "execute_result"
    }
   ],
   "source": [
    "FLCensus = pd.read_csv('FLCensusVTD.csv')\n",
    "\n",
    "# compute proportions by applying np.average to each column with pop weight\n",
    "census_race = ['white', 'black', 'api', 'hispanic', 'others']\n",
    "\n",
    "race_prop = FLCensus[census_race].apply(\n",
    "    lambda x: np.average(x, weights=FLCensus['total.pop']))\n",
    "\n",
    "race_prop # race proportions in Florida"
   ]
  },
  {
   "cell_type": "code",
   "execution_count": 41,
   "metadata": {},
   "outputs": [],
   "source": [
    "# store total count from original cnames data\n",
    "total_count = cnames['count'].sum()\n",
    "\n",
    "# P(surname | race) = P(race | surname) * P(surname) / P(race) in Florida\n",
    "FLVoters['name_white'] = (\n",
    "       (FLVoters['pctwhite'] / 100) * (FLVoters['count'] / total_count) /\n",
    "       race_prop['white'])\n",
    "\n",
    "FLVoters['name_black'] = (\n",
    "       (FLVoters['pctblack'] / 100) * (FLVoters['count'] / total_count) /\n",
    "       race_prop['black'])\n",
    "\n",
    "FLVoters['name_hispanic'] = (\n",
    "       (FLVoters['pcthispanic'] / 100) * (FLVoters['count'] / total_count) /\n",
    "       race_prop['hispanic'])\n",
    "\n",
    "FLVoters['name_asian'] = (\n",
    "       (FLVoters['pctapi'] / 100) * (FLVoters['count'] / total_count) /\n",
    "       race_prop['api'])\n",
    "\n",
    "FLVoters['name_others'] = (\n",
    "       (FLVoters['pctothers'] / 100) * (FLVoters['count'] / total_count) /\n",
    "       race_prop['others'])"
   ]
  },
  {
   "cell_type": "code",
   "execution_count": 42,
   "metadata": {},
   "outputs": [],
   "source": [
    "# merge FLVoters with FLCensus by county and VTD using left join\n",
    "FLVoters = pd.merge(FLVoters, FLCensus, on=['county', 'VTD'], how='left')\n",
    "\n",
    "# P(surname | residence) = sum_race P(surname | race) P(race | residence)\n",
    "FLVoters['name_residence'] = (\n",
    "    FLVoters['name_white'] * FLVoters['white'] + \n",
    "    FLVoters['name_black'] * FLVoters['black'] + \n",
    "    FLVoters['name_hispanic'] * FLVoters['hispanic'] + \n",
    "    FLVoters['name_asian'] * FLVoters['api'] + \n",
    "    FLVoters['name_others'] * FLVoters['others'])"
   ]
  },
  {
   "cell_type": "code",
   "execution_count": 43,
   "metadata": {},
   "outputs": [],
   "source": [
    "'''\n",
    "P(race | surname, residence) = P(surname | race) * P(race | residence) /\n",
    "P(surname | residence)\n",
    "'''\n",
    "\n",
    "FLVoters['pre_white'] = (FLVoters.name_white * FLVoters.white / \n",
    "                         FLVoters.name_residence)\n",
    "\n",
    "FLVoters['pre_black'] = (FLVoters.name_black * FLVoters.black /\n",
    "                         FLVoters.name_residence)\n",
    "\n",
    "FLVoters['pre_hispanic'] = (FLVoters.name_hispanic * FLVoters.hispanic /\n",
    "                            FLVoters.name_residence)\n",
    "\n",
    "FLVoters['pre_asian'] = (FLVoters.name_asian * FLVoters.api /\n",
    "                         FLVoters.name_residence)\n",
    "\n",
    "FLVoters['pre_others'] = (1 - FLVoters.pre_white - FLVoters.pre_black -\n",
    "                          FLVoters.pre_hispanic - FLVoters.pre_asian)"
   ]
  },
  {
   "cell_type": "code",
   "execution_count": 44,
   "metadata": {},
   "outputs": [
    {
     "data": {
      "text/plain": [
       "0.9418604651162791"
      ]
     },
     "execution_count": 44,
     "metadata": {},
     "output_type": "execute_result"
    }
   ],
   "source": [
    "# relevant variables\n",
    "vars1 = ['pre_white', 'pre_black', 'pre_hispanic', 'pre_asian', 'pre_others']\n",
    "\n",
    "# Whites \n",
    "whites = FLVoters.loc[FLVoters.race == 'white'].copy()\n",
    "(whites[vars1].max(axis='columns') == whites['pre_white']).mean()"
   ]
  },
  {
   "cell_type": "code",
   "execution_count": 45,
   "metadata": {},
   "outputs": [
    {
     "data": {
      "text/plain": [
       "0.62708719851577"
      ]
     },
     "execution_count": 45,
     "metadata": {},
     "output_type": "execute_result"
    }
   ],
   "source": [
    "# Blacks\n",
    "blacks = FLVoters.loc[FLVoters.race == 'black'].copy()\n",
    "(blacks[vars1].max(axis='columns') == blacks['pre_black']).mean()"
   ]
  },
  {
   "cell_type": "code",
   "execution_count": 46,
   "metadata": {},
   "outputs": [
    {
     "data": {
      "text/plain": [
       "0.8572825024437928"
      ]
     },
     "execution_count": 46,
     "metadata": {},
     "output_type": "execute_result"
    }
   ],
   "source": [
    "# Hispanics\n",
    "hispanics = FLVoters.loc[FLVoters.race == 'hispanic'].copy()\n",
    "(hispanics[vars1].max(axis='columns') == hispanics['pre_hispanic']).mean()"
   ]
  },
  {
   "cell_type": "code",
   "execution_count": 47,
   "metadata": {},
   "outputs": [
    {
     "data": {
      "text/plain": [
       "0.6071428571428571"
      ]
     },
     "execution_count": 47,
     "metadata": {},
     "output_type": "execute_result"
    }
   ],
   "source": [
    "# Asians\n",
    "asians = FLVoters.loc[FLVoters.race == 'asian'].copy()\n",
    "(asians[vars1].max(axis='columns') == asians['pre_asian']).mean()"
   ]
  },
  {
   "cell_type": "code",
   "execution_count": 48,
   "metadata": {},
   "outputs": [
    {
     "data": {
      "text/plain": [
       "19    27.38\n",
       "Name: pctblack, dtype: float64"
      ]
     },
     "execution_count": 48,
     "metadata": {},
     "output_type": "execute_result"
    }
   ],
   "source": [
    "# proportion of blacks among those with surname \"White\"\n",
    "cnames['pctblack'][cnames.surname == \"WHITE\"]"
   ]
  },
  {
   "cell_type": "code",
   "execution_count": 49,
   "metadata": {},
   "outputs": [
    {
     "data": {
      "text/plain": [
       "count    24.000000\n",
       "mean      0.250711\n",
       "std       0.293894\n",
       "min       0.004588\n",
       "25%       0.072232\n",
       "50%       0.159496\n",
       "75%       0.293640\n",
       "max       0.981864\n",
       "Name: pre_black, dtype: float64"
      ]
     },
     "execution_count": 49,
     "metadata": {},
     "output_type": "execute_result"
    }
   ],
   "source": [
    "# predicted probability of being black given residence location \n",
    "FLVoters['pre_black'][FLVoters.surname == \"WHITE\"].describe()"
   ]
  },
  {
   "cell_type": "code",
   "execution_count": 50,
   "metadata": {},
   "outputs": [
    {
     "data": {
      "text/plain": [
       "0.12239715591670897"
      ]
     },
     "execution_count": 50,
     "metadata": {},
     "output_type": "execute_result"
    }
   ],
   "source": [
    "# Whites\n",
    "1 - (FLVoters['race'][FLVoters[vars1].max(axis='columns') == \n",
    "                      FLVoters['pre_white']] == \"white\").mean()\n"
   ]
  },
  {
   "cell_type": "code",
   "execution_count": 51,
   "metadata": {},
   "outputs": [
    {
     "data": {
      "text/plain": [
       "0.22029988465974626"
      ]
     },
     "execution_count": 51,
     "metadata": {},
     "output_type": "execute_result"
    }
   ],
   "source": [
    "# Blacks\n",
    "1 - (FLVoters['race'][FLVoters[vars1].max(axis='columns') == \n",
    "                      FLVoters['pre_black']] == \"black\").mean()"
   ]
  },
  {
   "cell_type": "code",
   "execution_count": 52,
   "metadata": {},
   "outputs": [
    {
     "data": {
      "text/plain": [
       "0.21133093525179858"
      ]
     },
     "execution_count": 52,
     "metadata": {},
     "output_type": "execute_result"
    }
   ],
   "source": [
    "# Hispanics\n",
    "1 - (FLVoters['race'][FLVoters[vars1].max(axis='columns') == \n",
    "                      FLVoters['pre_hispanic']] == \"hispanic\").mean()"
   ]
  },
  {
   "cell_type": "code",
   "execution_count": 53,
   "metadata": {},
   "outputs": [
    {
     "data": {
      "text/plain": [
       "0.3307086614173228"
      ]
     },
     "execution_count": 53,
     "metadata": {},
     "output_type": "execute_result"
    }
   ],
   "source": [
    "# Asians\n",
    "1 - (FLVoters['race'][FLVoters[vars1].max(axis='columns') == \n",
    "                      FLVoters['pre_asian']] == \"asian\").mean()"
   ]
  },
  {
   "cell_type": "markdown",
   "metadata": {},
   "source": [
    "## Section 6.3: Random Variables and Probability Distributions {-}\n",
    "\n",
    "### Section 6.3.1: Random Variables {-}\n",
    "\n",
    "### Section 6.3.2: Bernoulli and Uniform Distributions {-}"
   ]
  },
  {
   "cell_type": "code",
   "execution_count": 54,
   "metadata": {},
   "outputs": [
    {
     "data": {
      "text/plain": [
       "1.0"
      ]
     },
     "execution_count": 54,
     "metadata": {},
     "output_type": "execute_result"
    }
   ],
   "source": [
    "from scipy import stats\n",
    "\n",
    "# uniform PDF: x = 0.5, interval = [0,1]\n",
    "stats.uniform.pdf(x=0.5, loc=0, scale=1) # loc = a, scale = b-a"
   ]
  },
  {
   "cell_type": "code",
   "execution_count": 55,
   "metadata": {},
   "outputs": [
    {
     "data": {
      "text/plain": [
       "0.75"
      ]
     },
     "execution_count": 55,
     "metadata": {},
     "output_type": "execute_result"
    }
   ],
   "source": [
    "# uniform CDF: x = 1, interval = [-2, 2]\n",
    "a = -2\n",
    "b = 2\n",
    "stats.uniform.cdf(x=1, loc=a, scale=b-a)"
   ]
  },
  {
   "cell_type": "code",
   "execution_count": 56,
   "metadata": {},
   "outputs": [
    {
     "data": {
      "text/plain": [
       "numpy.ndarray"
      ]
     },
     "execution_count": 56,
     "metadata": {},
     "output_type": "execute_result"
    }
   ],
   "source": [
    "sims = 1000\n",
    "p = 0.5 # success probabilities\n",
    "x = stats.uniform.rvs(size=sims, loc=0, scale=1)\n",
    "\n",
    "type(x) # a numpy array"
   ]
  },
  {
   "cell_type": "code",
   "execution_count": 57,
   "metadata": {},
   "outputs": [
    {
     "data": {
      "text/plain": [
       "array([0.14432593, 0.24617993, 0.33183618, 0.38388235, 0.26991479,\n",
       "       0.93488133])"
      ]
     },
     "execution_count": 57,
     "metadata": {},
     "output_type": "execute_result"
    }
   ],
   "source": [
    "x[:6]"
   ]
  },
  {
   "cell_type": "code",
   "execution_count": 58,
   "metadata": {},
   "outputs": [
    {
     "data": {
      "text/plain": [
       "array([1, 1, 1, 1, 1, 0])"
      ]
     },
     "execution_count": 58,
     "metadata": {},
     "output_type": "execute_result"
    }
   ],
   "source": [
    "y = (x <= p).astype(int)\n",
    "y[:6]"
   ]
  },
  {
   "cell_type": "code",
   "execution_count": 59,
   "metadata": {},
   "outputs": [
    {
     "data": {
      "text/plain": [
       "0.506"
      ]
     },
     "execution_count": 59,
     "metadata": {},
     "output_type": "execute_result"
    }
   ],
   "source": [
    "y.mean() # close to success probability p, proportion of 1's vs. 0's"
   ]
  },
  {
   "cell_type": "markdown",
   "metadata": {},
   "source": [
    "### Section 6.3.3: Binomial Distribution {-}"
   ]
  },
  {
   "cell_type": "code",
   "execution_count": 60,
   "metadata": {},
   "outputs": [
    {
     "data": {
      "text/plain": [
       "0.3750000000000001"
      ]
     },
     "execution_count": 60,
     "metadata": {},
     "output_type": "execute_result"
    }
   ],
   "source": [
    "# PMF: k = 2, n = 3, p = 0.5\n",
    "stats.binom.pmf(k=2, n=3, p=0.5)"
   ]
  },
  {
   "cell_type": "code",
   "execution_count": 61,
   "metadata": {},
   "outputs": [
    {
     "data": {
      "text/plain": [
       "0.5"
      ]
     },
     "execution_count": 61,
     "metadata": {},
     "output_type": "execute_result"
    }
   ],
   "source": [
    "# CDF: k = 1, n = 3, p = 0.5\n",
    "stats.binom.cdf(k=1, n=3, p=0.5)"
   ]
  },
  {
   "cell_type": "code",
   "execution_count": 62,
   "metadata": {},
   "outputs": [
    {
     "data": {
      "text/plain": [
       "array([0.02522502, 0.00797865, 0.00252313])"
      ]
     },
     "execution_count": 62,
     "metadata": {},
     "output_type": "execute_result"
    }
   ],
   "source": [
    "# number of voters who turn out \n",
    "voters = np.array([1000, 10000, 100000])\n",
    "\n",
    "stats.binom.pmf(voters/2, n=voters, p=0.5)"
   ]
  },
  {
   "cell_type": "markdown",
   "metadata": {},
   "source": [
    "### Section 6.3.4: Normal Distribution {-}"
   ]
  },
  {
   "cell_type": "code",
   "execution_count": 63,
   "metadata": {},
   "outputs": [
    {
     "data": {
      "text/plain": [
       "0.6826894921370859"
      ]
     },
     "execution_count": 63,
     "metadata": {},
     "output_type": "execute_result"
    }
   ],
   "source": [
    "# plus minus 1 standard deviation from the mean\n",
    "stats.norm.cdf(1) - stats.norm.cdf(-1)"
   ]
  },
  {
   "cell_type": "code",
   "execution_count": 64,
   "metadata": {},
   "outputs": [
    {
     "data": {
      "text/plain": [
       "0.9544997361036416"
      ]
     },
     "execution_count": 64,
     "metadata": {},
     "output_type": "execute_result"
    }
   ],
   "source": [
    "# plus minus 2 standard deviations from the mean\n",
    "stats.norm.cdf(2) - stats.norm.cdf(-2)"
   ]
  },
  {
   "cell_type": "code",
   "execution_count": 65,
   "metadata": {},
   "outputs": [
    {
     "data": {
      "text/plain": [
       "0.6826894921370859"
      ]
     },
     "execution_count": 65,
     "metadata": {},
     "output_type": "execute_result"
    }
   ],
   "source": [
    "mu = 5\n",
    "sigma = 2\n",
    "\n",
    "# plus minus 1 standard deviation from the mean\n",
    "(stats.norm.cdf(mu + sigma, loc=mu, scale=sigma) - \n",
    " stats.norm.cdf(mu - sigma, loc=mu, scale=sigma))"
   ]
  },
  {
   "cell_type": "code",
   "execution_count": 66,
   "metadata": {},
   "outputs": [
    {
     "data": {
      "text/plain": [
       "0.9544997361036416"
      ]
     },
     "execution_count": 66,
     "metadata": {},
     "output_type": "execute_result"
    }
   ],
   "source": [
    "# plus minus 2 standard deviations from the mean\n",
    "(stats.norm.cdf(mu + 2*sigma, loc=mu, scale=sigma) - \n",
    " stats.norm.cdf(mu - 2*sigma, loc=mu, scale=sigma))"
   ]
  },
  {
   "cell_type": "code",
   "execution_count": 67,
   "metadata": {},
   "outputs": [],
   "source": [
    "# Replicate model from 4.2.5\n",
    "pres08 = pd.read_csv('pres08.csv')\n",
    "\n",
    "# import pres12 from the PREDICTION folder\n",
    "pres12 = pd.read_csv('../PREDICTION/pres12.csv')\n",
    "\n",
    "# merge the two elections by state\n",
    "pres = pd.merge(pres08, pres12, on='state')\n",
    "\n",
    "# Use the scipy zscore function to standardize Obama's vote share\n",
    "# Set ddof=1 to ensure the standard deviation denominator is n-1\n",
    "pres['Obama2008_z'] = stats.zscore(pres['Obama_x'], ddof=1)\n",
    "pres['Obama2012_z'] = stats.zscore(pres['Obama_y'], ddof=1)"
   ]
  },
  {
   "cell_type": "markdown",
   "metadata": {},
   "source": [
    "*Note that in chapter 4, we built a function to calculate the z-score using the pandas `.std()` method. The default ddof=1 for the pandas method. By contrast, the default ddof=0 for the numpy `std` function and the scipy `zscore` function.*"
   ]
  },
  {
   "cell_type": "code",
   "execution_count": 68,
   "metadata": {},
   "outputs": [],
   "source": [
    "import statsmodels.formula.api as smf\n",
    "\n",
    "fit1 = smf.ols('Obama2012_z ~ -1 + Obama2008_z', data=pres).fit()\n",
    "\n",
    "e = fit1.resid\n",
    "\n",
    "# z-score of residuals\n",
    "e_zscore = stats.zscore(e, ddof=1) \n",
    "\n",
    "# alternatively, we can divide the residuals by the standard deviation\n",
    "e_zscore = e / np.std(e, ddof=1)"
   ]
  },
  {
   "cell_type": "code",
   "execution_count": 69,
   "metadata": {},
   "outputs": [
    {
     "data": {
      "text/plain": [
       "<matplotlib.lines._AxLine at 0x25f6e07f580>"
      ]
     },
     "execution_count": 69,
     "metadata": {},
     "output_type": "execute_result"
    },
    {
     "data": {
      "image/png": "[encoded data removed]",
      "text/plain": [
       "<Figure size 1200x500 with 2 Axes>"
      ]
     },
     "metadata": {},
     "output_type": "display_data"
    }
   ],
   "source": [
    "# Plot a histogram and Q-Q plot of the standardized residuals\n",
    "\n",
    "## First, calculate some inputs for the plots\n",
    "x = np.arange(-3, 3, 0.01)\n",
    "y = stats.norm.pdf(x) # PDF of x\n",
    "\n",
    "## Find quantiles for Q-Q plot using scipy.stats.probplot\n",
    "quantiles = stats.probplot(e_zscore)\n",
    "osm = quantiles[0][0] # ordered statistic medians (theoretical quantiles)\n",
    "osr = quantiles[0][1] # ordered statistic ranks (sample quantiles)\n",
    "\n",
    "fig, axs = plt.subplots(1, 2, figsize=(12, 5))\n",
    "\n",
    "# Histogram of residuals\n",
    "sns.histplot(e_zscore, stat='density', color='gray', ax=axs[0]).set(\n",
    "    xlabel='Standardized residuals',\n",
    "    title='Distribution of Standardized Residuals')\n",
    "\n",
    "# Overlay the normal density \n",
    "sns.lineplot(x=x, y=y, color='black', ax=axs[0])\n",
    "\n",
    "# Q-Q plot\n",
    "sns.scatterplot(x=osm, y=osr, color='gray', ax=axs[1]).set(\n",
    "    xlabel='Theoretical quantiles', ylabel='Sample quantiles',\n",
    "    title='Normal Q-Q Plot', xlim=(-3.2, 3.2), ylim=(-3.2, 3.2))\n",
    "\n",
    "# 45-degree line\n",
    "axs[1].axline((0, 0), slope=1, color='black', linestyle='--')"
   ]
  },
  {
   "cell_type": "markdown",
   "metadata": {},
   "source": [
    "*Note that we could have used `probplot` to create a Q-Q plot directly by \n",
    "passing a plot or an axis to the `plot` argument. However, obtaining the \n",
    "quantiles enables us to customize the plot a bit more.*"
   ]
  },
  {
   "cell_type": "code",
   "execution_count": 70,
   "metadata": {},
   "outputs": [
    {
     "data": {
      "text/plain": [
       "0.1812238619213575"
      ]
     },
     "execution_count": 70,
     "metadata": {},
     "output_type": "execute_result"
    }
   ],
   "source": [
    "# e is a pandas series; we can use the pandas .std() method\n",
    "e_sd = e.std()\n",
    "e_sd"
   ]
  },
  {
   "cell_type": "code",
   "execution_count": 71,
   "metadata": {},
   "outputs": [
    {
     "data": {
      "text/plain": [
       "4    0.872063\n",
       "Name: Obama2008_z, dtype: float64"
      ]
     },
     "execution_count": 71,
     "metadata": {},
     "output_type": "execute_result"
    }
   ],
   "source": [
    "CA_2008 = pres['Obama2008_z'][pres['state'] == 'CA']\n",
    "CA_2008"
   ]
  },
  {
   "cell_type": "code",
   "execution_count": 72,
   "metadata": {},
   "outputs": [
    {
     "data": {
      "text/plain": [
       "Obama2008_z    0.857623\n",
       "dtype: float64"
      ]
     },
     "execution_count": 72,
     "metadata": {},
     "output_type": "execute_result"
    }
   ],
   "source": [
    "# CA_2008 is a series with index 4; extract the value using .iloc\n",
    "CA_mean2012 = fit1.params * CA_2008.iloc[0]\n",
    "CA_mean2012"
   ]
  },
  {
   "cell_type": "code",
   "execution_count": 73,
   "metadata": {},
   "outputs": [
    {
     "data": {
      "text/plain": [
       "array([0.46824629])"
      ]
     },
     "execution_count": 73,
     "metadata": {},
     "output_type": "execute_result"
    }
   ],
   "source": [
    "# area to the right; greater than CA_2008\n",
    "1 - stats.norm.cdf(CA_2008, loc=CA_mean2012, scale=e_sd)"
   ]
  },
  {
   "cell_type": "code",
   "execution_count": 74,
   "metadata": {},
   "outputs": [
    {
     "data": {
      "text/plain": [
       "Obama2008_z   -0.656754\n",
       "dtype: float64"
      ]
     },
     "execution_count": 74,
     "metadata": {},
     "output_type": "execute_result"
    }
   ],
   "source": [
    "TX_2008 = pres['Obama2008_z'][pres['state'] == 'TX']\n",
    "TX_mean2012 = fit1.params * TX_2008.iloc[0]\n",
    "TX_mean2012"
   ]
  },
  {
   "cell_type": "code",
   "execution_count": 75,
   "metadata": {},
   "outputs": [
    {
     "data": {
      "text/plain": [
       "array([0.52432713])"
      ]
     },
     "execution_count": 75,
     "metadata": {},
     "output_type": "execute_result"
    }
   ],
   "source": [
    "1 - stats.norm.cdf(TX_2008, loc=TX_mean2012, scale=e_sd)"
   ]
  },
  {
   "cell_type": "markdown",
   "metadata": {},
   "source": [
    "### Section 6.3.5: Expectation and Variance {-}\n",
    "\n",
    "**In Progress**"
   ]
  }
 ],
 "metadata": {
  "authors": [
   {
    "name": "Kosuke Imai"
   },
   {
    "name": "Python code by Jeff Allen"
   }
  ],
  "date": "First Printing",
  "kernelspec": {
   "display_name": "qss",
   "language": "python",
   "name": "python3"
  },
  "language_info": {
   "codemirror_mode": {
    "name": "ipython",
    "version": 3
   },
   "file_extension": ".py",
   "mimetype": "text/x-python",
   "name": "python",
   "nbconvert_exporter": "python",
   "pygments_lexer": "ipython3",
   "version": "3.10.11"
  },
  "orig_nbformat": 4,
  "title": "Python Code for QSS Chapter 6: Probability"
 },
 "nbformat": 4,
 "nbformat_minor": 2
}
