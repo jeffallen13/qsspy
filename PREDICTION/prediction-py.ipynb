{
 "cells": [
  {
   "cell_type": "code",
   "execution_count": 1,
   "metadata": {},
   "outputs": [],
   "source": [
    "# import libraries with conventional aliases\n",
    "import pandas as pd\n",
    "import numpy as np\n",
    "import seaborn as sns\n",
    "import matplotlib.pyplot as plt"
   ]
  },
  {
   "cell_type": "markdown",
   "metadata": {},
   "source": [
    "## Section 4.1: Predicting Election Outcomes {-}\n",
    "\n",
    "### Section 4.1.1: Loops in Python {-}"
   ]
  },
  {
   "cell_type": "code",
   "execution_count": 2,
   "metadata": {},
   "outputs": [
    {
     "name": "stdout",
     "output_type": "stream",
     "text": [
      "2 times 2 is equal to 4.0\n",
      "4 times 2 is equal to 8.0\n",
      "6 times 2 is equal to 12.0\n"
     ]
    },
    {
     "data": {
      "text/plain": [
       "array([ 4.,  8., 12.])"
      ]
     },
     "execution_count": 2,
     "metadata": {},
     "output_type": "execute_result"
    }
   ],
   "source": [
    "values = np.array([2, 4, 6])\n",
    "n = len(values) # number of elements in values\n",
    "results = np.zeros(n) # empty container vector for storing the results \n",
    "\n",
    "# looper counter `i` will take on values 0, 1, ..., n in that order\n",
    "for i in range(n):\n",
    "    # store multiplication results as the ith element of `results` vector\n",
    "    results[i] = values[i] * 2\n",
    "    print(f\"{values[i]} times 2 is equal to {results[i]}\")\n",
    "\n",
    "results"
   ]
  },
  {
   "cell_type": "code",
   "execution_count": 3,
   "metadata": {},
   "outputs": [
    {
     "name": "stdout",
     "output_type": "stream",
     "text": [
      "2 times 2 is equal to 4\n"
     ]
    }
   ],
   "source": [
    "# check if the code runs when i = 0 \n",
    "# i = 0 represents the first element in 'values' with zero-based indexing\n",
    "i = 0\n",
    "x = values[i] * 2\n",
    "print(f\"{values[i]} times 2 is equal to {x}\")"
   ]
  },
  {
   "cell_type": "markdown",
   "metadata": {},
   "source": [
    "### Section 4.1.2: General Conditional Statements in Python {-}"
   ]
  },
  {
   "cell_type": "code",
   "execution_count": 4,
   "metadata": {},
   "outputs": [
    {
     "name": "stdout",
     "output_type": "stream",
     "text": [
      "I will perform addition 4 + 4\n",
      "8\n"
     ]
    }
   ],
   "source": [
    "# define the operation to be executed\n",
    "operation = 'add'\n",
    "\n",
    "if operation=='add':\n",
    "    print('I will perform addition 4 + 4')\n",
    "    print(4 + 4)\n",
    "\n",
    "if operation=='multiply':\n",
    "    print('I will perform multiplication 4 * 4')\n",
    "    print(4 * 4)"
   ]
  },
  {
   "cell_type": "code",
   "execution_count": 5,
   "metadata": {},
   "outputs": [
    {
     "name": "stdout",
     "output_type": "stream",
     "text": [
      "I will perform multiplication 4 * 4\n",
      "16\n"
     ]
    }
   ],
   "source": [
    "# Note that 'operation' is redefined\n",
    "operation = 'multiply'\n",
    "\n",
    "if operation=='add':\n",
    "    print('I will perform addition 4 + 4')\n",
    "    print(4 + 4)\n",
    "else:\n",
    "    print('I will perform multiplication 4 * 4')\n",
    "    print(4 * 4)"
   ]
  },
  {
   "cell_type": "code",
   "execution_count": 6,
   "metadata": {},
   "outputs": [
    {
     "name": "stdout",
     "output_type": "stream",
     "text": [
      "'subtract' is invalid. Use either 'add' or 'multiply'.\n"
     ]
    }
   ],
   "source": [
    "# Note that 'operation' is redefined\n",
    "operation = 'subtract'\n",
    "\n",
    "if operation=='add':\n",
    "    print('I will perform addition 4 + 4')\n",
    "    print(4 + 4)\n",
    "elif operation=='multiply':\n",
    "    print('I will perform multiplication 4 * 4')\n",
    "    print(4 * 4)\n",
    "else:\n",
    "    print(f\"'{operation}' is invalid. Use either 'add' or 'multiply'.\")"
   ]
  },
  {
   "cell_type": "code",
   "execution_count": 7,
   "metadata": {},
   "outputs": [
    {
     "name": "stdout",
     "output_type": "stream",
     "text": [
      "1 is odd and I will perform multiplication 1 * 1\n",
      "2 is even and I will perform addition 2 + 2\n",
      "3 is odd and I will perform multiplication 3 * 3\n",
      "4 is even and I will perform addition 4 + 4\n",
      "5 is odd and I will perform multiplication 5 * 5\n"
     ]
    },
    {
     "data": {
      "text/plain": [
       "array([ 1.,  4.,  9.,  8., 25.])"
      ]
     },
     "execution_count": 7,
     "metadata": {},
     "output_type": "execute_result"
    }
   ],
   "source": [
    "values = np.arange(1,6)\n",
    "n = len(values)\n",
    "results = np.zeros(n)\n",
    "\n",
    "for i in range(n):\n",
    "    # x and r get overwritten in each iteration\n",
    "    x = values[i]\n",
    "    r = x % 2 # remainder of x divided by 2 to check if x is even or odd\n",
    "    if r==0: # remainder is 0\n",
    "        print(f\"{x} is even and I will perform addition {x} + {x}\")\n",
    "        results[i] = x + x\n",
    "    else: # remainder is not 0\n",
    "        print(f\"{x} is odd and I will perform multiplication {x} * {x}\")\n",
    "        results[i] = x * x\n",
    "\n",
    "results"
   ]
  },
  {
   "cell_type": "markdown",
   "metadata": {},
   "source": [
    "### Section 4.1.3: Poll Predictions {-}"
   ]
  },
  {
   "cell_type": "code",
   "execution_count": 8,
   "metadata": {},
   "outputs": [
    {
     "data": {
      "text/plain": [
       "datetime.timedelta(days=64)"
      ]
     },
     "execution_count": 8,
     "metadata": {},
     "output_type": "execute_result"
    }
   ],
   "source": [
    "# import the datetime module\n",
    "from datetime import datetime\n",
    "\n",
    "# load election results, by state\n",
    "pres08 = pd.read_csv('pres08.csv')\n",
    "\n",
    "# load polling data\n",
    "polls08 = pd.read_csv('polls08.csv')\n",
    "\n",
    "# compute Obama's margin\n",
    "polls08['margin'] = polls08['Obama'] - polls08['McCain']\n",
    "pres08['margin'] = pres08['Obama'] - pres08['McCain']\n",
    "\n",
    "x = datetime.strptime('2008-11-04', '%Y-%m-%d')\n",
    "y = datetime.strptime('2008/9/1', '%Y/%m/%d')\n",
    "\n",
    "# number of days between 9/1/2008 and 11/4/2008\n",
    "x-y # a timedelta object"
   ]
  },
  {
   "cell_type": "code",
   "execution_count": 9,
   "metadata": {},
   "outputs": [
    {
     "data": {
      "text/plain": [
       "64"
      ]
     },
     "execution_count": 9,
     "metadata": {},
     "output_type": "execute_result"
    }
   ],
   "source": [
    "# number of days as an integer\n",
    "(x-y).days "
   ]
  },
  {
   "cell_type": "code",
   "execution_count": 10,
   "metadata": {},
   "outputs": [
    {
     "data": {
      "text/plain": [
       "AL   NaN\n",
       "AK   NaN\n",
       "AZ   NaN\n",
       "AR   NaN\n",
       "CA   NaN\n",
       "dtype: float64"
      ]
     },
     "execution_count": 10,
     "metadata": {},
     "output_type": "execute_result"
    }
   ],
   "source": [
    "# convert middate to datetime object using pandas convenience function\n",
    "polls08['middate'] = pd.to_datetime(polls08['middate'])\n",
    "\n",
    "# compute the number of days to the election; use x defined above\n",
    "# extract days using the .dt accessor\n",
    "polls08['days_to_election'] = (x - polls08['middate']).dt.days\n",
    "\n",
    "# extract unique state names which the loop will iterate through\n",
    "st_names = polls08['state'].unique()\n",
    "\n",
    "# initialize a container vector for storing the results as a series\n",
    "poll_pred = pd.Series(index=st_names)\n",
    "\n",
    "poll_pred.head()"
   ]
  },
  {
   "cell_type": "code",
   "execution_count": 11,
   "metadata": {},
   "outputs": [
    {
     "data": {
      "text/plain": [
       "AL   -25.0\n",
       "AK   -19.0\n",
       "AZ    -2.5\n",
       "AR    -7.0\n",
       "CA    24.0\n",
       "CO     7.0\n",
       "CT    25.0\n",
       "DC    69.0\n",
       "DE    30.0\n",
       "FL     2.0\n",
       "dtype: float64"
      ]
     },
     "execution_count": 11,
     "metadata": {},
     "output_type": "execute_result"
    }
   ],
   "source": [
    "# loop across the 50 states plus DC\n",
    "for i in range(len(st_names)):\n",
    "    # subset the ith state\n",
    "    state_data = polls08[polls08['state']==st_names[i]]\n",
    "    # further subset the latest polls within the state\n",
    "    latest = (state_data[state_data['days_to_election']==\n",
    "                         state_data['days_to_election'].min()])\n",
    "    # compute the mean of the latest polls and store it\n",
    "    poll_pred[i] = latest['margin'].mean()\n",
    "\n",
    "poll_pred.head(10)"
   ]
  },
  {
   "cell_type": "markdown",
   "metadata": {},
   "source": [
    "Becuase we stored state names as the index, we could use state names as the loop counter. In complex numeric indexing cases, looping through names can be a good alternative. "
   ]
  },
  {
   "cell_type": "code",
   "execution_count": 12,
   "metadata": {},
   "outputs": [
    {
     "data": {
      "text/plain": [
       "True"
      ]
     },
     "execution_count": 12,
     "metadata": {},
     "output_type": "execute_result"
    }
   ],
   "source": [
    "poll_pred_alt = pd.Series(index=st_names)\n",
    "\n",
    "# loop across the 50 states plus DC\n",
    "for state in st_names:\n",
    "    # subset the polls data for the current state\n",
    "    state_data = polls08[polls08['state']==state]\n",
    "    # subset the latest poll for the current state\n",
    "    latest = (state_data[state_data['days_to_election']==\n",
    "                         state_data['days_to_election'].min()])\n",
    "    # compute the mean of the latest poll and store it in the results vector\n",
    "    poll_pred_alt[state] = latest['margin'].mean()\n",
    "\n",
    "# check that results are the same\n",
    "poll_pred.equals(poll_pred_alt)"
   ]
  },
  {
   "cell_type": "markdown",
   "metadata": {},
   "source": [
    "Recall from chapter 3 that if we want to perform element-wise arithmetic on two equal length vectors whose elements are sorted correctly, the indexes should be identical. Since the `poll_pred` index is state abbreviations, we can reset the `pres08` index to state abbreviations and then extract the margin column without modifying the data frame in place. Of course, we could also add `poll_pred` to the data frame, which we will illustrate later. "
   ]
  },
  {
   "cell_type": "code",
   "execution_count": 13,
   "metadata": {},
   "outputs": [
    {
     "data": {
      "text/plain": [
       "state\n",
       "AL     4.0\n",
       "AK    -2.0\n",
       "AZ    -6.5\n",
       "AR   -13.0\n",
       "CA     0.0\n",
       "dtype: float64"
      ]
     },
     "execution_count": 13,
     "metadata": {},
     "output_type": "execute_result"
    }
   ],
   "source": [
    "# errors of latest polls\n",
    "errors = pres08.set_index('state')['margin'] - poll_pred\n",
    "\n",
    "errors.head()"
   ]
  },
  {
   "cell_type": "code",
   "execution_count": 14,
   "metadata": {},
   "outputs": [
    {
     "data": {
      "text/plain": [
       "1.0620915032679739"
      ]
     },
     "execution_count": 14,
     "metadata": {},
     "output_type": "execute_result"
    }
   ],
   "source": [
    "# mean prediction error\n",
    "errors.mean()"
   ]
  },
  {
   "cell_type": "code",
   "execution_count": 15,
   "metadata": {},
   "outputs": [
    {
     "data": {
      "text/plain": [
       "5.908940458495747"
      ]
     },
     "execution_count": 15,
     "metadata": {},
     "output_type": "execute_result"
    }
   ],
   "source": [
    "# root mean squared prediction error\n",
    "np.sqrt((errors**2).mean())"
   ]
  },
  {
   "cell_type": "code",
   "execution_count": 16,
   "metadata": {},
   "outputs": [
    {
     "data": {
      "text/plain": [
       "Text(-8.5, 0.075, 'average error')"
      ]
     },
     "execution_count": 16,
     "metadata": {},
     "output_type": "execute_result"
    },
    {
     "data": {
      "image/png": "[encoded data removed]",
      "text/plain": [
       "<Figure size 600x400 with 1 Axes>"
      ]
     },
     "metadata": {},
     "output_type": "display_data"
    }
   ],
   "source": [
    "# histogram of errors\n",
    "sns.set_theme(style=\"whitegrid\")\n",
    "\n",
    "sns.displot(\n",
    "    x=errors, stat='density', binrange=(-20, 20), binwidth=5, \n",
    "    height=4, aspect=1.5, \n",
    ").set(xlabel='Error in predicted margin for Obama (percentage points)', \n",
    "      title='Poll prediction error',\n",
    "      ylim=(0, 0.08)).despine(right=False, top=False)\n",
    "\n",
    "# add a vertical line representing the mean\n",
    "plt.axvline(x=errors.mean(), color='red', linestyle='--')\n",
    "\n",
    "# add a text label for the median\n",
    "plt.text(x=-8.5, y=0.075, s='average error', color='red')"
   ]
  },
  {
   "cell_type": "code",
   "execution_count": 17,
   "metadata": {},
   "outputs": [
    {
     "data": {
      "text/plain": [
       "<matplotlib.lines.Line2D at 0x1754e485210>"
      ]
     },
     "execution_count": 17,
     "metadata": {},
     "output_type": "execute_result"
    },
    {
     "data": {
      "image/png": "[encoded data removed]",
      "text/plain": [
       "<Figure size 600x400 with 1 Axes>"
      ]
     },
     "metadata": {},
     "output_type": "display_data"
    }
   ],
   "source": [
    "# add poll_pred to pres08 for easier plotting and analysis \n",
    "# reset the index to match the index of pres08 and drop the old index\n",
    "pres08['poll_pred'] = poll_pred.reset_index(drop=True)\n",
    "\n",
    "# marker='' generates an \"empty\" plot\n",
    "sns.relplot(\n",
    "    data=pres08, x='poll_pred', y='margin', marker='',\n",
    "    height=4, aspect=1.5,\n",
    ").set(xlabel='Poll results', ylabel='Actual election results',\n",
    "      ylim=(-40, 90), xlim=(-40, 90))\n",
    "\n",
    "# add state abbreviations\n",
    "for i in range(len(pres08['state'])):\n",
    "    plt.text(x=pres08['poll_pred'][i], y=pres08['margin'][i], \n",
    "             s=pres08['state'][i], color='blue')\n",
    "    \n",
    "# add 45 degree line\n",
    "plt.gca().axline((0, 0), slope=1, color='red', linestyle='--')\n",
    "\n",
    "# add vertical and horizontal lines at 0\n",
    "plt.axvline(x=0, color='black', linewidth=0.5)\n",
    "plt.axhline(y=0, color='black', linewidth=0.5)"
   ]
  },
  {
   "cell_type": "code",
   "execution_count": 18,
   "metadata": {},
   "outputs": [
    {
     "data": {
      "text/plain": [
       "14    IN\n",
       "25    MO\n",
       "33    NC\n",
       "Name: state, dtype: object"
      ]
     },
     "execution_count": 18,
     "metadata": {},
     "output_type": "execute_result"
    }
   ],
   "source": [
    "# which state polls called the election wrong?\n",
    "pres08['state'][np.sign(pres08['poll_pred']) != np.sign(pres08['margin'])]"
   ]
  },
  {
   "cell_type": "code",
   "execution_count": 19,
   "metadata": {},
   "outputs": [
    {
     "data": {
      "text/plain": [
       "14    1\n",
       "25   -1\n",
       "33    1\n",
       "Name: margin, dtype: int64"
      ]
     },
     "execution_count": 19,
     "metadata": {},
     "output_type": "execute_result"
    }
   ],
   "source": [
    "# what was the actual margin for these states?\n",
    "pres08['margin'][np.sign(pres08['poll_pred']) != np.sign(pres08['margin'])]"
   ]
  },
  {
   "cell_type": "code",
   "execution_count": 20,
   "metadata": {},
   "outputs": [
    {
     "data": {
      "text/plain": [
       "364"
      ]
     },
     "execution_count": 20,
     "metadata": {},
     "output_type": "execute_result"
    }
   ],
   "source": [
    "# actual results: total number of electoral votes won by Obama\n",
    "pres08['EV'][pres08['margin']>0].sum()"
   ]
  },
  {
   "cell_type": "code",
   "execution_count": 21,
   "metadata": {},
   "outputs": [
    {
     "data": {
      "text/plain": [
       "349"
      ]
     },
     "execution_count": 21,
     "metadata": {},
     "output_type": "execute_result"
    }
   ],
   "source": [
    "# poll prediction\n",
    "pres08['EV'][pres08['poll_pred']>0].sum()"
   ]
  },
  {
   "cell_type": "code",
   "execution_count": 22,
   "metadata": {},
   "outputs": [],
   "source": [
    "# load the data\n",
    "pollsUS08 = pd.read_csv('pollsUS08.csv')\n",
    "\n",
    "# compute number of days to the election as before \n",
    "pollsUS08['middate'] = pd.to_datetime(pollsUS08['middate'])\n",
    "\n",
    "pollsUS08['days_to_election'] = (x - pollsUS08['middate']).dt.days\n",
    "\n",
    "# empty numpy vectors to store predictions for Obama and McCain\n",
    "Obama_pred = np.zeros(90)\n",
    "McCain_pred = np.zeros(90)"
   ]
  },
  {
   "cell_type": "markdown",
   "metadata": {},
   "source": [
    "With zero-based indexing, the days sequence 1-90 does not match the vector index 0-89. We need to account for this somewhere. One option, among many, is to add 1 to the loop counter when working with the days sequence."
   ]
  },
  {
   "cell_type": "code",
   "execution_count": 23,
   "metadata": {},
   "outputs": [
    {
     "data": {
      "text/html": [
       "<div>\n",
       "<style scoped>\n",
       "    .dataframe tbody tr th:only-of-type {\n",
       "        vertical-align: middle;\n",
       "    }\n",
       "\n",
       "    .dataframe tbody tr th {\n",
       "        vertical-align: top;\n",
       "    }\n",
       "\n",
       "    .dataframe thead th {\n",
       "        text-align: right;\n",
       "    }\n",
       "</style>\n",
       "<table border=\"1\" class=\"dataframe\">\n",
       "  <thead>\n",
       "    <tr style=\"text-align: right;\">\n",
       "      <th></th>\n",
       "      <th>Obama</th>\n",
       "      <th>McCain</th>\n",
       "      <th>days_to_election</th>\n",
       "    </tr>\n",
       "  </thead>\n",
       "  <tbody>\n",
       "    <tr>\n",
       "      <th>0</th>\n",
       "      <td>44.538462</td>\n",
       "      <td>40.692308</td>\n",
       "      <td>90</td>\n",
       "    </tr>\n",
       "    <tr>\n",
       "      <th>1</th>\n",
       "      <td>45.000000</td>\n",
       "      <td>40.692308</td>\n",
       "      <td>89</td>\n",
       "    </tr>\n",
       "    <tr>\n",
       "      <th>2</th>\n",
       "      <td>45.230769</td>\n",
       "      <td>40.846154</td>\n",
       "      <td>88</td>\n",
       "    </tr>\n",
       "    <tr>\n",
       "      <th>3</th>\n",
       "      <td>45.750000</td>\n",
       "      <td>42.000000</td>\n",
       "      <td>87</td>\n",
       "    </tr>\n",
       "    <tr>\n",
       "      <th>4</th>\n",
       "      <td>45.888889</td>\n",
       "      <td>42.000000</td>\n",
       "      <td>86</td>\n",
       "    </tr>\n",
       "  </tbody>\n",
       "</table>\n",
       "</div>"
      ],
      "text/plain": [
       "       Obama     McCain  days_to_election\n",
       "0  44.538462  40.692308                90\n",
       "1  45.000000  40.692308                89\n",
       "2  45.230769  40.846154                88\n",
       "3  45.750000  42.000000                87\n",
       "4  45.888889  42.000000                86"
      ]
     },
     "execution_count": 23,
     "metadata": {},
     "output_type": "execute_result"
    }
   ],
   "source": [
    "for i in range(len(Obama_pred)):\n",
    "    # take all polls conducted within the past 7 days\n",
    "    week_data = (pollsUS08[(pollsUS08['days_to_election'] <= (90 - (i + 1) + 7)) \n",
    "                           & (pollsUS08['days_to_election'] > (90 - (i + 1)))]) \n",
    "    # compute the mean of the polls for Obama and McCain\n",
    "    Obama_pred[i] = week_data['Obama'].mean()\n",
    "    McCain_pred[i] = week_data['McCain'].mean()\n",
    "\n",
    "# put together a data frame for plotting\n",
    "pollsUS08_avg = pd.DataFrame({'Obama': Obama_pred, \n",
    "                              'McCain': McCain_pred,\n",
    "                              'days_to_election': np.arange(90, 0, -1)})\n",
    "\n",
    "pollsUS08_avg.head()"
   ]
  },
  {
   "cell_type": "markdown",
   "metadata": {},
   "source": [
    "Recall from chapter three that plotting groups in seaborn works best when the grouping variable is stored in a single column. In this case, the grouping variable is the candidate. To pivot the candidates into a single column, we need to reshape the data into a longer format, which we can do with the `melt()` method in pandas. "
   ]
  },
  {
   "cell_type": "code",
   "execution_count": 24,
   "metadata": {},
   "outputs": [
    {
     "data": {
      "text/html": [
       "<div>\n",
       "<style scoped>\n",
       "    .dataframe tbody tr th:only-of-type {\n",
       "        vertical-align: middle;\n",
       "    }\n",
       "\n",
       "    .dataframe tbody tr th {\n",
       "        vertical-align: top;\n",
       "    }\n",
       "\n",
       "    .dataframe thead th {\n",
       "        text-align: right;\n",
       "    }\n",
       "</style>\n",
       "<table border=\"1\" class=\"dataframe\">\n",
       "  <thead>\n",
       "    <tr style=\"text-align: right;\">\n",
       "      <th></th>\n",
       "      <th>days_to_election</th>\n",
       "      <th>Candidate</th>\n",
       "      <th>poll_avg</th>\n",
       "    </tr>\n",
       "  </thead>\n",
       "  <tbody>\n",
       "    <tr>\n",
       "      <th>0</th>\n",
       "      <td>90</td>\n",
       "      <td>Obama</td>\n",
       "      <td>44.538462</td>\n",
       "    </tr>\n",
       "    <tr>\n",
       "      <th>1</th>\n",
       "      <td>89</td>\n",
       "      <td>Obama</td>\n",
       "      <td>45.000000</td>\n",
       "    </tr>\n",
       "    <tr>\n",
       "      <th>2</th>\n",
       "      <td>88</td>\n",
       "      <td>Obama</td>\n",
       "      <td>45.230769</td>\n",
       "    </tr>\n",
       "    <tr>\n",
       "      <th>3</th>\n",
       "      <td>87</td>\n",
       "      <td>Obama</td>\n",
       "      <td>45.750000</td>\n",
       "    </tr>\n",
       "    <tr>\n",
       "      <th>4</th>\n",
       "      <td>86</td>\n",
       "      <td>Obama</td>\n",
       "      <td>45.888889</td>\n",
       "    </tr>\n",
       "  </tbody>\n",
       "</table>\n",
       "</div>"
      ],
      "text/plain": [
       "   days_to_election Candidate   poll_avg\n",
       "0                90     Obama  44.538462\n",
       "1                89     Obama  45.000000\n",
       "2                88     Obama  45.230769\n",
       "3                87     Obama  45.750000\n",
       "4                86     Obama  45.888889"
      ]
     },
     "execution_count": 24,
     "metadata": {},
     "output_type": "execute_result"
    }
   ],
   "source": [
    "# reshape the data: pivot longer using melt\n",
    "pollsUS08_avg_long = pollsUS08_avg.melt(id_vars='days_to_election', \n",
    "                                        var_name='Candidate', \n",
    "                                        value_name='poll_avg')\n",
    "\n",
    "pollsUS08_avg_long.head()"
   ]
  },
  {
   "cell_type": "code",
   "execution_count": 25,
   "metadata": {},
   "outputs": [
    {
     "data": {
      "text/html": [
       "<div>\n",
       "<style scoped>\n",
       "    .dataframe tbody tr th:only-of-type {\n",
       "        vertical-align: middle;\n",
       "    }\n",
       "\n",
       "    .dataframe tbody tr th {\n",
       "        vertical-align: top;\n",
       "    }\n",
       "\n",
       "    .dataframe thead th {\n",
       "        text-align: right;\n",
       "    }\n",
       "</style>\n",
       "<table border=\"1\" class=\"dataframe\">\n",
       "  <thead>\n",
       "    <tr style=\"text-align: right;\">\n",
       "      <th></th>\n",
       "      <th>days_to_election</th>\n",
       "      <th>Candidate</th>\n",
       "      <th>poll_avg</th>\n",
       "    </tr>\n",
       "  </thead>\n",
       "  <tbody>\n",
       "    <tr>\n",
       "      <th>175</th>\n",
       "      <td>5</td>\n",
       "      <td>McCain</td>\n",
       "      <td>43.384615</td>\n",
       "    </tr>\n",
       "    <tr>\n",
       "      <th>176</th>\n",
       "      <td>4</td>\n",
       "      <td>McCain</td>\n",
       "      <td>43.708333</td>\n",
       "    </tr>\n",
       "    <tr>\n",
       "      <th>177</th>\n",
       "      <td>3</td>\n",
       "      <td>McCain</td>\n",
       "      <td>44.000000</td>\n",
       "    </tr>\n",
       "    <tr>\n",
       "      <th>178</th>\n",
       "      <td>2</td>\n",
       "      <td>McCain</td>\n",
       "      <td>44.185185</td>\n",
       "    </tr>\n",
       "    <tr>\n",
       "      <th>179</th>\n",
       "      <td>1</td>\n",
       "      <td>McCain</td>\n",
       "      <td>44.160000</td>\n",
       "    </tr>\n",
       "  </tbody>\n",
       "</table>\n",
       "</div>"
      ],
      "text/plain": [
       "     days_to_election Candidate   poll_avg\n",
       "175                 5    McCain  43.384615\n",
       "176                 4    McCain  43.708333\n",
       "177                 3    McCain  44.000000\n",
       "178                 2    McCain  44.185185\n",
       "179                 1    McCain  44.160000"
      ]
     },
     "execution_count": 25,
     "metadata": {},
     "output_type": "execute_result"
    }
   ],
   "source": [
    "pollsUS08_avg_long.tail()"
   ]
  },
  {
   "cell_type": "code",
   "execution_count": 26,
   "metadata": {},
   "outputs": [
    {
     "data": {
      "text/plain": [
       "<matplotlib.collections.PathCollection at 0x1754e4202b0>"
      ]
     },
     "execution_count": 26,
     "metadata": {},
     "output_type": "execute_result"
    },
    {
     "data": {
      "image/png": "[encoded data removed]",
      "text/plain": [
       "<Figure size 706.625x400 with 1 Axes>"
      ]
     },
     "metadata": {},
     "output_type": "display_data"
    }
   ],
   "source": [
    "sns.set_theme(style=\"ticks\")\n",
    "\n",
    "# plot going from 90 days to 1 day before the election\n",
    "sns.relplot(\n",
    "    data=pollsUS08_avg_long, x='days_to_election', y='poll_avg', \n",
    "    hue='Candidate', kind='line', \n",
    "    palette=['b', 'r'], height=4, aspect=1.5\n",
    ").set(ylim=(40, 60), yticks=range(40, 61, 5), \n",
    "      xlim=(90, -1.5), # small buffer in right limit for aesthetics\n",
    "      xlabel='Days to the election', \n",
    "      ylabel='Support for candidate (percentage points)')\n",
    "\n",
    "# line indicating election day\n",
    "plt.axvline(x=0, color='black', linestyle='--', linewidth=0.5)\n",
    "\n",
    "# actual election results \n",
    "plt.scatter(0, 52.93, color='blue', s=100)\n",
    "plt.scatter(0, 45.65, color='red', s=100)"
   ]
  },
  {
   "cell_type": "markdown",
   "metadata": {},
   "source": [
    "## Section 4.2: Linear Regression {-}\n",
    "\n",
    "### Section 4.2.1: Facial Appearance and Election Outcomes {-}\n",
    "\n",
    "**In progress**"
   ]
  }
 ],
 "metadata": {
  "authors": [
   {
    "name": "Kosuke Imai"
   },
   {
    "name": "Python code by Jeff Allen"
   }
  ],
  "date": "First Printing",
  "kernelspec": {
   "display_name": "qss",
   "language": "python",
   "name": "python3"
  },
  "language_info": {
   "codemirror_mode": {
    "name": "ipython",
    "version": 3
   },
   "file_extension": ".py",
   "mimetype": "text/x-python",
   "name": "python",
   "nbconvert_exporter": "python",
   "pygments_lexer": "ipython3",
   "version": "3.10.11"
  },
  "orig_nbformat": 4,
  "title": "Python Code for QSS Chapter 4: Prediction"
 },
 "nbformat": 4,
 "nbformat_minor": 2
}
