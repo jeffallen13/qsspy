{
 "cells": [
  {
   "cell_type": "code",
   "execution_count": 1,
   "metadata": {},
   "outputs": [],
   "source": [
    "# import libraries with conventional aliases\n",
    "import pandas as pd\n",
    "import numpy as np\n",
    "import seaborn as sns\n",
    "import matplotlib.pyplot as plt"
   ]
  },
  {
   "cell_type": "markdown",
   "metadata": {},
   "source": [
    "## Section 4.1: Predicting Election Outcomes {-}\n",
    "\n",
    "### Section 4.1.1: Loops in Python {-}"
   ]
  },
  {
   "cell_type": "code",
   "execution_count": 2,
   "metadata": {},
   "outputs": [
    {
     "name": "stdout",
     "output_type": "stream",
     "text": [
      "2 times 2 is equal to 4.0\n",
      "4 times 2 is equal to 8.0\n",
      "6 times 2 is equal to 12.0\n"
     ]
    },
    {
     "data": {
      "text/plain": [
       "array([ 4.,  8., 12.])"
      ]
     },
     "execution_count": 2,
     "metadata": {},
     "output_type": "execute_result"
    }
   ],
   "source": [
    "values = np.array([2, 4, 6])\n",
    "n = len(values) # number of elements in values\n",
    "results = np.zeros(n) # empty container vector for storing the results \n",
    "\n",
    "# loop counter `i` will take on values 0, 1, ..., n in that order\n",
    "for i in range(n):\n",
    "    # store multiplication results as the ith element of `results` vector\n",
    "    results[i] = values[i] * 2\n",
    "    print(f\"{values[i]} times 2 is equal to {results[i]}\")\n",
    "\n",
    "results"
   ]
  },
  {
   "cell_type": "code",
   "execution_count": 3,
   "metadata": {},
   "outputs": [
    {
     "name": "stdout",
     "output_type": "stream",
     "text": [
      "2 times 2 is equal to 4\n"
     ]
    }
   ],
   "source": [
    "# check if the code runs when i = 0 \n",
    "# i = 0 represents the first element in 'values'\n",
    "i = 0\n",
    "x = values[i] * 2\n",
    "print(f\"{values[i]} times 2 is equal to {x}\")"
   ]
  },
  {
   "cell_type": "markdown",
   "metadata": {},
   "source": [
    "### Section 4.1.2: General Conditional Statements in Python {-}"
   ]
  },
  {
   "cell_type": "code",
   "execution_count": 4,
   "metadata": {},
   "outputs": [
    {
     "name": "stdout",
     "output_type": "stream",
     "text": [
      "I will perform addition 4 + 4\n",
      "8\n"
     ]
    }
   ],
   "source": [
    "# define the operation to be executed\n",
    "operation = 'add'\n",
    "\n",
    "if operation=='add':\n",
    "    print('I will perform addition 4 + 4')\n",
    "    print(4 + 4)\n",
    "\n",
    "if operation=='multiply':\n",
    "    print('I will perform multiplication 4 * 4')\n",
    "    print(4 * 4)"
   ]
  },
  {
   "cell_type": "code",
   "execution_count": 5,
   "metadata": {},
   "outputs": [
    {
     "name": "stdout",
     "output_type": "stream",
     "text": [
      "I will perform multiplication 4 * 4\n",
      "16\n"
     ]
    }
   ],
   "source": [
    "# Note that 'operation' is redefined\n",
    "operation = 'multiply'\n",
    "\n",
    "if operation=='add':\n",
    "    print('I will perform addition 4 + 4')\n",
    "    print(4 + 4)\n",
    "else:\n",
    "    print('I will perform multiplication 4 * 4')\n",
    "    print(4 * 4)"
   ]
  },
  {
   "cell_type": "code",
   "execution_count": 6,
   "metadata": {},
   "outputs": [
    {
     "name": "stdout",
     "output_type": "stream",
     "text": [
      "'subtract' is invalid. Use either 'add' or 'multiply'.\n"
     ]
    }
   ],
   "source": [
    "# Note that 'operation' is redefined\n",
    "operation = 'subtract'\n",
    "\n",
    "if operation=='add':\n",
    "    print('I will perform addition 4 + 4')\n",
    "    print(4 + 4)\n",
    "elif operation=='multiply':\n",
    "    print('I will perform multiplication 4 * 4')\n",
    "    print(4 * 4)\n",
    "else:\n",
    "    print(f\"'{operation}' is invalid. Use either 'add' or 'multiply'.\")"
   ]
  },
  {
   "cell_type": "code",
   "execution_count": 7,
   "metadata": {},
   "outputs": [
    {
     "name": "stdout",
     "output_type": "stream",
     "text": [
      "1 is odd and I will perform multiplication 1 * 1\n",
      "2 is even and I will perform addition 2 + 2\n",
      "3 is odd and I will perform multiplication 3 * 3\n",
      "4 is even and I will perform addition 4 + 4\n",
      "5 is odd and I will perform multiplication 5 * 5\n"
     ]
    },
    {
     "data": {
      "text/plain": [
       "array([ 1.,  4.,  9.,  8., 25.])"
      ]
     },
     "execution_count": 7,
     "metadata": {},
     "output_type": "execute_result"
    }
   ],
   "source": [
    "values = np.arange(1,6)\n",
    "n = len(values)\n",
    "results = np.zeros(n)\n",
    "\n",
    "for i in range(n):\n",
    "    # x and r get overwritten in each iteration\n",
    "    x = values[i]\n",
    "    r = x % 2 # remainder of x divided by 2 to check if x is even or odd\n",
    "    if r==0: # remainder is 0\n",
    "        print(f\"{x} is even and I will perform addition {x} + {x}\")\n",
    "        results[i] = x + x\n",
    "    else: # remainder is not 0\n",
    "        print(f\"{x} is odd and I will perform multiplication {x} * {x}\")\n",
    "        results[i] = x * x\n",
    "\n",
    "results"
   ]
  },
  {
   "cell_type": "markdown",
   "metadata": {},
   "source": [
    "### Section 4.1.3: Poll Predictions {-}"
   ]
  },
  {
   "cell_type": "code",
   "execution_count": 8,
   "metadata": {},
   "outputs": [
    {
     "data": {
      "text/plain": [
       "datetime.timedelta(days=64)"
      ]
     },
     "execution_count": 8,
     "metadata": {},
     "output_type": "execute_result"
    }
   ],
   "source": [
    "# import the datetime module\n",
    "from datetime import datetime\n",
    "\n",
    "# load election results, by state\n",
    "pres08 = pd.read_csv('pres08.csv')\n",
    "\n",
    "# load polling data\n",
    "polls08 = pd.read_csv('polls08.csv')\n",
    "\n",
    "# compute Obama's margin\n",
    "polls08['margin'] = polls08['Obama'] - polls08['McCain']\n",
    "pres08['margin'] = pres08['Obama'] - pres08['McCain']\n",
    "\n",
    "x = datetime.strptime('2008-11-04', '%Y-%m-%d')\n",
    "y = datetime.strptime('2008/9/1', '%Y/%m/%d')\n",
    "\n",
    "# number of days between 9/1/2008 and 11/4/2008\n",
    "x-y # a timedelta object"
   ]
  },
  {
   "cell_type": "code",
   "execution_count": 9,
   "metadata": {},
   "outputs": [
    {
     "data": {
      "text/plain": [
       "64"
      ]
     },
     "execution_count": 9,
     "metadata": {},
     "output_type": "execute_result"
    }
   ],
   "source": [
    "# number of days as an integer\n",
    "(x-y).days "
   ]
  },
  {
   "cell_type": "code",
   "execution_count": 10,
   "metadata": {},
   "outputs": [
    {
     "data": {
      "text/plain": [
       "AL   NaN\n",
       "AK   NaN\n",
       "AZ   NaN\n",
       "AR   NaN\n",
       "CA   NaN\n",
       "dtype: float64"
      ]
     },
     "execution_count": 10,
     "metadata": {},
     "output_type": "execute_result"
    }
   ],
   "source": [
    "# convert middate to datetime object using pandas convenience function\n",
    "polls08['middate'] = pd.to_datetime(polls08['middate'])\n",
    "\n",
    "# compute the number of days to the election; use x defined above\n",
    "# extract days using the .dt accessor\n",
    "polls08['days_to_election'] = (x - polls08['middate']).dt.days\n",
    "\n",
    "# extract unique state names which the loop will iterate through\n",
    "st_names = polls08['state'].unique()\n",
    "\n",
    "# initialize a container vector for storing the results as a series\n",
    "poll_pred = pd.Series(index=st_names)\n",
    "\n",
    "poll_pred.head()"
   ]
  },
  {
   "cell_type": "code",
   "execution_count": 11,
   "metadata": {},
   "outputs": [
    {
     "data": {
      "text/plain": [
       "AL   -25.0\n",
       "AK   -19.0\n",
       "AZ    -2.5\n",
       "AR    -7.0\n",
       "CA    24.0\n",
       "CO     7.0\n",
       "CT    25.0\n",
       "DC    69.0\n",
       "DE    30.0\n",
       "FL     2.0\n",
       "dtype: float64"
      ]
     },
     "execution_count": 11,
     "metadata": {},
     "output_type": "execute_result"
    }
   ],
   "source": [
    "# loop across the 50 states plus DC\n",
    "for i in range(len(st_names)):\n",
    "    # subset the ith state\n",
    "    state_data = polls08[polls08['state']==st_names[i]]\n",
    "    # further subset the latest polls within the state\n",
    "    latest = (state_data[state_data['days_to_election']==\n",
    "                         state_data['days_to_election'].min()])\n",
    "    # compute the mean of the latest polls and store it\n",
    "    poll_pred[i] = latest['margin'].mean()\n",
    "\n",
    "poll_pred.head(10)"
   ]
  },
  {
   "cell_type": "markdown",
   "metadata": {},
   "source": [
    "Because we stored the state identifier as the index, we could use states as the loop counter. In complex numeric indexing cases, looping through names can be a good alternative. "
   ]
  },
  {
   "cell_type": "code",
   "execution_count": 12,
   "metadata": {},
   "outputs": [
    {
     "data": {
      "text/plain": [
       "True"
      ]
     },
     "execution_count": 12,
     "metadata": {},
     "output_type": "execute_result"
    }
   ],
   "source": [
    "poll_pred_alt = pd.Series(index=st_names)\n",
    "\n",
    "# loop across the 50 states plus DC\n",
    "for state in st_names:\n",
    "    # subset the polls data for the current state\n",
    "    state_data = polls08[polls08['state']==state]\n",
    "    # subset the latest poll for the current state\n",
    "    latest = (state_data[state_data['days_to_election']==\n",
    "                         state_data['days_to_election'].min()])\n",
    "    # compute the mean of the latest poll and store it in the results vector\n",
    "    poll_pred_alt[state] = latest['margin'].mean()\n",
    "\n",
    "# check that results are the same\n",
    "poll_pred.equals(poll_pred_alt)"
   ]
  },
  {
   "cell_type": "markdown",
   "metadata": {},
   "source": [
    "Recall from chapter 3 that if we want to perform element-wise arithmetic on two equal length vectors whose elements are sorted correctly, the indexes should be identical. Since the `poll_pred` index is state abbreviations, we can reset the `pres08` index to state abbreviations and then extract the margin column without modifying the data frame in place. Of course, we could also add `poll_pred` to the data frame, which we will illustrate later. "
   ]
  },
  {
   "cell_type": "code",
   "execution_count": 13,
   "metadata": {},
   "outputs": [
    {
     "data": {
      "text/plain": [
       "state\n",
       "AL     4.0\n",
       "AK    -2.0\n",
       "AZ    -6.5\n",
       "AR   -13.0\n",
       "CA     0.0\n",
       "dtype: float64"
      ]
     },
     "execution_count": 13,
     "metadata": {},
     "output_type": "execute_result"
    }
   ],
   "source": [
    "# errors of latest polls\n",
    "errors = pres08.set_index('state')['margin'] - poll_pred\n",
    "\n",
    "errors.head()"
   ]
  },
  {
   "cell_type": "code",
   "execution_count": 14,
   "metadata": {},
   "outputs": [
    {
     "data": {
      "text/plain": [
       "1.0620915032679739"
      ]
     },
     "execution_count": 14,
     "metadata": {},
     "output_type": "execute_result"
    }
   ],
   "source": [
    "# mean prediction error\n",
    "errors.mean()"
   ]
  },
  {
   "cell_type": "code",
   "execution_count": 15,
   "metadata": {},
   "outputs": [
    {
     "data": {
      "text/plain": [
       "5.908940458495747"
      ]
     },
     "execution_count": 15,
     "metadata": {},
     "output_type": "execute_result"
    }
   ],
   "source": [
    "# root mean squared prediction error\n",
    "np.sqrt((errors**2).mean())"
   ]
  },
  {
   "cell_type": "code",
   "execution_count": 16,
   "metadata": {},
   "outputs": [
    {
     "data": {
      "text/plain": [
       "Text(-8.5, 0.075, 'average error')"
      ]
     },
     "execution_count": 16,
     "metadata": {},
     "output_type": "execute_result"
    },
    {
     "data": {
      "image/png": "[encoded data removed]",
      "text/plain": [
       "<Figure size 600x400 with 1 Axes>"
      ]
     },
     "metadata": {},
     "output_type": "display_data"
    }
   ],
   "source": [
    "# histogram of errors\n",
    "sns.set_theme(style=\"whitegrid\")\n",
    "\n",
    "sns.displot(\n",
    "    x=errors, stat='density', binrange=(-20, 20), binwidth=5, \n",
    "    height=4, aspect=1.5, \n",
    ").set(xlabel='Error in predicted margin for Obama (percentage points)', \n",
    "      title='Poll prediction error',\n",
    "      ylim=(0, 0.08)).despine(right=False, top=False)\n",
    "\n",
    "# add a vertical line representing the mean\n",
    "plt.axvline(x=errors.mean(), color='red', linestyle='--')\n",
    "\n",
    "# add a text label for the median\n",
    "plt.text(x=-8.5, y=0.075, s='average error', color='red')"
   ]
  },
  {
   "cell_type": "code",
   "execution_count": 17,
   "metadata": {},
   "outputs": [
    {
     "data": {
      "text/plain": [
       "<matplotlib.lines.Line2D at 0x1ea956cd270>"
      ]
     },
     "execution_count": 17,
     "metadata": {},
     "output_type": "execute_result"
    },
    {
     "data": {
      "image/png": "[encoded data removed]",
      "text/plain": [
       "<Figure size 600x400 with 1 Axes>"
      ]
     },
     "metadata": {},
     "output_type": "display_data"
    }
   ],
   "source": [
    "# add poll_pred to pres08 for easier plotting and analysis \n",
    "# reset the index to match the index of pres08 and drop the old index\n",
    "pres08['poll_pred'] = poll_pred.reset_index(drop=True)\n",
    "\n",
    "# marker='' generates an \"empty\" plot\n",
    "sns.relplot(\n",
    "    data=pres08, x='poll_pred', y='margin', marker='',\n",
    "    height=4, aspect=1.5,\n",
    ").set(xlabel='Poll results', ylabel='Actual election results',\n",
    "      ylim=(-40, 90), xlim=(-40, 90))\n",
    "\n",
    "# add state abbreviations\n",
    "for i in range(len(pres08['state'])):\n",
    "    plt.text(x=pres08['poll_pred'][i], y=pres08['margin'][i], \n",
    "             s=pres08['state'][i], color='blue')\n",
    "    \n",
    "# add 45 degree line\n",
    "plt.gca().axline((0, 0), slope=1, color='red', linestyle='--')\n",
    "\n",
    "# add vertical and horizontal lines at 0\n",
    "plt.axvline(x=0, color='black', linewidth=0.5)\n",
    "plt.axhline(y=0, color='black', linewidth=0.5)"
   ]
  },
  {
   "cell_type": "code",
   "execution_count": 18,
   "metadata": {},
   "outputs": [
    {
     "data": {
      "text/plain": [
       "14    IN\n",
       "25    MO\n",
       "33    NC\n",
       "Name: state, dtype: object"
      ]
     },
     "execution_count": 18,
     "metadata": {},
     "output_type": "execute_result"
    }
   ],
   "source": [
    "# which state polls called the election wrong?\n",
    "pres08['state'][np.sign(pres08['poll_pred']) != np.sign(pres08['margin'])]"
   ]
  },
  {
   "cell_type": "code",
   "execution_count": 19,
   "metadata": {},
   "outputs": [
    {
     "data": {
      "text/plain": [
       "14    1\n",
       "25   -1\n",
       "33    1\n",
       "Name: margin, dtype: int64"
      ]
     },
     "execution_count": 19,
     "metadata": {},
     "output_type": "execute_result"
    }
   ],
   "source": [
    "# what was the actual margin for these states?\n",
    "pres08['margin'][np.sign(pres08['poll_pred']) != np.sign(pres08['margin'])]"
   ]
  },
  {
   "cell_type": "code",
   "execution_count": 20,
   "metadata": {},
   "outputs": [
    {
     "data": {
      "text/plain": [
       "364"
      ]
     },
     "execution_count": 20,
     "metadata": {},
     "output_type": "execute_result"
    }
   ],
   "source": [
    "# actual results: total number of electoral votes won by Obama\n",
    "pres08['EV'][pres08['margin']>0].sum()"
   ]
  },
  {
   "cell_type": "code",
   "execution_count": 21,
   "metadata": {},
   "outputs": [
    {
     "data": {
      "text/plain": [
       "349"
      ]
     },
     "execution_count": 21,
     "metadata": {},
     "output_type": "execute_result"
    }
   ],
   "source": [
    "# poll prediction\n",
    "pres08['EV'][pres08['poll_pred']>0].sum()"
   ]
  },
  {
   "cell_type": "code",
   "execution_count": 22,
   "metadata": {},
   "outputs": [],
   "source": [
    "# load the data\n",
    "pollsUS08 = pd.read_csv('pollsUS08.csv')\n",
    "\n",
    "# compute number of days to the election as before \n",
    "pollsUS08['middate'] = pd.to_datetime(pollsUS08['middate'])\n",
    "\n",
    "pollsUS08['days_to_election'] = (x - pollsUS08['middate']).dt.days\n",
    "\n",
    "# empty numpy vectors to store predictions for Obama and McCain\n",
    "Obama_pred = np.zeros(90)\n",
    "McCain_pred = np.zeros(90)"
   ]
  },
  {
   "cell_type": "markdown",
   "metadata": {},
   "source": [
    "With zero-based indexing, the days sequence 1-90 does not match the vector index 0-89. We need to account for this somewhere. One option, among many, is to add 1 to the loop counter when working with the days sequence."
   ]
  },
  {
   "cell_type": "code",
   "execution_count": 23,
   "metadata": {},
   "outputs": [
    {
     "data": {
      "text/html": [
       "<div>\n",
       "<style scoped>\n",
       "    .dataframe tbody tr th:only-of-type {\n",
       "        vertical-align: middle;\n",
       "    }\n",
       "\n",
       "    .dataframe tbody tr th {\n",
       "        vertical-align: top;\n",
       "    }\n",
       "\n",
       "    .dataframe thead th {\n",
       "        text-align: right;\n",
       "    }\n",
       "</style>\n",
       "<table border=\"1\" class=\"dataframe\">\n",
       "  <thead>\n",
       "    <tr style=\"text-align: right;\">\n",
       "      <th></th>\n",
       "      <th>Obama</th>\n",
       "      <th>McCain</th>\n",
       "      <th>days_to_election</th>\n",
       "    </tr>\n",
       "  </thead>\n",
       "  <tbody>\n",
       "    <tr>\n",
       "      <th>0</th>\n",
       "      <td>44.538462</td>\n",
       "      <td>40.692308</td>\n",
       "      <td>90</td>\n",
       "    </tr>\n",
       "    <tr>\n",
       "      <th>1</th>\n",
       "      <td>45.000000</td>\n",
       "      <td>40.692308</td>\n",
       "      <td>89</td>\n",
       "    </tr>\n",
       "    <tr>\n",
       "      <th>2</th>\n",
       "      <td>45.230769</td>\n",
       "      <td>40.846154</td>\n",
       "      <td>88</td>\n",
       "    </tr>\n",
       "    <tr>\n",
       "      <th>3</th>\n",
       "      <td>45.750000</td>\n",
       "      <td>42.000000</td>\n",
       "      <td>87</td>\n",
       "    </tr>\n",
       "    <tr>\n",
       "      <th>4</th>\n",
       "      <td>45.888889</td>\n",
       "      <td>42.000000</td>\n",
       "      <td>86</td>\n",
       "    </tr>\n",
       "  </tbody>\n",
       "</table>\n",
       "</div>"
      ],
      "text/plain": [
       "       Obama     McCain  days_to_election\n",
       "0  44.538462  40.692308                90\n",
       "1  45.000000  40.692308                89\n",
       "2  45.230769  40.846154                88\n",
       "3  45.750000  42.000000                87\n",
       "4  45.888889  42.000000                86"
      ]
     },
     "execution_count": 23,
     "metadata": {},
     "output_type": "execute_result"
    }
   ],
   "source": [
    "for i in range(len(Obama_pred)):\n",
    "    # take all polls conducted within the past 7 days\n",
    "    week_data = (pollsUS08[(pollsUS08['days_to_election'] <= (90 - (i + 1) + 7)) \n",
    "                           & (pollsUS08['days_to_election'] > (90 - (i + 1)))]) \n",
    "    # compute the mean of the polls for Obama and McCain\n",
    "    Obama_pred[i] = week_data['Obama'].mean()\n",
    "    McCain_pred[i] = week_data['McCain'].mean()\n",
    "\n",
    "# put together a data frame for plotting\n",
    "pollsUS08_avg = pd.DataFrame({'Obama': Obama_pred, \n",
    "                              'McCain': McCain_pred,\n",
    "                              'days_to_election': np.arange(90, 0, -1)})\n",
    "\n",
    "pollsUS08_avg.head()"
   ]
  },
  {
   "cell_type": "markdown",
   "metadata": {},
   "source": [
    "Recall from chapter 3 that plotting groups in seaborn works best when the grouping variable is stored in its own column. In this case, the grouping variable is the candidate. To pivot the candidates into a single column, we need to reshape the data into a longer format, which can be accomplished with the `melt()` method in pandas. "
   ]
  },
  {
   "cell_type": "code",
   "execution_count": 24,
   "metadata": {},
   "outputs": [
    {
     "data": {
      "text/html": [
       "<div>\n",
       "<style scoped>\n",
       "    .dataframe tbody tr th:only-of-type {\n",
       "        vertical-align: middle;\n",
       "    }\n",
       "\n",
       "    .dataframe tbody tr th {\n",
       "        vertical-align: top;\n",
       "    }\n",
       "\n",
       "    .dataframe thead th {\n",
       "        text-align: right;\n",
       "    }\n",
       "</style>\n",
       "<table border=\"1\" class=\"dataframe\">\n",
       "  <thead>\n",
       "    <tr style=\"text-align: right;\">\n",
       "      <th></th>\n",
       "      <th>days_to_election</th>\n",
       "      <th>Candidate</th>\n",
       "      <th>poll_avg</th>\n",
       "    </tr>\n",
       "  </thead>\n",
       "  <tbody>\n",
       "    <tr>\n",
       "      <th>0</th>\n",
       "      <td>90</td>\n",
       "      <td>Obama</td>\n",
       "      <td>44.538462</td>\n",
       "    </tr>\n",
       "    <tr>\n",
       "      <th>1</th>\n",
       "      <td>89</td>\n",
       "      <td>Obama</td>\n",
       "      <td>45.000000</td>\n",
       "    </tr>\n",
       "    <tr>\n",
       "      <th>2</th>\n",
       "      <td>88</td>\n",
       "      <td>Obama</td>\n",
       "      <td>45.230769</td>\n",
       "    </tr>\n",
       "    <tr>\n",
       "      <th>3</th>\n",
       "      <td>87</td>\n",
       "      <td>Obama</td>\n",
       "      <td>45.750000</td>\n",
       "    </tr>\n",
       "    <tr>\n",
       "      <th>4</th>\n",
       "      <td>86</td>\n",
       "      <td>Obama</td>\n",
       "      <td>45.888889</td>\n",
       "    </tr>\n",
       "  </tbody>\n",
       "</table>\n",
       "</div>"
      ],
      "text/plain": [
       "   days_to_election Candidate   poll_avg\n",
       "0                90     Obama  44.538462\n",
       "1                89     Obama  45.000000\n",
       "2                88     Obama  45.230769\n",
       "3                87     Obama  45.750000\n",
       "4                86     Obama  45.888889"
      ]
     },
     "execution_count": 24,
     "metadata": {},
     "output_type": "execute_result"
    }
   ],
   "source": [
    "# reshape the data: pivot longer using melt\n",
    "pollsUS08_avg_long = pollsUS08_avg.melt(id_vars='days_to_election', \n",
    "                                        var_name='Candidate', \n",
    "                                        value_name='poll_avg')\n",
    "\n",
    "pollsUS08_avg_long.head()"
   ]
  },
  {
   "cell_type": "code",
   "execution_count": 25,
   "metadata": {},
   "outputs": [
    {
     "data": {
      "text/html": [
       "<div>\n",
       "<style scoped>\n",
       "    .dataframe tbody tr th:only-of-type {\n",
       "        vertical-align: middle;\n",
       "    }\n",
       "\n",
       "    .dataframe tbody tr th {\n",
       "        vertical-align: top;\n",
       "    }\n",
       "\n",
       "    .dataframe thead th {\n",
       "        text-align: right;\n",
       "    }\n",
       "</style>\n",
       "<table border=\"1\" class=\"dataframe\">\n",
       "  <thead>\n",
       "    <tr style=\"text-align: right;\">\n",
       "      <th></th>\n",
       "      <th>days_to_election</th>\n",
       "      <th>Candidate</th>\n",
       "      <th>poll_avg</th>\n",
       "    </tr>\n",
       "  </thead>\n",
       "  <tbody>\n",
       "    <tr>\n",
       "      <th>175</th>\n",
       "      <td>5</td>\n",
       "      <td>McCain</td>\n",
       "      <td>43.384615</td>\n",
       "    </tr>\n",
       "    <tr>\n",
       "      <th>176</th>\n",
       "      <td>4</td>\n",
       "      <td>McCain</td>\n",
       "      <td>43.708333</td>\n",
       "    </tr>\n",
       "    <tr>\n",
       "      <th>177</th>\n",
       "      <td>3</td>\n",
       "      <td>McCain</td>\n",
       "      <td>44.000000</td>\n",
       "    </tr>\n",
       "    <tr>\n",
       "      <th>178</th>\n",
       "      <td>2</td>\n",
       "      <td>McCain</td>\n",
       "      <td>44.185185</td>\n",
       "    </tr>\n",
       "    <tr>\n",
       "      <th>179</th>\n",
       "      <td>1</td>\n",
       "      <td>McCain</td>\n",
       "      <td>44.160000</td>\n",
       "    </tr>\n",
       "  </tbody>\n",
       "</table>\n",
       "</div>"
      ],
      "text/plain": [
       "     days_to_election Candidate   poll_avg\n",
       "175                 5    McCain  43.384615\n",
       "176                 4    McCain  43.708333\n",
       "177                 3    McCain  44.000000\n",
       "178                 2    McCain  44.185185\n",
       "179                 1    McCain  44.160000"
      ]
     },
     "execution_count": 25,
     "metadata": {},
     "output_type": "execute_result"
    }
   ],
   "source": [
    "pollsUS08_avg_long.tail()"
   ]
  },
  {
   "cell_type": "code",
   "execution_count": 26,
   "metadata": {},
   "outputs": [
    {
     "data": {
      "text/plain": [
       "<matplotlib.collections.PathCollection at 0x1ea94cc2b30>"
      ]
     },
     "execution_count": 26,
     "metadata": {},
     "output_type": "execute_result"
    },
    {
     "data": {
      "image/png": "[encoded data removed]",
      "text/plain": [
       "<Figure size 706.625x400 with 1 Axes>"
      ]
     },
     "metadata": {},
     "output_type": "display_data"
    }
   ],
   "source": [
    "sns.set_theme(style=\"ticks\")\n",
    "\n",
    "# plot going from 90 days to 1 day before the election\n",
    "sns.relplot(\n",
    "    data=pollsUS08_avg_long, x='days_to_election', y='poll_avg', \n",
    "    hue='Candidate', kind='line', \n",
    "    palette=['b', 'r'], height=4, aspect=1.5\n",
    ").set(ylim=(40, 60), yticks=range(40, 61, 5), \n",
    "      xlim=(90, -1.5), # small buffer in right limit for aesthetics\n",
    "      xlabel='Days to the election', \n",
    "      ylabel='Support for candidate (percentage points)')\n",
    "\n",
    "# line indicating election day\n",
    "plt.axvline(x=0, color='black', linestyle='--', linewidth=0.5)\n",
    "\n",
    "# actual election results \n",
    "plt.scatter(0, 52.93, color='blue', s=100)\n",
    "plt.scatter(0, 45.65, color='red', s=100)"
   ]
  },
  {
   "cell_type": "markdown",
   "metadata": {},
   "source": [
    "## Section 4.2: Linear Regression {-}\n",
    "\n",
    "### Section 4.2.1: Facial Appearance and Election Outcomes {-}"
   ]
  },
  {
   "cell_type": "code",
   "execution_count": 27,
   "metadata": {},
   "outputs": [
    {
     "data": {
      "text/plain": [
       "<seaborn.axisgrid.FacetGrid at 0x1ea95717fa0>"
      ]
     },
     "execution_count": 27,
     "metadata": {},
     "output_type": "execute_result"
    },
    {
     "data": {
      "image/png": "[encoded data removed]",
      "text/plain": [
       "<Figure size 600x400 with 1 Axes>"
      ]
     },
     "metadata": {},
     "output_type": "display_data"
    }
   ],
   "source": [
    "# load the data\n",
    "face = pd.read_csv('face.csv')\n",
    "\n",
    "# two-party vote share for Democrats and Republicans\n",
    "face['d_share'] = face['d.votes'] / (face['d.votes'] + face['r.votes'])\n",
    "face['r_share'] = face['r.votes'] / (face['d.votes'] + face['r.votes'])\n",
    "face['diff_share'] = face['d_share'] - face['r_share']\n",
    "\n",
    "sns.relplot(\n",
    "    data=face, x='d.comp', y='diff_share', \n",
    "    hue='w.party', palette=['b','r'], legend=False, height=4, aspect=1.5\n",
    ").set(xlim=(0, 1), ylim=(-1, 1), yticks=np.arange(-1.0, 1.5, 0.5),\n",
    "      title='Facial competence and vote share',\n",
    "      xlabel='Competence scores for Democrats',\n",
    "      ylabel='Democratic margin in vote share')"
   ]
  },
  {
   "cell_type": "markdown",
   "metadata": {},
   "source": [
    "### Section 4.2.2: Correlation and Scatter Plots {-}"
   ]
  },
  {
   "cell_type": "code",
   "execution_count": 28,
   "metadata": {},
   "outputs": [
    {
     "data": {
      "text/plain": [
       "0.43277434572761064"
      ]
     },
     "execution_count": 28,
     "metadata": {},
     "output_type": "execute_result"
    }
   ],
   "source": [
    "face['d.comp'].corr(face['diff_share'])"
   ]
  },
  {
   "cell_type": "markdown",
   "metadata": {},
   "source": [
    "### Section 4.2.3: Least Squares {-}"
   ]
  },
  {
   "cell_type": "code",
   "execution_count": 29,
   "metadata": {},
   "outputs": [],
   "source": [
    "# import the statsmodels formula API\n",
    "import statsmodels.formula.api as smf"
   ]
  },
  {
   "cell_type": "markdown",
   "metadata": {},
   "source": [
    "`statsmodels` works best when column names do not contain spaces or special characters, such as dots. The chapter appendix provides a more in-depth discussion about why this is the case and how to use the module if you want to retain special characters or spaces in variable names. For now, though, we will replace the dots in the column names with underscores to prevent any errors. "
   ]
  },
  {
   "cell_type": "code",
   "execution_count": 30,
   "metadata": {},
   "outputs": [
    {
     "data": {
      "text/plain": [
       "Index(['year', 'state', 'winner', 'loser', 'w_party', 'l_party', 'd_comp',\n",
       "       'r_comp', 'd_votes', 'r_votes', 'd_share', 'r_share', 'diff_share'],\n",
       "      dtype='object')"
      ]
     },
     "execution_count": 30,
     "metadata": {},
     "output_type": "execute_result"
    }
   ],
   "source": [
    "# replace dots in column names with underscores\n",
    "face.columns = face.columns.str.replace('.', '_')\n",
    "\n",
    "face.columns"
   ]
  },
  {
   "cell_type": "code",
   "execution_count": 31,
   "metadata": {},
   "outputs": [
    {
     "data": {
      "text/plain": [
       "'diff_share ~ d_comp'"
      ]
     },
     "execution_count": 31,
     "metadata": {},
     "output_type": "execute_result"
    }
   ],
   "source": [
    "# fit the model; the statsmodels formula API uses R-style formulas\n",
    "fit = smf.ols('diff_share ~ d_comp', data=face).fit()\n",
    "\n",
    "fit.model.formula"
   ]
  },
  {
   "cell_type": "code",
   "execution_count": 32,
   "metadata": {},
   "outputs": [
    {
     "data": {
      "text/plain": [
       "Intercept   -0.312226\n",
       "d_comp       0.660381\n",
       "dtype: float64"
      ]
     },
     "execution_count": 32,
     "metadata": {},
     "output_type": "execute_result"
    }
   ],
   "source": [
    "# get the estimated coefficients\n",
    "fit.params"
   ]
  },
  {
   "cell_type": "code",
   "execution_count": 33,
   "metadata": {},
   "outputs": [
    {
     "data": {
      "text/plain": [
       "0    0.060604\n",
       "1   -0.086433\n",
       "2    0.092171\n",
       "3    0.045392\n",
       "4    0.136987\n",
       "5   -0.100572\n",
       "6   -0.045593\n",
       "7    0.085994\n",
       "8    0.043438\n",
       "9    0.261788\n",
       "dtype: float64"
      ]
     },
     "execution_count": 33,
     "metadata": {},
     "output_type": "execute_result"
    }
   ],
   "source": [
    "# get fitted or predicted values\n",
    "fit.fittedvalues.head(n=10)"
   ]
  },
  {
   "cell_type": "code",
   "execution_count": 34,
   "metadata": {},
   "outputs": [
    {
     "data": {
      "text/plain": [
       "<matplotlib.lines.Line2D at 0x1ea957ebc70>"
      ]
     },
     "execution_count": 34,
     "metadata": {},
     "output_type": "execute_result"
    },
    {
     "data": {
      "image/png": "[encoded data removed]",
      "text/plain": [
       "<Figure size 600x400 with 1 Axes>"
      ]
     },
     "metadata": {},
     "output_type": "display_data"
    }
   ],
   "source": [
    "# store the intercept and slope for plotting a regression line\n",
    "intercept, slope = fit.params\n",
    "\n",
    "# create a vector for the x-axis limits\n",
    "x_values = np.array([0,1])\n",
    "\n",
    "# using the slope and intercept, predict y values for the x axis limits\n",
    "y_values = intercept + slope * x_values\n",
    "\n",
    "sns.set_theme(style=\"whitegrid\")\n",
    "\n",
    "# plot a scatterplot and overlay a regression line\n",
    "sns.relplot(\n",
    "    data=face, x='d_comp', y='diff_share', height=4, aspect=1.5\n",
    ").set(ylim=(-1, 1), yticks=np.arange(-1.0, 1.5, 0.5),\n",
    "      xlim=(-0.02, 1), # small buffer in left limit for aesthetics\n",
    "      title='Facial competence and vote share',\n",
    "      xlabel='Competence scores for Democrats',\n",
    "      ylabel='Democratic margin in vote share').despine(right=False, top=False)\n",
    "\n",
    "plt.plot(x_values, y_values) # regression line\n",
    "\n",
    "plt.axvline(x=0, color='black', linewidth=0.5, linestyle='--')"
   ]
  },
  {
   "cell_type": "markdown",
   "metadata": {},
   "source": [
    "*Note that seaborn has a built-in function for plotting regression lines, which we will use later, but it is not as easy to show the regression line's intercept.*"
   ]
  },
  {
   "cell_type": "code",
   "execution_count": 35,
   "metadata": {},
   "outputs": [
    {
     "data": {
      "text/plain": [
       "0.2642360764039512"
      ]
     },
     "execution_count": 35,
     "metadata": {},
     "output_type": "execute_result"
    }
   ],
   "source": [
    "epsilon_hat = fit.resid # residuals\n",
    "np.sqrt((epsilon_hat**2).mean()) # RMSE"
   ]
  },
  {
   "cell_type": "markdown",
   "metadata": {},
   "source": [
    "### Section 4.2.4: Regression Towards the Mean {-}\n",
    "\n",
    "### Section 4.2.5: Merging Datasets in Pandas {-}"
   ]
  },
  {
   "cell_type": "code",
   "execution_count": 36,
   "metadata": {},
   "outputs": [
    {
     "data": {
      "text/html": [
       "<div>\n",
       "<style scoped>\n",
       "    .dataframe tbody tr th:only-of-type {\n",
       "        vertical-align: middle;\n",
       "    }\n",
       "\n",
       "    .dataframe tbody tr th {\n",
       "        vertical-align: top;\n",
       "    }\n",
       "\n",
       "    .dataframe thead th {\n",
       "        text-align: right;\n",
       "    }\n",
       "</style>\n",
       "<table border=\"1\" class=\"dataframe\">\n",
       "  <thead>\n",
       "    <tr style=\"text-align: right;\">\n",
       "      <th></th>\n",
       "      <th>state.name</th>\n",
       "      <th>state</th>\n",
       "      <th>Obama</th>\n",
       "      <th>McCain</th>\n",
       "      <th>EV</th>\n",
       "      <th>margin</th>\n",
       "    </tr>\n",
       "  </thead>\n",
       "  <tbody>\n",
       "    <tr>\n",
       "      <th>0</th>\n",
       "      <td>Alabama</td>\n",
       "      <td>AL</td>\n",
       "      <td>39</td>\n",
       "      <td>60</td>\n",
       "      <td>9</td>\n",
       "      <td>-21</td>\n",
       "    </tr>\n",
       "    <tr>\n",
       "      <th>1</th>\n",
       "      <td>Alaska</td>\n",
       "      <td>AK</td>\n",
       "      <td>38</td>\n",
       "      <td>59</td>\n",
       "      <td>3</td>\n",
       "      <td>-21</td>\n",
       "    </tr>\n",
       "    <tr>\n",
       "      <th>2</th>\n",
       "      <td>Arizona</td>\n",
       "      <td>AZ</td>\n",
       "      <td>45</td>\n",
       "      <td>54</td>\n",
       "      <td>10</td>\n",
       "      <td>-9</td>\n",
       "    </tr>\n",
       "    <tr>\n",
       "      <th>3</th>\n",
       "      <td>Arkansas</td>\n",
       "      <td>AR</td>\n",
       "      <td>39</td>\n",
       "      <td>59</td>\n",
       "      <td>6</td>\n",
       "      <td>-20</td>\n",
       "    </tr>\n",
       "    <tr>\n",
       "      <th>4</th>\n",
       "      <td>California</td>\n",
       "      <td>CA</td>\n",
       "      <td>61</td>\n",
       "      <td>37</td>\n",
       "      <td>55</td>\n",
       "      <td>24</td>\n",
       "    </tr>\n",
       "  </tbody>\n",
       "</table>\n",
       "</div>"
      ],
      "text/plain": [
       "   state.name state  Obama  McCain  EV  margin\n",
       "0     Alabama    AL     39      60   9     -21\n",
       "1      Alaska    AK     38      59   3     -21\n",
       "2     Arizona    AZ     45      54  10      -9\n",
       "3    Arkansas    AR     39      59   6     -20\n",
       "4  California    CA     61      37  55      24"
      ]
     },
     "execution_count": 36,
     "metadata": {},
     "output_type": "execute_result"
    }
   ],
   "source": [
    "# load the 2012 data\n",
    "pres12 = pd.read_csv('pres12.csv')\n",
    "\n",
    "# remove poll_pred from pres08\n",
    "pres08.drop('poll_pred', axis=1, inplace=True)\n",
    "\n",
    "# quick look at the two data sets\n",
    "pres08.head()"
   ]
  },
  {
   "cell_type": "code",
   "execution_count": 37,
   "metadata": {},
   "outputs": [
    {
     "data": {
      "text/html": [
       "<div>\n",
       "<style scoped>\n",
       "    .dataframe tbody tr th:only-of-type {\n",
       "        vertical-align: middle;\n",
       "    }\n",
       "\n",
       "    .dataframe tbody tr th {\n",
       "        vertical-align: top;\n",
       "    }\n",
       "\n",
       "    .dataframe thead th {\n",
       "        text-align: right;\n",
       "    }\n",
       "</style>\n",
       "<table border=\"1\" class=\"dataframe\">\n",
       "  <thead>\n",
       "    <tr style=\"text-align: right;\">\n",
       "      <th></th>\n",
       "      <th>state</th>\n",
       "      <th>Obama</th>\n",
       "      <th>Romney</th>\n",
       "      <th>EV</th>\n",
       "    </tr>\n",
       "  </thead>\n",
       "  <tbody>\n",
       "    <tr>\n",
       "      <th>0</th>\n",
       "      <td>AL</td>\n",
       "      <td>38</td>\n",
       "      <td>61</td>\n",
       "      <td>9</td>\n",
       "    </tr>\n",
       "    <tr>\n",
       "      <th>1</th>\n",
       "      <td>AK</td>\n",
       "      <td>41</td>\n",
       "      <td>55</td>\n",
       "      <td>3</td>\n",
       "    </tr>\n",
       "    <tr>\n",
       "      <th>2</th>\n",
       "      <td>AZ</td>\n",
       "      <td>45</td>\n",
       "      <td>54</td>\n",
       "      <td>11</td>\n",
       "    </tr>\n",
       "    <tr>\n",
       "      <th>3</th>\n",
       "      <td>AR</td>\n",
       "      <td>37</td>\n",
       "      <td>61</td>\n",
       "      <td>6</td>\n",
       "    </tr>\n",
       "    <tr>\n",
       "      <th>4</th>\n",
       "      <td>CA</td>\n",
       "      <td>60</td>\n",
       "      <td>37</td>\n",
       "      <td>55</td>\n",
       "    </tr>\n",
       "  </tbody>\n",
       "</table>\n",
       "</div>"
      ],
      "text/plain": [
       "  state  Obama  Romney  EV\n",
       "0    AL     38      61   9\n",
       "1    AK     41      55   3\n",
       "2    AZ     45      54  11\n",
       "3    AR     37      61   6\n",
       "4    CA     60      37  55"
      ]
     },
     "execution_count": 37,
     "metadata": {},
     "output_type": "execute_result"
    }
   ],
   "source": [
    "pres12.head()"
   ]
  },
  {
   "cell_type": "code",
   "execution_count": 38,
   "metadata": {},
   "outputs": [
    {
     "data": {
      "text/html": [
       "<div>\n",
       "<style scoped>\n",
       "    .dataframe tbody tr th:only-of-type {\n",
       "        vertical-align: middle;\n",
       "    }\n",
       "\n",
       "    .dataframe tbody tr th {\n",
       "        vertical-align: top;\n",
       "    }\n",
       "\n",
       "    .dataframe thead th {\n",
       "        text-align: right;\n",
       "    }\n",
       "</style>\n",
       "<table border=\"1\" class=\"dataframe\">\n",
       "  <thead>\n",
       "    <tr style=\"text-align: right;\">\n",
       "      <th></th>\n",
       "      <th>state.name</th>\n",
       "      <th>state</th>\n",
       "      <th>Obama_x</th>\n",
       "      <th>McCain</th>\n",
       "      <th>EV_x</th>\n",
       "      <th>margin</th>\n",
       "      <th>Obama_y</th>\n",
       "      <th>Romney</th>\n",
       "      <th>EV_y</th>\n",
       "    </tr>\n",
       "  </thead>\n",
       "  <tbody>\n",
       "    <tr>\n",
       "      <th>0</th>\n",
       "      <td>Alabama</td>\n",
       "      <td>AL</td>\n",
       "      <td>39</td>\n",
       "      <td>60</td>\n",
       "      <td>9</td>\n",
       "      <td>-21</td>\n",
       "      <td>38</td>\n",
       "      <td>61</td>\n",
       "      <td>9</td>\n",
       "    </tr>\n",
       "    <tr>\n",
       "      <th>1</th>\n",
       "      <td>Alaska</td>\n",
       "      <td>AK</td>\n",
       "      <td>38</td>\n",
       "      <td>59</td>\n",
       "      <td>3</td>\n",
       "      <td>-21</td>\n",
       "      <td>41</td>\n",
       "      <td>55</td>\n",
       "      <td>3</td>\n",
       "    </tr>\n",
       "    <tr>\n",
       "      <th>2</th>\n",
       "      <td>Arizona</td>\n",
       "      <td>AZ</td>\n",
       "      <td>45</td>\n",
       "      <td>54</td>\n",
       "      <td>10</td>\n",
       "      <td>-9</td>\n",
       "      <td>45</td>\n",
       "      <td>54</td>\n",
       "      <td>11</td>\n",
       "    </tr>\n",
       "    <tr>\n",
       "      <th>3</th>\n",
       "      <td>Arkansas</td>\n",
       "      <td>AR</td>\n",
       "      <td>39</td>\n",
       "      <td>59</td>\n",
       "      <td>6</td>\n",
       "      <td>-20</td>\n",
       "      <td>37</td>\n",
       "      <td>61</td>\n",
       "      <td>6</td>\n",
       "    </tr>\n",
       "    <tr>\n",
       "      <th>4</th>\n",
       "      <td>California</td>\n",
       "      <td>CA</td>\n",
       "      <td>61</td>\n",
       "      <td>37</td>\n",
       "      <td>55</td>\n",
       "      <td>24</td>\n",
       "      <td>60</td>\n",
       "      <td>37</td>\n",
       "      <td>55</td>\n",
       "    </tr>\n",
       "  </tbody>\n",
       "</table>\n",
       "</div>"
      ],
      "text/plain": [
       "   state.name state  Obama_x  McCain  EV_x  margin  Obama_y  Romney  EV_y\n",
       "0     Alabama    AL       39      60     9     -21       38      61     9\n",
       "1      Alaska    AK       38      59     3     -21       41      55     3\n",
       "2     Arizona    AZ       45      54    10      -9       45      54    11\n",
       "3    Arkansas    AR       39      59     6     -20       37      61     6\n",
       "4  California    CA       61      37    55      24       60      37    55"
      ]
     },
     "execution_count": 38,
     "metadata": {},
     "output_type": "execute_result"
    }
   ],
   "source": [
    "# merge two data frames\n",
    "pres = pd.merge(pres08, pres12, on='state')\n",
    "\n",
    "pres.head()"
   ]
  },
  {
   "cell_type": "code",
   "execution_count": 39,
   "metadata": {},
   "outputs": [
    {
     "data": {
      "text/html": [
       "<div>\n",
       "<style scoped>\n",
       "    .dataframe tbody tr th:only-of-type {\n",
       "        vertical-align: middle;\n",
       "    }\n",
       "\n",
       "    .dataframe tbody tr th {\n",
       "        vertical-align: top;\n",
       "    }\n",
       "\n",
       "    .dataframe thead th {\n",
       "        text-align: right;\n",
       "    }\n",
       "</style>\n",
       "<table border=\"1\" class=\"dataframe\">\n",
       "  <thead>\n",
       "    <tr style=\"text-align: right;\">\n",
       "      <th></th>\n",
       "      <th>Obama_x</th>\n",
       "      <th>McCain</th>\n",
       "      <th>EV_x</th>\n",
       "      <th>margin</th>\n",
       "      <th>Obama_y</th>\n",
       "      <th>Romney</th>\n",
       "      <th>EV_y</th>\n",
       "    </tr>\n",
       "  </thead>\n",
       "  <tbody>\n",
       "    <tr>\n",
       "      <th>count</th>\n",
       "      <td>51.00</td>\n",
       "      <td>51.00</td>\n",
       "      <td>51.00</td>\n",
       "      <td>51.00</td>\n",
       "      <td>51.00</td>\n",
       "      <td>51.00</td>\n",
       "      <td>51.00</td>\n",
       "    </tr>\n",
       "    <tr>\n",
       "      <th>mean</th>\n",
       "      <td>51.37</td>\n",
       "      <td>47.06</td>\n",
       "      <td>10.55</td>\n",
       "      <td>4.31</td>\n",
       "      <td>49.06</td>\n",
       "      <td>49.04</td>\n",
       "      <td>10.55</td>\n",
       "    </tr>\n",
       "    <tr>\n",
       "      <th>std</th>\n",
       "      <td>11.04</td>\n",
       "      <td>11.04</td>\n",
       "      <td>9.58</td>\n",
       "      <td>22.07</td>\n",
       "      <td>11.80</td>\n",
       "      <td>11.79</td>\n",
       "      <td>9.69</td>\n",
       "    </tr>\n",
       "    <tr>\n",
       "      <th>min</th>\n",
       "      <td>33.00</td>\n",
       "      <td>7.00</td>\n",
       "      <td>3.00</td>\n",
       "      <td>-32.00</td>\n",
       "      <td>25.00</td>\n",
       "      <td>7.00</td>\n",
       "      <td>3.00</td>\n",
       "    </tr>\n",
       "    <tr>\n",
       "      <th>25%</th>\n",
       "      <td>43.00</td>\n",
       "      <td>40.00</td>\n",
       "      <td>4.50</td>\n",
       "      <td>-13.00</td>\n",
       "      <td>40.50</td>\n",
       "      <td>41.00</td>\n",
       "      <td>4.50</td>\n",
       "    </tr>\n",
       "    <tr>\n",
       "      <th>50%</th>\n",
       "      <td>51.00</td>\n",
       "      <td>47.00</td>\n",
       "      <td>8.00</td>\n",
       "      <td>4.00</td>\n",
       "      <td>51.00</td>\n",
       "      <td>48.00</td>\n",
       "      <td>8.00</td>\n",
       "    </tr>\n",
       "    <tr>\n",
       "      <th>75%</th>\n",
       "      <td>57.50</td>\n",
       "      <td>56.00</td>\n",
       "      <td>11.50</td>\n",
       "      <td>17.50</td>\n",
       "      <td>56.00</td>\n",
       "      <td>58.00</td>\n",
       "      <td>11.50</td>\n",
       "    </tr>\n",
       "    <tr>\n",
       "      <th>max</th>\n",
       "      <td>92.00</td>\n",
       "      <td>66.00</td>\n",
       "      <td>55.00</td>\n",
       "      <td>85.00</td>\n",
       "      <td>91.00</td>\n",
       "      <td>73.00</td>\n",
       "      <td>55.00</td>\n",
       "    </tr>\n",
       "  </tbody>\n",
       "</table>\n",
       "</div>"
      ],
      "text/plain": [
       "       Obama_x  McCain   EV_x  margin  Obama_y  Romney   EV_y\n",
       "count    51.00   51.00  51.00   51.00    51.00   51.00  51.00\n",
       "mean     51.37   47.06  10.55    4.31    49.06   49.04  10.55\n",
       "std      11.04   11.04   9.58   22.07    11.80   11.79   9.69\n",
       "min      33.00    7.00   3.00  -32.00    25.00    7.00   3.00\n",
       "25%      43.00   40.00   4.50  -13.00    40.50   41.00   4.50\n",
       "50%      51.00   47.00   8.00    4.00    51.00   48.00   8.00\n",
       "75%      57.50   56.00  11.50   17.50    56.00   58.00  11.50\n",
       "max      92.00   66.00  55.00   85.00    91.00   73.00  55.00"
      ]
     },
     "execution_count": 39,
     "metadata": {},
     "output_type": "execute_result"
    }
   ],
   "source": [
    "pres.describe().round(2)"
   ]
  },
  {
   "cell_type": "code",
   "execution_count": 40,
   "metadata": {},
   "outputs": [
    {
     "data": {
      "text/html": [
       "<div>\n",
       "<style scoped>\n",
       "    .dataframe tbody tr th:only-of-type {\n",
       "        vertical-align: middle;\n",
       "    }\n",
       "\n",
       "    .dataframe tbody tr th {\n",
       "        vertical-align: top;\n",
       "    }\n",
       "\n",
       "    .dataframe thead th {\n",
       "        text-align: right;\n",
       "    }\n",
       "</style>\n",
       "<table border=\"1\" class=\"dataframe\">\n",
       "  <thead>\n",
       "    <tr style=\"text-align: right;\">\n",
       "      <th></th>\n",
       "      <th>state_abb</th>\n",
       "      <th>Obama</th>\n",
       "      <th>Romney</th>\n",
       "      <th>EV</th>\n",
       "    </tr>\n",
       "  </thead>\n",
       "  <tbody>\n",
       "    <tr>\n",
       "      <th>0</th>\n",
       "      <td>AL</td>\n",
       "      <td>38</td>\n",
       "      <td>61</td>\n",
       "      <td>9</td>\n",
       "    </tr>\n",
       "    <tr>\n",
       "      <th>1</th>\n",
       "      <td>AK</td>\n",
       "      <td>41</td>\n",
       "      <td>55</td>\n",
       "      <td>3</td>\n",
       "    </tr>\n",
       "    <tr>\n",
       "      <th>2</th>\n",
       "      <td>AZ</td>\n",
       "      <td>45</td>\n",
       "      <td>54</td>\n",
       "      <td>11</td>\n",
       "    </tr>\n",
       "    <tr>\n",
       "      <th>3</th>\n",
       "      <td>AR</td>\n",
       "      <td>37</td>\n",
       "      <td>61</td>\n",
       "      <td>6</td>\n",
       "    </tr>\n",
       "    <tr>\n",
       "      <th>4</th>\n",
       "      <td>CA</td>\n",
       "      <td>60</td>\n",
       "      <td>37</td>\n",
       "      <td>55</td>\n",
       "    </tr>\n",
       "  </tbody>\n",
       "</table>\n",
       "</div>"
      ],
      "text/plain": [
       "  state_abb  Obama  Romney  EV\n",
       "0        AL     38      61   9\n",
       "1        AK     41      55   3\n",
       "2        AZ     45      54  11\n",
       "3        AR     37      61   6\n",
       "4        CA     60      37  55"
      ]
     },
     "execution_count": 40,
     "metadata": {},
     "output_type": "execute_result"
    }
   ],
   "source": [
    "# change the variable name for illustration\n",
    "pres12.rename(columns={'state': 'state_abb'}, inplace=True)\n",
    "\n",
    "pres12.head()"
   ]
  },
  {
   "cell_type": "code",
   "execution_count": 41,
   "metadata": {},
   "outputs": [
    {
     "data": {
      "text/html": [
       "<div>\n",
       "<style scoped>\n",
       "    .dataframe tbody tr th:only-of-type {\n",
       "        vertical-align: middle;\n",
       "    }\n",
       "\n",
       "    .dataframe tbody tr th {\n",
       "        vertical-align: top;\n",
       "    }\n",
       "\n",
       "    .dataframe thead th {\n",
       "        text-align: right;\n",
       "    }\n",
       "</style>\n",
       "<table border=\"1\" class=\"dataframe\">\n",
       "  <thead>\n",
       "    <tr style=\"text-align: right;\">\n",
       "      <th></th>\n",
       "      <th>state.name</th>\n",
       "      <th>state</th>\n",
       "      <th>Obama_x</th>\n",
       "      <th>McCain</th>\n",
       "      <th>EV_x</th>\n",
       "      <th>margin</th>\n",
       "      <th>Obama_y</th>\n",
       "      <th>Romney</th>\n",
       "      <th>EV_y</th>\n",
       "    </tr>\n",
       "  </thead>\n",
       "  <tbody>\n",
       "    <tr>\n",
       "      <th>0</th>\n",
       "      <td>Alabama</td>\n",
       "      <td>AL</td>\n",
       "      <td>39</td>\n",
       "      <td>60</td>\n",
       "      <td>9</td>\n",
       "      <td>-21</td>\n",
       "      <td>38</td>\n",
       "      <td>61</td>\n",
       "      <td>9</td>\n",
       "    </tr>\n",
       "    <tr>\n",
       "      <th>1</th>\n",
       "      <td>Alaska</td>\n",
       "      <td>AK</td>\n",
       "      <td>38</td>\n",
       "      <td>59</td>\n",
       "      <td>3</td>\n",
       "      <td>-21</td>\n",
       "      <td>41</td>\n",
       "      <td>55</td>\n",
       "      <td>3</td>\n",
       "    </tr>\n",
       "    <tr>\n",
       "      <th>2</th>\n",
       "      <td>Arizona</td>\n",
       "      <td>AZ</td>\n",
       "      <td>45</td>\n",
       "      <td>54</td>\n",
       "      <td>10</td>\n",
       "      <td>-9</td>\n",
       "      <td>45</td>\n",
       "      <td>54</td>\n",
       "      <td>11</td>\n",
       "    </tr>\n",
       "    <tr>\n",
       "      <th>3</th>\n",
       "      <td>Arkansas</td>\n",
       "      <td>AR</td>\n",
       "      <td>39</td>\n",
       "      <td>59</td>\n",
       "      <td>6</td>\n",
       "      <td>-20</td>\n",
       "      <td>37</td>\n",
       "      <td>61</td>\n",
       "      <td>6</td>\n",
       "    </tr>\n",
       "    <tr>\n",
       "      <th>4</th>\n",
       "      <td>California</td>\n",
       "      <td>CA</td>\n",
       "      <td>61</td>\n",
       "      <td>37</td>\n",
       "      <td>55</td>\n",
       "      <td>24</td>\n",
       "      <td>60</td>\n",
       "      <td>37</td>\n",
       "      <td>55</td>\n",
       "    </tr>\n",
       "  </tbody>\n",
       "</table>\n",
       "</div>"
      ],
      "text/plain": [
       "   state.name state  Obama_x  McCain  EV_x  margin  Obama_y  Romney  EV_y\n",
       "0     Alabama    AL       39      60     9     -21       38      61     9\n",
       "1      Alaska    AK       38      59     3     -21       41      55     3\n",
       "2     Arizona    AZ       45      54    10      -9       45      54    11\n",
       "3    Arkansas    AR       39      59     6     -20       37      61     6\n",
       "4  California    CA       61      37    55      24       60      37    55"
      ]
     },
     "execution_count": 41,
     "metadata": {},
     "output_type": "execute_result"
    }
   ],
   "source": [
    "# merging data sets using variable keys with different names\n",
    "pres = (pd.merge(pres08, pres12, left_on='state', right_on='state_abb').\n",
    "        drop('state_abb', axis=1))\n",
    "\n",
    "pres.head()"
   ]
  },
  {
   "cell_type": "code",
   "execution_count": 42,
   "metadata": {},
   "outputs": [
    {
     "data": {
      "text/html": [
       "<div>\n",
       "<style scoped>\n",
       "    .dataframe tbody tr th:only-of-type {\n",
       "        vertical-align: middle;\n",
       "    }\n",
       "\n",
       "    .dataframe tbody tr th {\n",
       "        vertical-align: top;\n",
       "    }\n",
       "\n",
       "    .dataframe thead th {\n",
       "        text-align: right;\n",
       "    }\n",
       "</style>\n",
       "<table border=\"1\" class=\"dataframe\">\n",
       "  <thead>\n",
       "    <tr style=\"text-align: right;\">\n",
       "      <th></th>\n",
       "      <th>Obama_x</th>\n",
       "      <th>McCain</th>\n",
       "      <th>EV_x</th>\n",
       "      <th>margin</th>\n",
       "      <th>Obama_y</th>\n",
       "      <th>Romney</th>\n",
       "      <th>EV_y</th>\n",
       "    </tr>\n",
       "  </thead>\n",
       "  <tbody>\n",
       "    <tr>\n",
       "      <th>count</th>\n",
       "      <td>51.00</td>\n",
       "      <td>51.00</td>\n",
       "      <td>51.00</td>\n",
       "      <td>51.00</td>\n",
       "      <td>51.00</td>\n",
       "      <td>51.00</td>\n",
       "      <td>51.00</td>\n",
       "    </tr>\n",
       "    <tr>\n",
       "      <th>mean</th>\n",
       "      <td>51.37</td>\n",
       "      <td>47.06</td>\n",
       "      <td>10.55</td>\n",
       "      <td>4.31</td>\n",
       "      <td>49.06</td>\n",
       "      <td>49.04</td>\n",
       "      <td>10.55</td>\n",
       "    </tr>\n",
       "    <tr>\n",
       "      <th>std</th>\n",
       "      <td>11.04</td>\n",
       "      <td>11.04</td>\n",
       "      <td>9.58</td>\n",
       "      <td>22.07</td>\n",
       "      <td>11.80</td>\n",
       "      <td>11.79</td>\n",
       "      <td>9.69</td>\n",
       "    </tr>\n",
       "    <tr>\n",
       "      <th>min</th>\n",
       "      <td>33.00</td>\n",
       "      <td>7.00</td>\n",
       "      <td>3.00</td>\n",
       "      <td>-32.00</td>\n",
       "      <td>25.00</td>\n",
       "      <td>7.00</td>\n",
       "      <td>3.00</td>\n",
       "    </tr>\n",
       "    <tr>\n",
       "      <th>25%</th>\n",
       "      <td>43.00</td>\n",
       "      <td>40.00</td>\n",
       "      <td>4.50</td>\n",
       "      <td>-13.00</td>\n",
       "      <td>40.50</td>\n",
       "      <td>41.00</td>\n",
       "      <td>4.50</td>\n",
       "    </tr>\n",
       "    <tr>\n",
       "      <th>50%</th>\n",
       "      <td>51.00</td>\n",
       "      <td>47.00</td>\n",
       "      <td>8.00</td>\n",
       "      <td>4.00</td>\n",
       "      <td>51.00</td>\n",
       "      <td>48.00</td>\n",
       "      <td>8.00</td>\n",
       "    </tr>\n",
       "    <tr>\n",
       "      <th>75%</th>\n",
       "      <td>57.50</td>\n",
       "      <td>56.00</td>\n",
       "      <td>11.50</td>\n",
       "      <td>17.50</td>\n",
       "      <td>56.00</td>\n",
       "      <td>58.00</td>\n",
       "      <td>11.50</td>\n",
       "    </tr>\n",
       "    <tr>\n",
       "      <th>max</th>\n",
       "      <td>92.00</td>\n",
       "      <td>66.00</td>\n",
       "      <td>55.00</td>\n",
       "      <td>85.00</td>\n",
       "      <td>91.00</td>\n",
       "      <td>73.00</td>\n",
       "      <td>55.00</td>\n",
       "    </tr>\n",
       "  </tbody>\n",
       "</table>\n",
       "</div>"
      ],
      "text/plain": [
       "       Obama_x  McCain   EV_x  margin  Obama_y  Romney   EV_y\n",
       "count    51.00   51.00  51.00   51.00    51.00   51.00  51.00\n",
       "mean     51.37   47.06  10.55    4.31    49.06   49.04  10.55\n",
       "std      11.04   11.04   9.58   22.07    11.80   11.79   9.69\n",
       "min      33.00    7.00   3.00  -32.00    25.00    7.00   3.00\n",
       "25%      43.00   40.00   4.50  -13.00    40.50   41.00   4.50\n",
       "50%      51.00   47.00   8.00    4.00    51.00   48.00   8.00\n",
       "75%      57.50   56.00  11.50   17.50    56.00   58.00  11.50\n",
       "max      92.00   66.00  55.00   85.00    91.00   73.00  55.00"
      ]
     },
     "execution_count": 42,
     "metadata": {},
     "output_type": "execute_result"
    }
   ],
   "source": [
    "pres.describe().round(2)"
   ]
  },
  {
   "cell_type": "code",
   "execution_count": 43,
   "metadata": {},
   "outputs": [
    {
     "data": {
      "text/html": [
       "<div>\n",
       "<style scoped>\n",
       "    .dataframe tbody tr th:only-of-type {\n",
       "        vertical-align: middle;\n",
       "    }\n",
       "\n",
       "    .dataframe tbody tr th {\n",
       "        vertical-align: top;\n",
       "    }\n",
       "\n",
       "    .dataframe thead th {\n",
       "        text-align: right;\n",
       "    }\n",
       "</style>\n",
       "<table border=\"1\" class=\"dataframe\">\n",
       "  <thead>\n",
       "    <tr style=\"text-align: right;\">\n",
       "      <th></th>\n",
       "      <th>state.name</th>\n",
       "      <th>state</th>\n",
       "      <th>Obama</th>\n",
       "      <th>McCain</th>\n",
       "      <th>EV</th>\n",
       "      <th>margin</th>\n",
       "      <th>state_abb</th>\n",
       "      <th>Obama</th>\n",
       "      <th>Romney</th>\n",
       "      <th>EV</th>\n",
       "    </tr>\n",
       "  </thead>\n",
       "  <tbody>\n",
       "    <tr>\n",
       "      <th>0</th>\n",
       "      <td>Alabama</td>\n",
       "      <td>AL</td>\n",
       "      <td>39</td>\n",
       "      <td>60</td>\n",
       "      <td>9</td>\n",
       "      <td>-21</td>\n",
       "      <td>AL</td>\n",
       "      <td>38</td>\n",
       "      <td>61</td>\n",
       "      <td>9</td>\n",
       "    </tr>\n",
       "    <tr>\n",
       "      <th>1</th>\n",
       "      <td>Alaska</td>\n",
       "      <td>AK</td>\n",
       "      <td>38</td>\n",
       "      <td>59</td>\n",
       "      <td>3</td>\n",
       "      <td>-21</td>\n",
       "      <td>AK</td>\n",
       "      <td>41</td>\n",
       "      <td>55</td>\n",
       "      <td>3</td>\n",
       "    </tr>\n",
       "    <tr>\n",
       "      <th>2</th>\n",
       "      <td>Arizona</td>\n",
       "      <td>AZ</td>\n",
       "      <td>45</td>\n",
       "      <td>54</td>\n",
       "      <td>10</td>\n",
       "      <td>-9</td>\n",
       "      <td>AZ</td>\n",
       "      <td>45</td>\n",
       "      <td>54</td>\n",
       "      <td>11</td>\n",
       "    </tr>\n",
       "    <tr>\n",
       "      <th>3</th>\n",
       "      <td>Arkansas</td>\n",
       "      <td>AR</td>\n",
       "      <td>39</td>\n",
       "      <td>59</td>\n",
       "      <td>6</td>\n",
       "      <td>-20</td>\n",
       "      <td>AR</td>\n",
       "      <td>37</td>\n",
       "      <td>61</td>\n",
       "      <td>6</td>\n",
       "    </tr>\n",
       "    <tr>\n",
       "      <th>4</th>\n",
       "      <td>California</td>\n",
       "      <td>CA</td>\n",
       "      <td>61</td>\n",
       "      <td>37</td>\n",
       "      <td>55</td>\n",
       "      <td>24</td>\n",
       "      <td>CA</td>\n",
       "      <td>60</td>\n",
       "      <td>37</td>\n",
       "      <td>55</td>\n",
       "    </tr>\n",
       "  </tbody>\n",
       "</table>\n",
       "</div>"
      ],
      "text/plain": [
       "   state.name state  Obama  McCain  EV  margin state_abb  Obama  Romney  EV\n",
       "0     Alabama    AL     39      60   9     -21        AL     38      61   9\n",
       "1      Alaska    AK     38      59   3     -21        AK     41      55   3\n",
       "2     Arizona    AZ     45      54  10      -9        AZ     45      54  11\n",
       "3    Arkansas    AR     39      59   6     -20        AR     37      61   6\n",
       "4  California    CA     61      37  55      24        CA     60      37  55"
      ]
     },
     "execution_count": 43,
     "metadata": {},
     "output_type": "execute_result"
    }
   ],
   "source": [
    "# concatenate two data frames\n",
    "pres1 = pd.concat([pres08, pres12], axis='columns')\n",
    "\n",
    "pres1.head()"
   ]
  },
  {
   "cell_type": "code",
   "execution_count": 44,
   "metadata": {},
   "outputs": [
    {
     "data": {
      "text/html": [
       "<div>\n",
       "<style scoped>\n",
       "    .dataframe tbody tr th:only-of-type {\n",
       "        vertical-align: middle;\n",
       "    }\n",
       "\n",
       "    .dataframe tbody tr th {\n",
       "        vertical-align: top;\n",
       "    }\n",
       "\n",
       "    .dataframe thead th {\n",
       "        text-align: right;\n",
       "    }\n",
       "</style>\n",
       "<table border=\"1\" class=\"dataframe\">\n",
       "  <thead>\n",
       "    <tr style=\"text-align: right;\">\n",
       "      <th></th>\n",
       "      <th>state.name</th>\n",
       "      <th>state</th>\n",
       "      <th>Obama</th>\n",
       "      <th>McCain</th>\n",
       "      <th>EV</th>\n",
       "      <th>margin</th>\n",
       "      <th>state_abb</th>\n",
       "      <th>Obama</th>\n",
       "      <th>Romney</th>\n",
       "      <th>EV</th>\n",
       "    </tr>\n",
       "  </thead>\n",
       "  <tbody>\n",
       "    <tr>\n",
       "      <th>7</th>\n",
       "      <td>D.C.</td>\n",
       "      <td>DC</td>\n",
       "      <td>92</td>\n",
       "      <td>7</td>\n",
       "      <td>3</td>\n",
       "      <td>85</td>\n",
       "      <td>DE</td>\n",
       "      <td>59</td>\n",
       "      <td>40</td>\n",
       "      <td>3</td>\n",
       "    </tr>\n",
       "    <tr>\n",
       "      <th>8</th>\n",
       "      <td>Delaware</td>\n",
       "      <td>DE</td>\n",
       "      <td>62</td>\n",
       "      <td>37</td>\n",
       "      <td>3</td>\n",
       "      <td>25</td>\n",
       "      <td>DC</td>\n",
       "      <td>91</td>\n",
       "      <td>7</td>\n",
       "      <td>3</td>\n",
       "    </tr>\n",
       "  </tbody>\n",
       "</table>\n",
       "</div>"
      ],
      "text/plain": [
       "  state.name state  Obama  McCain  EV  margin state_abb  Obama  Romney  EV\n",
       "7       D.C.    DC     92       7   3      85        DE     59      40   3\n",
       "8   Delaware    DE     62      37   3      25        DC     91       7   3"
      ]
     },
     "execution_count": 44,
     "metadata": {},
     "output_type": "execute_result"
    }
   ],
   "source": [
    "'''\n",
    "DC and DE are flipped in this alternative approach, and we have overlapping \n",
    "column names.  \n",
    "'''\n",
    "pres1.iloc[7:9]"
   ]
  },
  {
   "cell_type": "code",
   "execution_count": 45,
   "metadata": {},
   "outputs": [
    {
     "data": {
      "text/html": [
       "<div>\n",
       "<style scoped>\n",
       "    .dataframe tbody tr th:only-of-type {\n",
       "        vertical-align: middle;\n",
       "    }\n",
       "\n",
       "    .dataframe tbody tr th {\n",
       "        vertical-align: top;\n",
       "    }\n",
       "\n",
       "    .dataframe thead th {\n",
       "        text-align: right;\n",
       "    }\n",
       "</style>\n",
       "<table border=\"1\" class=\"dataframe\">\n",
       "  <thead>\n",
       "    <tr style=\"text-align: right;\">\n",
       "      <th></th>\n",
       "      <th>state.name</th>\n",
       "      <th>state</th>\n",
       "      <th>Obama_x</th>\n",
       "      <th>McCain</th>\n",
       "      <th>EV_x</th>\n",
       "      <th>margin</th>\n",
       "      <th>Obama_y</th>\n",
       "      <th>Romney</th>\n",
       "      <th>EV_y</th>\n",
       "    </tr>\n",
       "  </thead>\n",
       "  <tbody>\n",
       "    <tr>\n",
       "      <th>7</th>\n",
       "      <td>D.C.</td>\n",
       "      <td>DC</td>\n",
       "      <td>92</td>\n",
       "      <td>7</td>\n",
       "      <td>3</td>\n",
       "      <td>85</td>\n",
       "      <td>91</td>\n",
       "      <td>7</td>\n",
       "      <td>3</td>\n",
       "    </tr>\n",
       "    <tr>\n",
       "      <th>8</th>\n",
       "      <td>Delaware</td>\n",
       "      <td>DE</td>\n",
       "      <td>62</td>\n",
       "      <td>37</td>\n",
       "      <td>3</td>\n",
       "      <td>25</td>\n",
       "      <td>59</td>\n",
       "      <td>40</td>\n",
       "      <td>3</td>\n",
       "    </tr>\n",
       "  </tbody>\n",
       "</table>\n",
       "</div>"
      ],
      "text/plain": [
       "  state.name state  Obama_x  McCain  EV_x  margin  Obama_y  Romney  EV_y\n",
       "7       D.C.    DC       92       7     3      85       91       7     3\n",
       "8   Delaware    DE       62      37     3      25       59      40     3"
      ]
     },
     "execution_count": 45,
     "metadata": {},
     "output_type": "execute_result"
    }
   ],
   "source": [
    "# merge() does not have this problem\n",
    "pres.iloc[7:9]"
   ]
  },
  {
   "cell_type": "markdown",
   "metadata": {},
   "source": [
    "If we move the state identifier to the index, then `concat()` will align the indexes correctly. We still have overlapping column names, though. "
   ]
  },
  {
   "cell_type": "code",
   "execution_count": 46,
   "metadata": {},
   "outputs": [
    {
     "data": {
      "text/html": [
       "<div>\n",
       "<style scoped>\n",
       "    .dataframe tbody tr th:only-of-type {\n",
       "        vertical-align: middle;\n",
       "    }\n",
       "\n",
       "    .dataframe tbody tr th {\n",
       "        vertical-align: top;\n",
       "    }\n",
       "\n",
       "    .dataframe thead th {\n",
       "        text-align: right;\n",
       "    }\n",
       "</style>\n",
       "<table border=\"1\" class=\"dataframe\">\n",
       "  <thead>\n",
       "    <tr style=\"text-align: right;\">\n",
       "      <th></th>\n",
       "      <th>state.name</th>\n",
       "      <th>Obama</th>\n",
       "      <th>McCain</th>\n",
       "      <th>EV</th>\n",
       "      <th>margin</th>\n",
       "      <th>Obama</th>\n",
       "      <th>Romney</th>\n",
       "      <th>EV</th>\n",
       "    </tr>\n",
       "  </thead>\n",
       "  <tbody>\n",
       "    <tr>\n",
       "      <th>DC</th>\n",
       "      <td>D.C.</td>\n",
       "      <td>92</td>\n",
       "      <td>7</td>\n",
       "      <td>3</td>\n",
       "      <td>85</td>\n",
       "      <td>91</td>\n",
       "      <td>7</td>\n",
       "      <td>3</td>\n",
       "    </tr>\n",
       "    <tr>\n",
       "      <th>DE</th>\n",
       "      <td>Delaware</td>\n",
       "      <td>62</td>\n",
       "      <td>37</td>\n",
       "      <td>3</td>\n",
       "      <td>25</td>\n",
       "      <td>59</td>\n",
       "      <td>40</td>\n",
       "      <td>3</td>\n",
       "    </tr>\n",
       "  </tbody>\n",
       "</table>\n",
       "</div>"
      ],
      "text/plain": [
       "   state.name  Obama  McCain  EV  margin  Obama  Romney  EV\n",
       "DC       D.C.     92       7   3      85     91       7   3\n",
       "DE   Delaware     62      37   3      25     59      40   3"
      ]
     },
     "execution_count": 46,
     "metadata": {},
     "output_type": "execute_result"
    }
   ],
   "source": [
    "pres2 = pd.concat([pres08.set_index('state'), \n",
    "                   pres12.set_index('state_abb')], axis='columns')\n",
    "\n",
    "pres2.iloc[7:9]"
   ]
  },
  {
   "cell_type": "markdown",
   "metadata": {},
   "source": [
    "Pandas and numpy do not have built-in z-score functions. We can either calculate the z-scores manually, use the zscore function from the scipy module, or build a simple function of our own. In this case, the final option is straightforward."
   ]
  },
  {
   "cell_type": "code",
   "execution_count": 47,
   "metadata": {},
   "outputs": [
    {
     "data": {
      "text/plain": [
       "Intercept     -2.914335e-16\n",
       "Obama2008_z    9.834419e-01\n",
       "dtype: float64"
      ]
     },
     "execution_count": 47,
     "metadata": {},
     "output_type": "execute_result"
    }
   ],
   "source": [
    "# define a function to standardize a vector (calculate z-scores)\n",
    "def standardize(x):\n",
    "    return (x - x.mean()) / x.std()\n",
    "\n",
    "pres['Obama2008_z'] = standardize(pres['Obama_x'])\n",
    "pres['Obama2012_z'] = standardize(pres['Obama_y'])\n",
    "\n",
    "# estimated intercept is essentially zero   \n",
    "fit1 = smf.ols('Obama2012_z ~ Obama2008_z', data=pres).fit()\n",
    "fit1.params"
   ]
  },
  {
   "cell_type": "code",
   "execution_count": 48,
   "metadata": {},
   "outputs": [
    {
     "data": {
      "text/plain": [
       "Obama2008_z    0.983442\n",
       "dtype: float64"
      ]
     },
     "execution_count": 48,
     "metadata": {},
     "output_type": "execute_result"
    }
   ],
   "source": [
    "# regression without an intercept\n",
    "fit1 = smf.ols('Obama2012_z ~ -1 + Obama2008_z', data=pres).fit()\n",
    "\n",
    "# estimated slope is identical\n",
    "fit1.params"
   ]
  },
  {
   "cell_type": "code",
   "execution_count": 49,
   "metadata": {},
   "outputs": [
    {
     "data": {
      "text/plain": [
       "<seaborn.axisgrid.FacetGrid at 0x1ea971b14b0>"
      ]
     },
     "execution_count": 49,
     "metadata": {},
     "output_type": "execute_result"
    },
    {
     "data": {
      "image/png": "[encoded data removed]",
      "text/plain": [
       "<Figure size 600x400 with 1 Axes>"
      ]
     },
     "metadata": {},
     "output_type": "display_data"
    }
   ],
   "source": [
    "# plot using seaborn's built-in lmplot function\n",
    "sns.lmplot(\n",
    "    data=pres, x='Obama2008_z', y='Obama2012_z', ci=None, truncate=False,\n",
    "    height=4, aspect=1.5,\n",
    ").set(xlim=(-4, 4), ylim=(-4, 4), \n",
    "      xlabel=\"Obama's standardized vote share in 2008\",\n",
    "      ylabel=\"Obama's standardized vote share in 2012\").despine(\n",
    "          right=False, top=False) "
   ]
  },
  {
   "cell_type": "markdown",
   "metadata": {},
   "source": [
    "*Setting `truncate=False` extends the regression line a bit past the data range, but only up to the axis limits that `lmplot()` sets internally, not to the axis limits we set manually in `.set()`.*"
   ]
  },
  {
   "cell_type": "code",
   "execution_count": 50,
   "metadata": {},
   "outputs": [
    {
     "data": {
      "text/plain": [
       "0.5714285714285714"
      ]
     },
     "execution_count": 50,
     "metadata": {},
     "output_type": "execute_result"
    }
   ],
   "source": [
    "# bottom quartile\n",
    "((pres['Obama2012_z'] > pres['Obama2008_z'])[\n",
    "    (pres['Obama2008_z'] <= pres['Obama2008_z'].quantile(0.25))].mean())"
   ]
  },
  {
   "cell_type": "code",
   "execution_count": 51,
   "metadata": {},
   "outputs": [
    {
     "data": {
      "text/plain": [
       "0.46153846153846156"
      ]
     },
     "execution_count": 51,
     "metadata": {},
     "output_type": "execute_result"
    }
   ],
   "source": [
    "# top quartile\n",
    "((pres['Obama2012_z'] > pres['Obama2008_z'])[\n",
    "    (pres['Obama2008_z'] >= pres['Obama2008_z'].quantile(0.75))].mean())"
   ]
  },
  {
   "cell_type": "markdown",
   "metadata": {},
   "source": [
    "### Section 4.2.6: Model Fit {-}"
   ]
  },
  {
   "cell_type": "code",
   "execution_count": 52,
   "metadata": {},
   "outputs": [
    {
     "data": {
      "text/plain": [
       "Intercept    1.345752\n",
       "Perot96      0.035915\n",
       "dtype: float64"
      ]
     },
     "execution_count": 52,
     "metadata": {},
     "output_type": "execute_result"
    }
   ],
   "source": [
    "florida = pd.read_csv('florida.csv')\n",
    "\n",
    "# regress Buchanan's 2000 votes on Perot's 1996 votes\n",
    "fit2 = smf.ols('Buchanan00 ~ Perot96', data=florida).fit()\n",
    "\n",
    "fit2.params"
   ]
  },
  {
   "cell_type": "code",
   "execution_count": 53,
   "metadata": {},
   "outputs": [
    {
     "data": {
      "text/plain": [
       "0.513033325505709"
      ]
     },
     "execution_count": 53,
     "metadata": {},
     "output_type": "execute_result"
    }
   ],
   "source": [
    "# compute TSS (total sum of squares)\n",
    "TSS2 = ((florida['Buchanan00'] - florida['Buchanan00'].mean())**2).sum()\n",
    "\n",
    "# compute SSR (sum of squared residuals)\n",
    "SSR2 = (fit2.resid**2).sum()\n",
    "\n",
    "# Coefficient of determination (R-squared)\n",
    "(TSS2 - SSR2) / TSS2"
   ]
  },
  {
   "cell_type": "code",
   "execution_count": 54,
   "metadata": {},
   "outputs": [
    {
     "data": {
      "text/plain": [
       "0.513033325505709"
      ]
     },
     "execution_count": 54,
     "metadata": {},
     "output_type": "execute_result"
    }
   ],
   "source": [
    "def R2(fit):\n",
    "    resid = fit.resid # residuals\n",
    "    y = fit.fittedvalues + resid # outcome variable\n",
    "    TSS = ((y - y.mean())**2).sum()\n",
    "    SSR = (resid**2).sum()\n",
    "    R2 = (TSS - SSR) / TSS\n",
    "    return R2\n",
    "\n",
    "R2(fit2)"
   ]
  },
  {
   "cell_type": "code",
   "execution_count": 55,
   "metadata": {},
   "outputs": [
    {
     "data": {
      "text/plain": [
       "0.5130333255057089"
      ]
     },
     "execution_count": 55,
     "metadata": {},
     "output_type": "execute_result"
    }
   ],
   "source": [
    "# built-in statsmodels R2 attribute\n",
    "fit2.rsquared"
   ]
  },
  {
   "cell_type": "code",
   "execution_count": 56,
   "metadata": {},
   "outputs": [
    {
     "data": {
      "text/plain": [
       "0.9671579118703088"
      ]
     },
     "execution_count": 56,
     "metadata": {},
     "output_type": "execute_result"
    }
   ],
   "source": [
    "fit1.rsquared"
   ]
  },
  {
   "cell_type": "code",
   "execution_count": 57,
   "metadata": {},
   "outputs": [
    {
     "data": {
      "text/plain": [
       "<matplotlib.lines.Line2D at 0x1ea971b13f0>"
      ]
     },
     "execution_count": 57,
     "metadata": {},
     "output_type": "execute_result"
    },
    {
     "data": {
      "image/png": "[encoded data removed]",
      "text/plain": [
       "<Figure size 600x400 with 1 Axes>"
      ]
     },
     "metadata": {},
     "output_type": "display_data"
    }
   ],
   "source": [
    "sns.set_theme(style=\"ticks\")\n",
    "\n",
    "sns.relplot(\n",
    "    x=fit2.fittedvalues, y=fit2.resid, height=4, aspect=1.5\n",
    ").set(xlabel='Fitted values', ylabel='Residuals', title='Residual plot',\n",
    "      xlim=(0,1500), ylim=(-750, 2500))\n",
    "\n",
    "plt.axhline(y=0, color='black', linestyle='--')"
   ]
  },
  {
   "cell_type": "code",
   "execution_count": 58,
   "metadata": {},
   "outputs": [
    {
     "data": {
      "text/plain": [
       "49    PalmBeach\n",
       "Name: county, dtype: object"
      ]
     },
     "execution_count": 58,
     "metadata": {},
     "output_type": "execute_result"
    }
   ],
   "source": [
    "florida['county'][fit2.resid == fit2.resid.max()]"
   ]
  },
  {
   "cell_type": "code",
   "execution_count": 59,
   "metadata": {},
   "outputs": [
    {
     "data": {
      "text/plain": [
       "Intercept    45.841933\n",
       "Perot96       0.024352\n",
       "dtype: float64"
      ]
     },
     "execution_count": 59,
     "metadata": {},
     "output_type": "execute_result"
    }
   ],
   "source": [
    "# data without palm beach \n",
    "florida_pb = florida.loc[florida.county != 'PalmBeach'].copy()\n",
    "\n",
    "fit3 = smf.ols('Buchanan00 ~ Perot96', data=florida_pb).fit()\n",
    "\n",
    "fit3.params"
   ]
  },
  {
   "cell_type": "code",
   "execution_count": 60,
   "metadata": {},
   "outputs": [
    {
     "data": {
      "text/plain": [
       "0.8511674585300796"
      ]
     },
     "execution_count": 60,
     "metadata": {},
     "output_type": "execute_result"
    }
   ],
   "source": [
    "R2(fit3)"
   ]
  },
  {
   "cell_type": "code",
   "execution_count": 61,
   "metadata": {},
   "outputs": [
    {
     "data": {
      "text/plain": [
       "<matplotlib.lines.Line2D at 0x1ea972dfb50>"
      ]
     },
     "execution_count": 61,
     "metadata": {},
     "output_type": "execute_result"
    },
    {
     "data": {
      "image/png": "[encoded data removed]",
      "text/plain": [
       "<Figure size 600x400 with 1 Axes>"
      ]
     },
     "metadata": {},
     "output_type": "display_data"
    }
   ],
   "source": [
    "sns.relplot(\n",
    "    x=fit3.fittedvalues, y=fit3.resid, height=4, aspect=1.5\n",
    ").set(xlabel='Fitted values', ylabel='Residuals', \n",
    "      title='Residual plot without Palm Beach',\n",
    "      xlim=(0,1500), ylim=(-750, 2500))\n",
    "\n",
    "plt.axhline(y=0, color='black', linestyle='--')"
   ]
  },
  {
   "cell_type": "code",
   "execution_count": 62,
   "metadata": {},
   "outputs": [
    {
     "data": {
      "text/plain": [
       "Text(26500, 330, 'regression without\\nPalm Beach')"
      ]
     },
     "execution_count": 62,
     "metadata": {},
     "output_type": "execute_result"
    },
    {
     "data": {
      "image/png": "[encoded data removed]",
      "text/plain": [
       "<Figure size 600x400 with 1 Axes>"
      ]
     },
     "metadata": {},
     "output_type": "display_data"
    }
   ],
   "source": [
    "# plot both regression lines on the same scatterplot\n",
    "\n",
    "# use seaborn's lmplot() to plot the regression line associated with fit2\n",
    "sns.lmplot(\n",
    "    data=florida, x='Perot96', y='Buchanan00', ci=None, truncate=False,\n",
    "    height=4, aspect=1.5, \n",
    "    line_kws={'color': 'black', 'linestyle': '--', 'linewidth': 0.75},\n",
    ").set(xlabel=\"Perot's votes in 1996\", \n",
    "      ylabel=\"Buchanan's votes in 2000\").despine(right=False, top=False)\n",
    "\n",
    "# store the x-axis limits from the plot\n",
    "x_lim = plt.gca().get_xlim()\n",
    "\n",
    "# store the limits as a data frame with the same column name as the predictor\n",
    "# note: we only need two points to plot a linear regression line\n",
    "x_values = pd.DataFrame({'Perot96': x_lim})\n",
    "\n",
    "# use the fit3 model and the predict method to generate y values\n",
    "y_values = fit3.predict(x_values)\n",
    "\n",
    "# plot the regression line associated with fit3\n",
    "plt.plot(x_values, y_values, color='black', linewidth=0.75)\n",
    "\n",
    "plt.text(x=31500, y=3300, s='Palm Beach')\n",
    "plt.text(x=26500, y=1300, s='regression with\\nPalm Beach')\n",
    "plt.text(x=26500, y=330, s='regression without\\nPalm Beach')"
   ]
  },
  {
   "cell_type": "markdown",
   "metadata": {},
   "source": [
    "## Section 4.3: Regression and Causation {-}\n",
    "\n",
    "### Section 4.3.1: Randomized Experiments {-}"
   ]
  },
  {
   "cell_type": "code",
   "execution_count": 63,
   "metadata": {},
   "outputs": [
    {
     "data": {
      "text/plain": [
       "1.0"
      ]
     },
     "execution_count": 63,
     "metadata": {},
     "output_type": "execute_result"
    }
   ],
   "source": [
    "women = pd.read_csv('women.csv')\n",
    "\n",
    "# proportion of female politicians in reserved GP vs. unreserved GP\n",
    "women['female'][women.reserved==1].mean()"
   ]
  },
  {
   "cell_type": "code",
   "execution_count": 64,
   "metadata": {},
   "outputs": [
    {
     "data": {
      "text/plain": [
       "0.07476635514018691"
      ]
     },
     "execution_count": 64,
     "metadata": {},
     "output_type": "execute_result"
    }
   ],
   "source": [
    "women['female'][women.reserved==0].mean()"
   ]
  },
  {
   "cell_type": "code",
   "execution_count": 65,
   "metadata": {},
   "outputs": [
    {
     "data": {
      "text/plain": [
       "9.252422983731394"
      ]
     },
     "execution_count": 65,
     "metadata": {},
     "output_type": "execute_result"
    }
   ],
   "source": [
    "# drinking water facilities\n",
    "(women['water'][women.reserved==1].mean() - \n",
    " women['water'][women.reserved==0].mean())"
   ]
  },
  {
   "cell_type": "code",
   "execution_count": 66,
   "metadata": {},
   "outputs": [
    {
     "data": {
      "text/plain": [
       "-0.369331948771201"
      ]
     },
     "execution_count": 66,
     "metadata": {},
     "output_type": "execute_result"
    }
   ],
   "source": [
    "# irrigation facilities\n",
    "(women['irrigation'][women.reserved==1].mean() - \n",
    " women['irrigation'][women.reserved==0].mean())"
   ]
  },
  {
   "cell_type": "code",
   "execution_count": 67,
   "metadata": {},
   "outputs": [
    {
     "data": {
      "text/plain": [
       "Intercept    14.738318\n",
       "reserved      9.252423\n",
       "dtype: float64"
      ]
     },
     "execution_count": 67,
     "metadata": {},
     "output_type": "execute_result"
    }
   ],
   "source": [
    "smf.ols('water ~ reserved', data=women).fit().params"
   ]
  },
  {
   "cell_type": "code",
   "execution_count": 68,
   "metadata": {},
   "outputs": [
    {
     "data": {
      "text/plain": [
       "Intercept    3.387850\n",
       "reserved    -0.369332\n",
       "dtype: float64"
      ]
     },
     "execution_count": 68,
     "metadata": {},
     "output_type": "execute_result"
    }
   ],
   "source": [
    "smf.ols('irrigation ~ reserved', data=women).fit().params"
   ]
  },
  {
   "cell_type": "markdown",
   "metadata": {},
   "source": [
    "### Section 4.3.2: Regression with Multiple Predictors {-}"
   ]
  },
  {
   "cell_type": "code",
   "execution_count": 69,
   "metadata": {},
   "outputs": [
    {
     "data": {
      "text/plain": [
       "Index(['Control', 'Civic Duty', 'Hawthorne', 'Neighbors'], dtype='object')"
      ]
     },
     "execution_count": 69,
     "metadata": {},
     "output_type": "execute_result"
    }
   ],
   "source": [
    "social = pd.read_csv('social.csv')\n",
    "\n",
    "# convert messages to categorical with Control as the reference category\n",
    "cats = ['Control', 'Civic Duty', 'Hawthorne', 'Neighbors']\n",
    "\n",
    "social['messages'] = (social['messages'].astype('category').\n",
    "                      cat.reorder_categories(cats))\n",
    "\n",
    "social['messages'].cat.categories"
   ]
  },
  {
   "cell_type": "code",
   "execution_count": 70,
   "metadata": {},
   "outputs": [
    {
     "data": {
      "text/plain": [
       "messages\n",
       "Control       191243\n",
       "Civic Duty     38218\n",
       "Hawthorne      38204\n",
       "Neighbors      38201\n",
       "Name: count, dtype: int64"
      ]
     },
     "execution_count": 70,
     "metadata": {},
     "output_type": "execute_result"
    }
   ],
   "source": [
    "social['messages'].value_counts()"
   ]
  },
  {
   "cell_type": "code",
   "execution_count": 71,
   "metadata": {},
   "outputs": [
    {
     "data": {
      "text/plain": [
       "Intercept                 0.296638\n",
       "messages[T.Civic Duty]    0.017899\n",
       "messages[T.Hawthorne]     0.025736\n",
       "messages[T.Neighbors]     0.081310\n",
       "dtype: float64"
      ]
     },
     "execution_count": 71,
     "metadata": {},
     "output_type": "execute_result"
    }
   ],
   "source": [
    "fit = smf.ols('primary2006 ~ messages', data=social).fit()\n",
    "\n",
    "fit.params"
   ]
  },
  {
   "cell_type": "code",
   "execution_count": 72,
   "metadata": {},
   "outputs": [
    {
     "data": {
      "text/plain": [
       "True"
      ]
     },
     "execution_count": 72,
     "metadata": {},
     "output_type": "execute_result"
    }
   ],
   "source": [
    "# create indicator variables\n",
    "social['Civic_Duty'] = np.where(social['messages']=='Civic Duty', 1, 0)\n",
    "social['Hawthorne'] = np.where(social['messages']=='Hawthorne', 1, 0)\n",
    "social['Neighbors'] = np.where(social['messages']=='Neighbors', 1, 0)\n",
    "\n",
    "# an alternative using pandas get_dummies method\n",
    "dummies = (pd.get_dummies(social['messages'], drop_first=True, dtype='int').\n",
    "           rename(columns={'Civic Duty': 'Civic_Duty'}))\n",
    "\n",
    "social[['Civic_Duty', 'Hawthorne', 'Neighbors']].equals(dummies)"
   ]
  },
  {
   "cell_type": "code",
   "execution_count": 73,
   "metadata": {},
   "outputs": [
    {
     "data": {
      "text/plain": [
       "Intercept     0.296638\n",
       "Civic_Duty    0.017899\n",
       "Hawthorne     0.025736\n",
       "Neighbors     0.081310\n",
       "dtype: float64"
      ]
     },
     "execution_count": 73,
     "metadata": {},
     "output_type": "execute_result"
    }
   ],
   "source": [
    "# fit the same regression as above using the indicator variables\n",
    "smf.ols('primary2006 ~ Civic_Duty + Hawthorne + Neighbors', \n",
    "        data=social).fit().params"
   ]
  },
  {
   "cell_type": "code",
   "execution_count": 74,
   "metadata": {},
   "outputs": [
    {
     "data": {
      "text/html": [
       "<div>\n",
       "<style scoped>\n",
       "    .dataframe tbody tr th:only-of-type {\n",
       "        vertical-align: middle;\n",
       "    }\n",
       "\n",
       "    .dataframe tbody tr th {\n",
       "        vertical-align: top;\n",
       "    }\n",
       "\n",
       "    .dataframe thead th {\n",
       "        text-align: right;\n",
       "    }\n",
       "</style>\n",
       "<table border=\"1\" class=\"dataframe\">\n",
       "  <thead>\n",
       "    <tr style=\"text-align: right;\">\n",
       "      <th></th>\n",
       "      <th>messages</th>\n",
       "    </tr>\n",
       "  </thead>\n",
       "  <tbody>\n",
       "    <tr>\n",
       "      <th>0</th>\n",
       "      <td>Control</td>\n",
       "    </tr>\n",
       "    <tr>\n",
       "      <th>1</th>\n",
       "      <td>Civic Duty</td>\n",
       "    </tr>\n",
       "    <tr>\n",
       "      <th>2</th>\n",
       "      <td>Hawthorne</td>\n",
       "    </tr>\n",
       "    <tr>\n",
       "      <th>3</th>\n",
       "      <td>Neighbors</td>\n",
       "    </tr>\n",
       "  </tbody>\n",
       "</table>\n",
       "</div>"
      ],
      "text/plain": [
       "     messages\n",
       "0     Control\n",
       "1  Civic Duty\n",
       "2   Hawthorne\n",
       "3   Neighbors"
      ]
     },
     "execution_count": 74,
     "metadata": {},
     "output_type": "execute_result"
    }
   ],
   "source": [
    "# create a data frame with unique values of messages\n",
    "unique_messages = pd.DataFrame({'messages': social['messages'].cat.categories})\n",
    "\n",
    "unique_messages"
   ]
  },
  {
   "cell_type": "code",
   "execution_count": 75,
   "metadata": {},
   "outputs": [
    {
     "data": {
      "text/plain": [
       "0    0.296638\n",
       "1    0.314538\n",
       "2    0.322375\n",
       "3    0.377948\n",
       "dtype: float64"
      ]
     },
     "execution_count": 75,
     "metadata": {},
     "output_type": "execute_result"
    }
   ],
   "source": [
    "# make prediction for each observation from the new data frame\n",
    "fit.predict(unique_messages)"
   ]
  },
  {
   "cell_type": "code",
   "execution_count": 76,
   "metadata": {},
   "outputs": [
    {
     "data": {
      "text/plain": [
       "messages\n",
       "Control       0.296638\n",
       "Civic Duty    0.314538\n",
       "Hawthorne     0.322375\n",
       "Neighbors     0.377948\n",
       "Name: primary2006, dtype: float64"
      ]
     },
     "execution_count": 76,
     "metadata": {},
     "output_type": "execute_result"
    }
   ],
   "source": [
    "# sample average\n",
    "social.groupby('messages')['primary2006'].mean()"
   ]
  },
  {
   "cell_type": "code",
   "execution_count": 77,
   "metadata": {},
   "outputs": [
    {
     "data": {
      "text/plain": [
       "messages[Control]       0.296638\n",
       "messages[Civic Duty]    0.314538\n",
       "messages[Hawthorne]     0.322375\n",
       "messages[Neighbors]     0.377948\n",
       "dtype: float64"
      ]
     },
     "execution_count": 77,
     "metadata": {},
     "output_type": "execute_result"
    }
   ],
   "source": [
    "# linear regression without intercept\n",
    "fit_noint = smf.ols('primary2006 ~ -1 + messages', data=social).fit()\n",
    "\n",
    "fit_noint.params"
   ]
  },
  {
   "cell_type": "code",
   "execution_count": 78,
   "metadata": {},
   "outputs": [
    {
     "data": {
      "text/plain": [
       "0.0813099"
      ]
     },
     "execution_count": 78,
     "metadata": {},
     "output_type": "execute_result"
    }
   ],
   "source": [
    "# estimated average effect of Neighbors condition\n",
    "fit.params['messages[T.Neighbors]'].round(7)"
   ]
  },
  {
   "cell_type": "code",
   "execution_count": 79,
   "metadata": {},
   "outputs": [
    {
     "data": {
      "text/plain": [
       "0.0813099"
      ]
     },
     "execution_count": 79,
     "metadata": {},
     "output_type": "execute_result"
    }
   ],
   "source": [
    "# difference in means\n",
    "(social['primary2006'][social['messages']=='Neighbors'].mean() - \n",
    " social['primary2006'][social['messages']=='Control'].mean()).round(7)"
   ]
  },
  {
   "cell_type": "code",
   "execution_count": 80,
   "metadata": {},
   "outputs": [
    {
     "data": {
      "text/plain": [
       "0.0032728"
      ]
     },
     "execution_count": 80,
     "metadata": {},
     "output_type": "execute_result"
    }
   ],
   "source": [
    "# adjusted Rsqure\n",
    "def adjR2(fit):\n",
    "    resid = fit.resid # residuals\n",
    "    y = fit.fittedvalues + resid # outcome variable\n",
    "    n = len(y)\n",
    "    p = len(fit.params)\n",
    "    TSS_adj = ((y - y.mean())**2).sum() / (n - 1)\n",
    "    SSR_adj = (resid**2).sum() / (n - p)\n",
    "    R2_adj = 1 - SSR_adj / TSS_adj\n",
    "    return R2_adj\n",
    "\n",
    "adjR2(fit).round(7)"
   ]
  },
  {
   "cell_type": "code",
   "execution_count": 81,
   "metadata": {},
   "outputs": [
    {
     "data": {
      "text/plain": [
       "0.0032826"
      ]
     },
     "execution_count": 81,
     "metadata": {},
     "output_type": "execute_result"
    }
   ],
   "source": [
    "R2(fit).round(7) # unadjusted Rsquare calculation"
   ]
  },
  {
   "cell_type": "code",
   "execution_count": 82,
   "metadata": {},
   "outputs": [
    {
     "data": {
      "text/plain": [
       "0.0032728"
      ]
     },
     "execution_count": 82,
     "metadata": {},
     "output_type": "execute_result"
    }
   ],
   "source": [
    "fit.rsquared_adj.round(7)"
   ]
  },
  {
   "cell_type": "markdown",
   "metadata": {},
   "source": [
    "### Section 4.3.3: Heterogeneous Treatment Effects {-}"
   ]
  },
  {
   "cell_type": "code",
   "execution_count": 83,
   "metadata": {},
   "outputs": [
    {
     "data": {
      "text/plain": [
       "0.09652525355693264"
      ]
     },
     "execution_count": 83,
     "metadata": {},
     "output_type": "execute_result"
    }
   ],
   "source": [
    "# average treatment effect (ATE) among those who voted in 2004 primary\n",
    "social_voter = social.loc[social['primary2004']==1].copy()\n",
    "\n",
    "ate_voter = (\n",
    "    social_voter['primary2006'][social_voter['messages']=='Neighbors'].mean() \n",
    "    - social_voter['primary2006'][social_voter['messages']=='Control'].mean()\n",
    ")\n",
    "\n",
    "ate_voter"
   ]
  },
  {
   "cell_type": "code",
   "execution_count": 84,
   "metadata": {},
   "outputs": [
    {
     "data": {
      "text/plain": [
       "0.0692961746200847"
      ]
     },
     "execution_count": 84,
     "metadata": {},
     "output_type": "execute_result"
    }
   ],
   "source": [
    "# ATE among those who did not vote in 2004 primary\n",
    "social_nonvoter = social.loc[social['primary2004']==0].copy()\n",
    "\n",
    "ate_nonvoter = (\n",
    "    social_nonvoter['primary2006'][social_nonvoter['messages']=='Neighbors'].\n",
    "    mean() - \n",
    "    social_nonvoter['primary2006'][social_nonvoter['messages']=='Control'].\n",
    "    mean()\n",
    ")\n",
    "\n",
    "ate_nonvoter"
   ]
  },
  {
   "cell_type": "code",
   "execution_count": 85,
   "metadata": {},
   "outputs": [
    {
     "data": {
      "text/plain": [
       "0.02722907893684795"
      ]
     },
     "execution_count": 85,
     "metadata": {},
     "output_type": "execute_result"
    }
   ],
   "source": [
    "# difference\n",
    "ate_voter - ate_nonvoter"
   ]
  },
  {
   "cell_type": "code",
   "execution_count": 86,
   "metadata": {},
   "outputs": [
    {
     "data": {
      "text/plain": [
       "Intercept                            0.237110\n",
       "messages[T.Neighbors]                0.069296\n",
       "primary2004                          0.148695\n",
       "primary2004:messages[T.Neighbors]    0.027229\n",
       "dtype: float64"
      ]
     },
     "execution_count": 86,
     "metadata": {},
     "output_type": "execute_result"
    }
   ],
   "source": [
    "# subset neighbors and control groups\n",
    "social_neighbor = (\n",
    "    social.loc[social['messages'].isin(['Control', 'Neighbors'])].copy()\n",
    ")\n",
    "\n",
    "# re-encode the categorical variable to remove original levels\n",
    "social_neighbor['messages'] = (\n",
    "    social_neighbor['messages'].astype('object').astype('category')\n",
    ")\n",
    "\n",
    "# standard way to generate main and interaction effects\n",
    "fit_int = smf.ols(\n",
    "    'primary2006 ~ primary2004 + messages + primary2004:messages',\n",
    "    data=social_neighbor).fit()\n",
    "\n",
    "fit_int.params"
   ]
  },
  {
   "cell_type": "code",
   "execution_count": 87,
   "metadata": {},
   "outputs": [
    {
     "data": {
      "text/plain": [
       "count    229444.00\n",
       "mean         49.82\n",
       "std          14.46\n",
       "min          20.00\n",
       "25%          41.00\n",
       "50%          50.00\n",
       "75%          59.00\n",
       "max         106.00\n",
       "Name: age, dtype: float64"
      ]
     },
     "execution_count": 87,
     "metadata": {},
     "output_type": "execute_result"
    }
   ],
   "source": [
    "social_neighbor['age'] = 2006 - social_neighbor['yearofbirth']\n",
    "\n",
    "social_neighbor['age'].describe().round(2)"
   ]
  },
  {
   "cell_type": "code",
   "execution_count": 88,
   "metadata": {},
   "outputs": [
    {
     "data": {
      "text/plain": [
       "Intercept                    0.097473\n",
       "messages[T.Neighbors]        0.049829\n",
       "age                          0.003998\n",
       "age:messages[T.Neighbors]    0.000628\n",
       "dtype: float64"
      ]
     },
     "execution_count": 88,
     "metadata": {},
     "output_type": "execute_result"
    }
   ],
   "source": [
    "fit_age = smf.ols('primary2006 ~ age * messages', data=social_neighbor).fit()\n",
    "\n",
    "fit_age.params"
   ]
  },
  {
   "cell_type": "code",
   "execution_count": 89,
   "metadata": {},
   "outputs": [
    {
     "data": {
      "text/plain": [
       "0    0.065537\n",
       "1    0.078103\n",
       "2    0.090669\n",
       "3    0.103236\n",
       "dtype: float64"
      ]
     },
     "execution_count": 89,
     "metadata": {},
     "output_type": "execute_result"
    }
   ],
   "source": [
    "# age = 25, 45, 65, 85 in Neighbors group\n",
    "age_neighbor = pd.DataFrame({'age': np.arange(25, 86, 20), \n",
    "                             'messages': 'Neighbors'})\n",
    "\n",
    "# age = 25, 45, 65, 85 in Control group\n",
    "age_control = pd.DataFrame({'age': np.arange(25, 86, 20), \n",
    "                            'messages': 'Control'})\n",
    "\n",
    "# average treatment effect for age = 25, 45, 65, 85\n",
    "ate_age = fit_age.predict(age_neighbor) - fit_age.predict(age_control)\n",
    "\n",
    "ate_age"
   ]
  },
  {
   "cell_type": "code",
   "execution_count": 90,
   "metadata": {},
   "outputs": [
    {
     "data": {
      "text/plain": [
       "Intercept                           -0.073846\n",
       "messages[T.Neighbors]               -0.043302\n",
       "age                                  0.011427\n",
       "age:messages[T.Neighbors]            0.004646\n",
       "I(age ** 2)                         -0.000074\n",
       "I(age ** 2):messages[T.Neighbors]   -0.000040\n",
       "dtype: float64"
      ]
     },
     "execution_count": 90,
     "metadata": {},
     "output_type": "execute_result"
    }
   ],
   "source": [
    "fit_age2 = smf.ols(\n",
    "    # note: concatenate two strings with '+'\n",
    "    'primary2006 ~ age + I(age**2) + messages + age:messages + ' + \n",
    "    'I(age**2):messages', data=social_neighbor).fit()\n",
    "\n",
    "fit_age2.params"
   ]
  },
  {
   "cell_type": "code",
   "execution_count": 91,
   "metadata": {},
   "outputs": [
    {
     "data": {
      "text/plain": [
       "0    0.048091\n",
       "1    0.050717\n",
       "2    0.053264\n",
       "3    0.055731\n",
       "4    0.058120\n",
       "dtype: float64"
      ]
     },
     "execution_count": 91,
     "metadata": {},
     "output_type": "execute_result"
    }
   ],
   "source": [
    "# predict turnout rate under the Neighbors treatment condition\n",
    "yT_hat = fit_age2.predict(pd.DataFrame({'age': np.arange(25, 86), \n",
    "                                        'messages': 'Neighbors'}))\n",
    "\n",
    "# predict turnout rate under the Control condition\n",
    "yC_hat = fit_age2.predict(pd.DataFrame({'age': np.arange(25, 86), \n",
    "                                        'messages': 'Control'}))\n",
    "\n",
    "# save ATE \n",
    "ate_age2 = yT_hat - yC_hat\n",
    "\n",
    "ate_age2.head()"
   ]
  },
  {
   "cell_type": "code",
   "execution_count": 92,
   "metadata": {},
   "outputs": [
    {
     "data": {
      "text/plain": [
       "[Text(0.5, 0, 'Age'),\n",
       " Text(0, 0.5, 'Estimated average treatment effect'),\n",
       " (20.0, 90.0),\n",
       " (0.0, 0.1)]"
      ]
     },
     "execution_count": 92,
     "metadata": {},
     "output_type": "execute_result"
    },
    {
     "data": {
      "image/png": "[encoded data removed]",
      "text/plain": [
       "<Figure size 1200x500 with 2 Axes>"
      ]
     },
     "metadata": {},
     "output_type": "display_data"
    }
   ],
   "source": [
    "# create subplots\n",
    "fig, axs = plt.subplots(1, 2, figsize=(12, 5))\n",
    "\n",
    "# plotting the predicted turnout rate under each condition\n",
    "sns.lineplot(\n",
    "    x=np.arange(25, 86), y=yT_hat, color='black', linewidth=0.75, ax=axs[0]\n",
    ").set(xlabel='Age', ylabel='Predicted turnout rate', \n",
    "      xlim=(20, 90), ylim=(0, 0.5))\n",
    "\n",
    "sns.lineplot(\n",
    "    x=np.arange(25, 86), y=yC_hat, color='black', linewidth=0.75, \n",
    "    linestyle='--', ax=axs[0]\n",
    ")\n",
    "\n",
    "# add text labels\n",
    "axs[0].text(x=25, y=0.41, s='Neighbors condition', color='black')\n",
    "axs[0].text(x=40, y=0.23, s='Control condition', color='black')\n",
    "\n",
    "# plotting the average treatment effect as a function of age\n",
    "sns.lineplot(\n",
    "    x=np.arange(25, 86), y=ate_age2, color='black', linewidth=0.75, ax=axs[1]\n",
    ").set(xlabel='Age', ylabel='Estimated average treatment effect', \n",
    "      xlim=(20, 90), ylim=(0, 0.1))"
   ]
  },
  {
   "cell_type": "markdown",
   "metadata": {},
   "source": [
    "### Section 4.3.4: Regression Discontinuity Design {-}\n",
    "\n",
    "**In Progress**"
   ]
  },
  {
   "cell_type": "markdown",
   "metadata": {},
   "source": [
    "## Appendix: statsmodels considerations {-}"
   ]
  },
  {
   "cell_type": "markdown",
   "metadata": {},
   "source": [
    "This appendix addresses a few nuances to consider when using the `statsmodels` module. \n",
    "\n",
    "### Section A.1: Interaction with patsy module {-}\n",
    "\n",
    "### Section A.2: Variable names {-}\n",
    "\n",
    "### Section A.3: Object oriented programming (OOP) workflow {-}\n",
    "\n",
    "**In Progress** "
   ]
  }
 ],
 "metadata": {
  "authors": [
   {
    "name": "Kosuke Imai"
   },
   {
    "name": "Python code by Jeff Allen"
   }
  ],
  "date": "First Printing",
  "kernelspec": {
   "display_name": "qss",
   "language": "python",
   "name": "python3"
  },
  "language_info": {
   "codemirror_mode": {
    "name": "ipython",
    "version": 3
   },
   "file_extension": ".py",
   "mimetype": "text/x-python",
   "name": "python",
   "nbconvert_exporter": "python",
   "pygments_lexer": "ipython3",
   "version": "3.10.11"
  },
  "orig_nbformat": 4,
  "title": "Python Code for QSS Chapter 4: Prediction"
 },
 "nbformat": 4,
 "nbformat_minor": 2
}
